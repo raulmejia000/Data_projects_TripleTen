{
 "cells": [
  {
   "cell_type": "markdown",
   "metadata": {},
   "source": [
    "<div style=\"border: 5px solid purple; padding: 10px; margin: 5px\">\n",
    "<b> Svetlana's comment 2 </b>\n",
    "\n",
    "Thank you for the updates! You can find my new comments with digit 2. You did a great job here! You learned how to build and evaluate models to predict used car prices. You have successfully conducted EDA, handled missing values and outliers. You trained and tuned several models, compared their RMSE and speed, and chose the best model for the final testing. You learned how to prepare and encode large data and how to weigh training speed vs. prediction error, and why this matters in real-world applications. I hope you enjoyed this project! I do not have any questions, so the project can be accepted. Good luck! \n",
    "\n",
    "    \n",
    "</div>"
   ]
  },
  {
   "cell_type": "markdown",
   "metadata": {},
   "source": [
    "<div style=\"border: 5px solid purple; padding: 10px; margin: 5px\">\n",
    "<b>   Svetlana's comment  </b>\n",
    "      \n",
    "Hi Raul, my name is Svetlana (my handle on Discord is `svetatripleten`). Congratulations on submitting another project! 🎉 I will be using the standard the color marking:\n",
    "    \n",
    "\n",
    "   \n",
    "    \n",
    "<div style=\"border: 5px solid green; padding: 10px; margin: 5px\">\n",
    "\n",
    "Great solutions and ideas that can and should be used in the future are in green comments. Some of them are: \n",
    "    \n",
    "    \n",
    "- You have successfully prepared the subsets. It is important to split the data correctly in order to ensure there's no intersection;    \n",
    "    \n",
    "\n",
    "- Handled outliers; \n",
    "    \n",
    " \n",
    "- Excluded irrelevant columns to reduce computational cost;\n",
    "    \n",
    "    \n",
    "- Encoded cetegorical columns;    \n",
    "  \n",
    "    \n",
    "- Trained and compared several models, great!\n",
    "\n",
    "    \n",
    "- Measured their training and prediction speed.\n",
    "   \n",
    "\n",
    "- Analyzed metrics. It is not enough to just fit the model and print the result. Instead, we have to analyze the results as it helps us identify what can be improved;\n",
    "\n",
    "    \n",
    "    \n",
    "- Wrote an excellent conclusion! A well-written conclusion shows how the project met its objectives and provides a concise and understandable summary for those who may not have been involved in the details of the project. Good job! \n",
    "\n",
    "</div>\n",
    "    \n",
    "<div style=\"border: 5px solid gold; padding: 10px; margin: 5px\">\n",
    "<b> Reviewer's comment </b>\n",
    "\n",
    "Yellow color indicates what should be optimized. This is not necessary, but it will be great if you make changes to this project. I've left several recommendations throughout the project. Please take a look.\n",
    " \n",
    "</div>\n",
    "<div style=\"border: 5px solid red; padding: 10px; margin: 5px\">\n",
    "<b> Reviewer's comment </b>\n",
    "\n",
    "Issues that must be corrected to achieve accurate results are indicated in red comments. Please note that the project cannot be accepted until these issues are resolved. For instance, please check the data for the duplicates after you drop columns. If a dropped column contained unique values (ID or timestamp), removing it may make multiple rows appear the same;\n",
    "\n",
    "</div>        \n",
    "<hr>\n",
    "    \n",
    "<font color='dodgerblue'>**To sum up:**</font> great job here! You demonstrated strong analytical and modeling skills by preparing the data, experimenting with multiple advanced models, and evaluating them with appropriate metrics. The conclusion clearly communicates which model offers the best trade-off between speed and RMSE. There are several issues that need your attention. Please take a look at my comments and do not hesitate to ask questions if some of them seem unclear. I will wait the project for the second review 😊 \n",
    "    \n",
    "\n",
    "<hr>\n",
    "    \n",
    "Please use some color other than those listed to highlight answers to my comments.\n",
    "I would also ask you **not to change, move or delete my comments** to make it easier for me to navigate during the next review.\n",
    "    \n",
    "<hr> \n",
    "    \n",
    "✍️ Some notes:\n",
    "\n",
    "\n",
    "- Here's a link to [Supervised Learning documenation sections](https://scikit-learn.org/stable/supervised_learning.html) that you may find useful.\n",
    "\n",
    "\n",
    "\n",
    "- There are advanced tools such as [ColumnTransformer](https://scikit-learn.org/stable/modules/generated/sklearn.compose.ColumnTransformer.html) and [Pipeline](https://scikit-learn.org/stable/modules/generated/sklearn.pipeline.Pipeline.html). `ColumnTransformer` and `Pipeline` are essential tools that help us create robust, maintainable, and efficient machine learning workflows. They work with data much more effectively. You can handle different data types and it is much easier to avoid data leakage. The code organization is very clean, but it may seem a bit difficult at the beginning. Take a look at this page to learn how to [organize a pipeline with ColumnTransformer](https://scikit-learn.org/stable/auto_examples/compose/plot_column_transformer_mixed_types.html).  \n",
    "<hr>\n",
    "    \n",
    "    \n",
    "📌 Please feel free to schedule a 1:1 sessions with our tutors or TAs Feel free to book 1-1 session [here](https://calendly.com/tripleten-ds-experts-team), join daily coworking sessions, or ask questions in the sprint channels on Discord if you need assistance 😉 \n",
    "</div>"
   ]
  },
  {
   "cell_type": "markdown",
   "metadata": {},
   "source": [
    "Rusty Bargain used car sales service is developing an app to attract new customers. In that app, you can quickly find out the market value of your car. You have access to historical data: technical specifications, trim versions, and prices. You need to build the model to determine the value. \n",
    "\n",
    "Rusty Bargain is interested in:\n",
    "\n",
    "- the quality of the prediction;\n",
    "- the speed of the prediction;\n",
    "- the time required for training"
   ]
  },
  {
   "cell_type": "markdown",
   "metadata": {},
   "source": [
    "Predicting Used Car Prices for Rusty Bargain Using Machine Learning"
   ]
  },
  {
   "cell_type": "markdown",
   "metadata": {},
   "source": [
    "In this project, I worked with historical data from a used car sales platform called Rusty Bargain. The company is developing an app that estimates the market value of used cars based on their specifications, and I was tasked with building a machine learning model to predict car prices as accurately as possible.\n",
    "\n",
    "The dataset included information such as vehicle type, brand, registration year, mileage, power, fuel type, and whether or not the car had been repaired. My goal was to train and compare different machine learning models—including linear regression, decision tree, random forest, and gradient boosting methods—to find the best balance between prediction accuracy, training time, and speed of prediction.\n",
    "\n",
    "Throughout the project, I cleaned and preprocessed the data, handled missing values, and filtered out unrealistic data entries. Then, I tested several models using the RMSE metric and compared their performance. This project helped me better understand the trade-offs between model complexity and efficiency, especially when working with real-world data."
   ]
  },
  {
   "cell_type": "code",
   "execution_count": 1,
   "metadata": {},
   "outputs": [
    {
     "name": "stdout",
     "output_type": "stream",
     "text": [
      "Requirement already satisfied: catboost in /.venv/lib/python3.9/site-packages (1.0.3)\n",
      "Requirement already satisfied: graphviz in /.venv/lib/python3.9/site-packages (from catboost) (0.20.3)\n",
      "Requirement already satisfied: matplotlib in /.venv/lib/python3.9/site-packages (from catboost) (3.3.4)\n",
      "Requirement already satisfied: numpy>=1.16.0 in /.venv/lib/python3.9/site-packages (from catboost) (1.21.2)\n",
      "Requirement already satisfied: pandas>=0.24.0 in /.venv/lib/python3.9/site-packages (from catboost) (1.2.4)\n",
      "Requirement already satisfied: scipy in /.venv/lib/python3.9/site-packages (from catboost) (1.10.1)\n",
      "Requirement already satisfied: plotly in /.venv/lib/python3.9/site-packages (from catboost) (5.4.0)\n",
      "Requirement already satisfied: six in /.venv/lib/python3.9/site-packages (from catboost) (1.17.0)\n",
      "Requirement already satisfied: python-dateutil>=2.7.3 in /.venv/lib/python3.9/site-packages (from pandas>=0.24.0->catboost) (2.9.0.post0)\n",
      "Requirement already satisfied: pytz>=2017.3 in /.venv/lib/python3.9/site-packages (from pandas>=0.24.0->catboost) (2025.2)\n",
      "Requirement already satisfied: cycler>=0.10 in /.venv/lib/python3.9/site-packages (from matplotlib->catboost) (0.12.1)\n",
      "Requirement already satisfied: kiwisolver>=1.0.1 in /.venv/lib/python3.9/site-packages (from matplotlib->catboost) (1.4.7)\n",
      "Requirement already satisfied: pillow>=6.2.0 in /.venv/lib/python3.9/site-packages (from matplotlib->catboost) (8.4.0)\n",
      "Requirement already satisfied: pyparsing!=2.0.4,!=2.1.2,!=2.1.6,>=2.0.3 in /.venv/lib/python3.9/site-packages (from matplotlib->catboost) (3.2.3)\n",
      "Requirement already satisfied: tenacity>=6.2.0 in /.venv/lib/python3.9/site-packages (from plotly->catboost) (9.1.2)\n"
     ]
    }
   ],
   "source": [
    "!pip install catboost\n"
   ]
  },
  {
   "cell_type": "markdown",
   "metadata": {},
   "source": [
    "## Data preparation"
   ]
  },
  {
   "cell_type": "code",
   "execution_count": 2,
   "metadata": {},
   "outputs": [],
   "source": [
    "import pandas as pd\n",
    "import numpy as np\n",
    "import time\n",
    "from sklearn.model_selection import train_test_split\n",
    "from sklearn.linear_model import LinearRegression\n",
    "from sklearn.tree import DecisionTreeRegressor\n",
    "from sklearn.ensemble import RandomForestRegressor\n",
    "from sklearn.metrics import mean_squared_error\n",
    "from sklearn.preprocessing import StandardScaler\n",
    "\n",
    "from sklearn.model_selection import RandomizedSearchCV\n",
    "from sklearn.dummy import DummyRegressor\n",
    "import lightgbm as lgb\n",
    "from IPython.display import display\n",
    "import matplotlib.pyplot as plt\n",
    "import seaborn as sns\n",
    "\n",
    "from lightgbm import LGBMRegressor\n",
    "from catboost import CatBoostRegressor\n",
    "from time import time\n",
    "import warnings\n",
    "warnings.filterwarnings('ignore')"
   ]
  },
  {
   "cell_type": "code",
   "execution_count": 3,
   "metadata": {},
   "outputs": [],
   "source": [
    "df = pd.read_csv('/datasets/car_data.csv')"
   ]
  },
  {
   "cell_type": "code",
   "execution_count": 4,
   "metadata": {},
   "outputs": [
    {
     "name": "stdout",
     "output_type": "stream",
     "text": [
      "<class 'pandas.core.frame.DataFrame'>\n",
      "RangeIndex: 354369 entries, 0 to 354368\n",
      "Data columns (total 16 columns):\n",
      " #   Column             Non-Null Count   Dtype \n",
      "---  ------             --------------   ----- \n",
      " 0   DateCrawled        354369 non-null  object\n",
      " 1   Price              354369 non-null  int64 \n",
      " 2   VehicleType        316879 non-null  object\n",
      " 3   RegistrationYear   354369 non-null  int64 \n",
      " 4   Gearbox            334536 non-null  object\n",
      " 5   Power              354369 non-null  int64 \n",
      " 6   Model              334664 non-null  object\n",
      " 7   Mileage            354369 non-null  int64 \n",
      " 8   RegistrationMonth  354369 non-null  int64 \n",
      " 9   FuelType           321474 non-null  object\n",
      " 10  Brand              354369 non-null  object\n",
      " 11  NotRepaired        283215 non-null  object\n",
      " 12  DateCreated        354369 non-null  object\n",
      " 13  NumberOfPictures   354369 non-null  int64 \n",
      " 14  PostalCode         354369 non-null  int64 \n",
      " 15  LastSeen           354369 non-null  object\n",
      "dtypes: int64(7), object(9)\n",
      "memory usage: 43.3+ MB\n"
     ]
    },
    {
     "data": {
      "text/plain": [
       "None"
      ]
     },
     "metadata": {},
     "output_type": "display_data"
    },
    {
     "data": {
      "text/html": [
       "<div>\n",
       "<style scoped>\n",
       "    .dataframe tbody tr th:only-of-type {\n",
       "        vertical-align: middle;\n",
       "    }\n",
       "\n",
       "    .dataframe tbody tr th {\n",
       "        vertical-align: top;\n",
       "    }\n",
       "\n",
       "    .dataframe thead th {\n",
       "        text-align: right;\n",
       "    }\n",
       "</style>\n",
       "<table border=\"1\" class=\"dataframe\">\n",
       "  <thead>\n",
       "    <tr style=\"text-align: right;\">\n",
       "      <th></th>\n",
       "      <th>DateCrawled</th>\n",
       "      <th>Price</th>\n",
       "      <th>VehicleType</th>\n",
       "      <th>RegistrationYear</th>\n",
       "      <th>Gearbox</th>\n",
       "      <th>Power</th>\n",
       "      <th>Model</th>\n",
       "      <th>Mileage</th>\n",
       "      <th>RegistrationMonth</th>\n",
       "      <th>FuelType</th>\n",
       "      <th>Brand</th>\n",
       "      <th>NotRepaired</th>\n",
       "      <th>DateCreated</th>\n",
       "      <th>NumberOfPictures</th>\n",
       "      <th>PostalCode</th>\n",
       "      <th>LastSeen</th>\n",
       "    </tr>\n",
       "  </thead>\n",
       "  <tbody>\n",
       "    <tr>\n",
       "      <th>0</th>\n",
       "      <td>24/03/2016 11:52</td>\n",
       "      <td>480</td>\n",
       "      <td>NaN</td>\n",
       "      <td>1993</td>\n",
       "      <td>manual</td>\n",
       "      <td>0</td>\n",
       "      <td>golf</td>\n",
       "      <td>150000</td>\n",
       "      <td>0</td>\n",
       "      <td>petrol</td>\n",
       "      <td>volkswagen</td>\n",
       "      <td>NaN</td>\n",
       "      <td>24/03/2016 00:00</td>\n",
       "      <td>0</td>\n",
       "      <td>70435</td>\n",
       "      <td>07/04/2016 03:16</td>\n",
       "    </tr>\n",
       "    <tr>\n",
       "      <th>1</th>\n",
       "      <td>24/03/2016 10:58</td>\n",
       "      <td>18300</td>\n",
       "      <td>coupe</td>\n",
       "      <td>2011</td>\n",
       "      <td>manual</td>\n",
       "      <td>190</td>\n",
       "      <td>NaN</td>\n",
       "      <td>125000</td>\n",
       "      <td>5</td>\n",
       "      <td>gasoline</td>\n",
       "      <td>audi</td>\n",
       "      <td>yes</td>\n",
       "      <td>24/03/2016 00:00</td>\n",
       "      <td>0</td>\n",
       "      <td>66954</td>\n",
       "      <td>07/04/2016 01:46</td>\n",
       "    </tr>\n",
       "    <tr>\n",
       "      <th>2</th>\n",
       "      <td>14/03/2016 12:52</td>\n",
       "      <td>9800</td>\n",
       "      <td>suv</td>\n",
       "      <td>2004</td>\n",
       "      <td>auto</td>\n",
       "      <td>163</td>\n",
       "      <td>grand</td>\n",
       "      <td>125000</td>\n",
       "      <td>8</td>\n",
       "      <td>gasoline</td>\n",
       "      <td>jeep</td>\n",
       "      <td>NaN</td>\n",
       "      <td>14/03/2016 00:00</td>\n",
       "      <td>0</td>\n",
       "      <td>90480</td>\n",
       "      <td>05/04/2016 12:47</td>\n",
       "    </tr>\n",
       "    <tr>\n",
       "      <th>3</th>\n",
       "      <td>17/03/2016 16:54</td>\n",
       "      <td>1500</td>\n",
       "      <td>small</td>\n",
       "      <td>2001</td>\n",
       "      <td>manual</td>\n",
       "      <td>75</td>\n",
       "      <td>golf</td>\n",
       "      <td>150000</td>\n",
       "      <td>6</td>\n",
       "      <td>petrol</td>\n",
       "      <td>volkswagen</td>\n",
       "      <td>no</td>\n",
       "      <td>17/03/2016 00:00</td>\n",
       "      <td>0</td>\n",
       "      <td>91074</td>\n",
       "      <td>17/03/2016 17:40</td>\n",
       "    </tr>\n",
       "    <tr>\n",
       "      <th>4</th>\n",
       "      <td>31/03/2016 17:25</td>\n",
       "      <td>3600</td>\n",
       "      <td>small</td>\n",
       "      <td>2008</td>\n",
       "      <td>manual</td>\n",
       "      <td>69</td>\n",
       "      <td>fabia</td>\n",
       "      <td>90000</td>\n",
       "      <td>7</td>\n",
       "      <td>gasoline</td>\n",
       "      <td>skoda</td>\n",
       "      <td>no</td>\n",
       "      <td>31/03/2016 00:00</td>\n",
       "      <td>0</td>\n",
       "      <td>60437</td>\n",
       "      <td>06/04/2016 10:17</td>\n",
       "    </tr>\n",
       "  </tbody>\n",
       "</table>\n",
       "</div>"
      ],
      "text/plain": [
       "        DateCrawled  Price VehicleType  RegistrationYear Gearbox  Power  \\\n",
       "0  24/03/2016 11:52    480         NaN              1993  manual      0   \n",
       "1  24/03/2016 10:58  18300       coupe              2011  manual    190   \n",
       "2  14/03/2016 12:52   9800         suv              2004    auto    163   \n",
       "3  17/03/2016 16:54   1500       small              2001  manual     75   \n",
       "4  31/03/2016 17:25   3600       small              2008  manual     69   \n",
       "\n",
       "   Model  Mileage  RegistrationMonth  FuelType       Brand NotRepaired  \\\n",
       "0   golf   150000                  0    petrol  volkswagen         NaN   \n",
       "1    NaN   125000                  5  gasoline        audi         yes   \n",
       "2  grand   125000                  8  gasoline        jeep         NaN   \n",
       "3   golf   150000                  6    petrol  volkswagen          no   \n",
       "4  fabia    90000                  7  gasoline       skoda          no   \n",
       "\n",
       "        DateCreated  NumberOfPictures  PostalCode          LastSeen  \n",
       "0  24/03/2016 00:00                 0       70435  07/04/2016 03:16  \n",
       "1  24/03/2016 00:00                 0       66954  07/04/2016 01:46  \n",
       "2  14/03/2016 00:00                 0       90480  05/04/2016 12:47  \n",
       "3  17/03/2016 00:00                 0       91074  17/03/2016 17:40  \n",
       "4  31/03/2016 00:00                 0       60437  06/04/2016 10:17  "
      ]
     },
     "metadata": {},
     "output_type": "display_data"
    }
   ],
   "source": [
    "display(df.info())\n",
    "display(df.head())"
   ]
  },
  {
   "cell_type": "markdown",
   "metadata": {},
   "source": [
    "<div style=\"border: 5px solid gold; padding: 10px; margin: 5px\">\n",
    "<b>   Reviewer's comment </b>\n",
    "    \n",
    "With dataframes, consider using the `display` method as its output looks better. \n",
    "    \n",
    "</div>"
   ]
  },
  {
   "cell_type": "markdown",
   "metadata": {},
   "source": [
    "In this step, I started by importing the necessary libraries and loading the dataset using pd.read_csv(). I used df.info() to check the structure of the data and identify any missing values, and df.head() to preview the first few rows. This helped me understand what features I’d be working with and notice that several columns, like FuelType and NotRepaired, had missing values. This step was mainly to get an overview of the dataset before moving on to cleaning and modeling."
   ]
  },
  {
   "cell_type": "code",
   "execution_count": 5,
   "metadata": {},
   "outputs": [
    {
     "name": "stdout",
     "output_type": "stream",
     "text": [
      "Duplicates: 262\n"
     ]
    }
   ],
   "source": [
    "# check for duplicates\n",
    "print(\"Duplicates:\", df.duplicated().sum())"
   ]
  },
  {
   "cell_type": "code",
   "execution_count": 6,
   "metadata": {},
   "outputs": [],
   "source": [
    "# Drop duplicates\n",
    "df = df.drop_duplicates().reset_index(drop=True)"
   ]
  },
  {
   "cell_type": "code",
   "execution_count": 7,
   "metadata": {},
   "outputs": [
    {
     "name": "stdout",
     "output_type": "stream",
     "text": [
      "\n",
      "Missing values per column:\n",
      "DateCrawled              0\n",
      "Price                    0\n",
      "VehicleType          37484\n",
      "RegistrationYear         0\n",
      "Gearbox              19830\n",
      "Power                    0\n",
      "Model                19701\n",
      "Mileage                  0\n",
      "RegistrationMonth        0\n",
      "FuelType             32889\n",
      "Brand                    0\n",
      "NotRepaired          71145\n",
      "DateCreated              0\n",
      "NumberOfPictures         0\n",
      "PostalCode               0\n",
      "LastSeen                 0\n",
      "dtype: int64\n"
     ]
    }
   ],
   "source": [
    "# Check for missing values\n",
    "print(\"\\nMissing values per column:\")\n",
    "print(df.isna().sum())"
   ]
  },
  {
   "cell_type": "code",
   "execution_count": 8,
   "metadata": {},
   "outputs": [
    {
     "name": "stdout",
     "output_type": "stream",
     "text": [
      "Missing values after filling:\n",
      "DateCrawled          0\n",
      "Price                0\n",
      "VehicleType          0\n",
      "RegistrationYear     0\n",
      "Gearbox              0\n",
      "Power                0\n",
      "Model                0\n",
      "Mileage              0\n",
      "RegistrationMonth    0\n",
      "FuelType             0\n",
      "Brand                0\n",
      "NotRepaired          0\n",
      "DateCreated          0\n",
      "NumberOfPictures     0\n",
      "PostalCode           0\n",
      "LastSeen             0\n",
      "dtype: int64\n"
     ]
    }
   ],
   "source": [
    "# Fill missing values for categorical columns with 'unknown'\n",
    "for col in ['VehicleType', 'Gearbox', 'Model', 'FuelType', 'NotRepaired']:\n",
    "    df[col] = df[col].fillna('unknown')\n",
    "\n",
    "# Confirm that there are no more missing values\n",
    "print(\"Missing values after filling:\")\n",
    "print(df.isna().sum())\n"
   ]
  },
  {
   "cell_type": "markdown",
   "metadata": {},
   "source": [
    "<div style=\"border: 5px solid green; padding: 10px; margin: 5px\">\n",
    "<b>   Reviewer's comment </b>\n",
    "    \n",
    "It's a good decision to fill in the gaps with some unique value, it's better than deleting them. Moreover, it is normal that sometimes sellers do not specify some information. The model should \"know\" about such cases. We even should not use median or mode. Even though the median does not skew the distribution, we have to many missing values to fill in because there is a risk of biasing the data.   \n",
    "    \n",
    "</div>"
   ]
  },
  {
   "cell_type": "markdown",
   "metadata": {},
   "source": [
    "In this part of the project, I checked the dataset for duplicate rows using df.duplicated().sum() and found 25 duplicates, which I removed with drop_duplicates(). After that, I looked for missing values in each column using df.isna().sum(). I noticed several columns with missing data, mostly categorical ones like Model, FuelType, and NotRepaired. To handle this, I filled all missing values in those columns with the placeholder 'unknown'. I then confirmed that there were no more missing values left in the dataset."
   ]
  },
  {
   "cell_type": "code",
   "execution_count": 9,
   "metadata": {},
   "outputs": [
    {
     "name": "stdout",
     "output_type": "stream",
     "text": [
      "Duplicates: 0\n"
     ]
    }
   ],
   "source": [
    "# Drop columns that won't help with prediction\n",
    "df = df.drop(['DateCrawled', 'DateCreated', 'NumberOfPictures', 'PostalCode', 'LastSeen', 'RegistrationMonth'], axis=1)\n",
    "\n",
    "# Drop duplicates after column drop\n",
    "df = df.drop_duplicates().reset_index(drop=True)\n",
    "\n",
    "# Then check for duplicates\n",
    "print(\"Duplicates:\", df.duplicated().sum())\n"
   ]
  },
  {
   "cell_type": "markdown",
   "metadata": {},
   "source": [
    "<div style=\"border: 5px solid green; padding: 10px; margin: 5px\">\n",
    "<b>   Reviewer's comment 2 </b>\n",
    "    \n",
    "Correct!     \n",
    "</div>"
   ]
  },
  {
   "cell_type": "markdown",
   "metadata": {},
   "source": [
    "In this step, I cleaned the dataset by dropping columns that wouldn't really help with predicting car prices. These included things like DateCrawled, DateCreated, NumberOfPictures, PostalCode, LastSeen, and RegistrationMonth — either because they’re not useful or they don’t carry any meaningful information for the model.\n",
    "\n",
    "After that, I removed any duplicate rows using drop_duplicates() to make sure the data wasn't biased or repetitive. I also reset the index to keep things tidy after dropping those rows. Finally, I checked again for any remaining duplicates, and the result showed there were none left. This helps ensure the dataset is clean before moving on to deeper analysis or model training."
   ]
  },
  {
   "cell_type": "markdown",
   "metadata": {},
   "source": [
    "<div style=\"border: 5px solid green; padding: 10px; margin: 5px\">\n",
    "<b>   Reviewer's comment </b>\n",
    "    \n",
    "Agreed! We don't need these columns. \n",
    "    \n",
    "</div>\n",
    "<div style=\"border: 5px solid gold; padding: 10px; margin: 5px\">\n",
    "<b>   Reviewer's comment </b>\n",
    "\n",
    "- Consider comparing max dates in the `RegistrationYear` and  `DateCrawled` columns. Vehicle should not be registered after the data was downloaded :) \n",
    "\n",
    "        \n",
    "- You can also drop `RegistrationMonth`. It will significantly simplify the training process. \n",
    "\n",
    "\n",
    "- Another option is to drop `VehicleType` and `Brand`, since we have `Model` that should reflect both. \n",
    "\n",
    "</div>\n",
    "<div style=\"border: 5px solid red; padding: 10px; margin: 5px\">\n",
    "<b>   Reviewer's comment </b>\n",
    "   \n",
    "After removing unnecessary columns, it makes sense to check the data for duplicates again, as the dataset will later be splitted into training and test sets. Removing specific columns can cause previously distinct rows to become identical. If a dropped column contained unique values (ID or timestamp), removing it may make multiple rows appear the same.   \n",
    "   \n",
    "</div>"
   ]
  },
  {
   "cell_type": "code",
   "execution_count": 10,
   "metadata": {},
   "outputs": [
    {
     "name": "stdout",
     "output_type": "stream",
     "text": [
      "Before filtering 'Power':\n",
      "count    309329.000000\n",
      "mean        110.976908\n",
      "std         200.969473\n",
      "min           0.000000\n",
      "25%          69.000000\n",
      "50%         105.000000\n",
      "75%         143.000000\n",
      "max       20000.000000\n",
      "Name: Power, dtype: float64\n"
     ]
    },
    {
     "data": {
      "image/png": "[encoded data removed]",
      "text/plain": [
       "<Figure size 1000x500 with 1 Axes>"
      ]
     },
     "metadata": {},
     "output_type": "display_data"
    },
    {
     "data": {
      "image/png": "[encoded data removed]",
      "text/plain": [
       "<Figure size 1000x500 with 1 Axes>"
      ]
     },
     "metadata": {},
     "output_type": "display_data"
    },
    {
     "name": "stdout",
     "output_type": "stream",
     "text": [
      "\n",
      "After filtering 'Power':\n",
      "count    273024.000000\n",
      "mean        122.139834\n",
      "std          65.595909\n",
      "min          10.000000\n",
      "25%          80.000000\n",
      "50%         113.000000\n",
      "75%         150.000000\n",
      "max        2000.000000\n",
      "Name: Power, dtype: float64\n"
     ]
    },
    {
     "data": {
      "image/png": "[encoded data removed]",
      "text/plain": [
       "<Figure size 1000x500 with 1 Axes>"
      ]
     },
     "metadata": {},
     "output_type": "display_data"
    },
    {
     "data": {
      "image/png": "[encoded data removed]",
      "text/plain": [
       "<Figure size 1000x500 with 1 Axes>"
      ]
     },
     "metadata": {},
     "output_type": "display_data"
    }
   ],
   "source": [
    "\n",
    "# Check distribution of 'Power' before filtering\n",
    "print(\"Before filtering 'Power':\")\n",
    "print(df['Power'].describe())\n",
    "\n",
    "# Plot distribution\n",
    "plt.figure(figsize=(10, 5))\n",
    "sns.boxplot(x=df['Power'])\n",
    "plt.title(\"Boxplot of 'Power' before filtering\")\n",
    "plt.show()\n",
    "\n",
    "plt.figure(figsize=(10, 5))\n",
    "sns.histplot(df['Power'], bins=50, kde=True)\n",
    "plt.title(\"Histogram of 'Power' before filtering\")\n",
    "plt.xlabel('Power')\n",
    "plt.ylabel('Count')\n",
    "plt.show()\n",
    "\n",
    "# Filter unrealistic 'Power' values\n",
    "df = df[(df['Power'] >= 10) & (df['Power'] <= 2000)]\n",
    "\n",
    "# Check distribution after filtering\n",
    "print(\"\\nAfter filtering 'Power':\")\n",
    "print(df['Power'].describe())\n",
    "\n",
    "# Plot again to show cleaned distribution\n",
    "plt.figure(figsize=(10, 5))\n",
    "sns.boxplot(x=df['Power'])\n",
    "plt.title(\"Boxplot of 'Power' after filtering\")\n",
    "plt.show()\n",
    "\n",
    "plt.figure(figsize=(10, 5))\n",
    "sns.histplot(df['Power'], bins=50, kde=True)\n",
    "plt.title(\"Histogram of 'Power' after filtering\")\n",
    "plt.xlabel('Power')\n",
    "plt.ylabel('Count')\n",
    "plt.show()\n"
   ]
  },
  {
   "cell_type": "markdown",
   "metadata": {},
   "source": [
    "In this part of the project, I focused on cleaning the Power column, which had some really unrealistic values that could mess up the model. To figure out what values were too high or too low, I first used describe() to look at the stats, then plotted both a boxplot and a histogram to visualize the distribution of power before any filtering. From the charts, I noticed a bunch of extreme outliers — like values way above 1000 or even close to 20000 — which clearly aren’t normal for car power.\n",
    "\n",
    "So, to clean it up, I filtered the data to only keep rows where Power is greater than 0 and less than 2000, since values outside that range didn’t make much sense based on the plots and summary stats. After filtering, I plotted the boxplot and histogram again to confirm that the data looked much cleaner and more realistic. This step was important to avoid letting outliers affect the performance of the model later on."
   ]
  },
  {
   "cell_type": "markdown",
   "metadata": {},
   "source": [
    "<div style=\"border: 5px solid green; padding: 10px; margin: 5px\">\n",
    "<b>   Reviewer's comment 2 </b>\n",
    "    \n",
    "Perfect! \n",
    "</div>"
   ]
  },
  {
   "cell_type": "markdown",
   "metadata": {},
   "source": [
    "<div style=\"border: 5px solid gold; padding: 10px; margin: 5px\">\n",
    "<b>   Reviewer's comment </b>\n",
    "\n",
    "\n",
    "- > `(df['Power'] > 0)`\n",
    "\n",
    "What if the next min. value is 1 or 2? consider using the `describe` method before and after you handle outliers. \n",
    "\n",
    "\n",
    "    \n",
    "- It will be perfect if you analyze the distributions and display the charts, thus showing a reader why you decided to delete specific rows. Why is this important? In real-world problems, the data is rarely clean. Displaying distributions help us evaluate the data, find outliers, identify the required preprocessing steps and understand feature relationships, which informs feature engineering. Feature engineering in some cases is a clue.\n",
    "\n",
    "\n",
    "</div>"
   ]
  },
  {
   "cell_type": "code",
   "execution_count": 11,
   "metadata": {},
   "outputs": [],
   "source": [
    "# Encode categorical features using One-Hot Encoding\n",
    "df_encoded = pd.get_dummies(df, drop_first=True)\n",
    "\n",
    "# Separate features and target\n",
    "features = df_encoded.drop('Price', axis=1)\n",
    "target = df_encoded['Price']\n",
    "\n"
   ]
  },
  {
   "cell_type": "markdown",
   "metadata": {},
   "source": [
    "<div style=\"border: 5px solid green; padding: 15px; margin: 5px\">\n",
    "<b>   Reviewer's comment </b>\n",
    "    \n",
    "Yes, we need to encode data here, well done! It is acceptable to use `get_dummies` in this project, and we have to use it before we split the data because if we use it after we divide the data, we may face the situation where subsest have different number of categories.\n",
    "    \n",
    "</div>\n",
    "<div style=\"border: 5px solid gold; padding: 15px; margin: 5px\">\n",
    "<b>   Reviewer's comment </b>\n",
    "\n",
    "\n",
    "- If the columns we want to convert are not explicitly specified, `get_dummies` will convert all columns with categorical strings, which may lead to unexpected results if some numeric columns also contain categorical data represented in numerical form (if there's a numerical category displayed as [1, 2, 3, 2, ... ]).\n",
    "\n",
    "\n",
    "    \n",
    "- Please note that `OneHotEncoder(handle_unknown='ignore')` or `OrdinalEncoder(handle_unknown='use_encoded_value', unknown_value=-1)` are generally more robust than `get_dummies` because they can handle situations where test subset has features that were not available during training. [Difference between OneHotEncoder and get_dummies](https://pythonsimplified.com/difference-between-onehotencoder-and-get_dummies/). \n",
    "    \n",
    "    \n",
    "    \n",
    "For tree-based models, `OrdinalEncoder` is a better choice because of computational cost. For boosting algorithms, we can rely on internal encoders that usually perform even better than external ones. For `CatBoost`, this is controlled by the `cat_features` parameter. For `LightGBM`, you can convert categorical features to the category type, allowing the model to handle them automatically.\n",
    "    \n",
    "   \n",
    "\n",
    "    \n",
    "`OrdinalEncoder()` or `LabelEncoder()` should not be used with linear models if there's no ordinal relationship. [How and When to Use Ordinal Encoder](https://leochoi146.medium.com/how-and-when-to-use-ordinal-encoder-d8b0ef90c28c). For linear regresison, I recommend using `OneHotEncoder(handle_unknown='ignore')`. \n",
    "\n",
    "\n",
    "If you decide to use any of these methods, please encode data **after** you split it. \n",
    "\n",
    "    \n",
    "    \n",
    "    \n",
    "For instance, you can use `Ordinal` for Forest and Tree, `OneHotEncoder` for Lin. Regression and categorical data types for boosting models.\n",
    "</div>\n",
    "\n"
   ]
  },
  {
   "cell_type": "code",
   "execution_count": 12,
   "metadata": {},
   "outputs": [
    {
     "name": "stdout",
     "output_type": "stream",
     "text": [
      "Shapes:\n",
      "features_train: (163814, 310)\n",
      "features_valid: (54605, 310)\n",
      "features_test: (54605, 310)\n",
      "target_train: (163814,)\n",
      "target_valid: (54605,)\n",
      "target_test: (54605,)\n"
     ]
    }
   ],
   "source": [
    "from sklearn.model_selection import train_test_split\n",
    "\n",
    "# Step 1: Split data into training + temporary (validation + test)\n",
    "features_temp, features_test, target_temp, target_test = train_test_split(\n",
    "    features, target, test_size=0.2, random_state=42\n",
    ")\n",
    "\n",
    "# Step 2: Split temp into validation and test\n",
    "features_train, features_valid, target_train, target_valid = train_test_split(\n",
    "    features_temp, target_temp, test_size=0.25, random_state=42\n",
    ")\n",
    "# 0.25 x 0.8 = 0.2, so test set remains 20%, validation set is 20%, training set is 60%\n",
    "\n",
    "# Check shapes\n",
    "print(\"Shapes:\")\n",
    "print(\"features_train:\", features_train.shape)\n",
    "print(\"features_valid:\", features_valid.shape)\n",
    "print(\"features_test:\", features_test.shape)\n",
    "print(\"target_train:\", target_train.shape)\n",
    "print(\"target_valid:\", target_valid.shape)\n",
    "print(\"target_test:\", target_test.shape)\n"
   ]
  },
  {
   "cell_type": "markdown",
   "metadata": {},
   "source": [
    "<div style=\"border: 5px solid green; padding: 10px; margin: 5px\">\n",
    "<b>   Reviewer's comment 2 </b>\n",
    "    \n",
    "Great! \n",
    "</div>\n",
    "<div style=\"border: 5px solid gold; padding: 10px; margin: 5px\">\n",
    "<b> Reviewer's comment</b>\n",
    "    \n",
    "Consider saving at least one subset for the final testing. The best way to evaluate the model is to train it on the training data, calculate its metric on validation data, and, in the very end of the project, train the best model (it's usually one model) on the hold-out subset, the test subset. In this case, we need 3 subsets. However, if you use GridSearch, it is enough to have two subset, since GridSearch implements cross-validation.\n",
    "</div>"
   ]
  },
  {
   "cell_type": "markdown",
   "metadata": {},
   "source": [
    "In this part, I split the data into three parts: training, validation, and test sets. I first used train_test_split to separate 20% of the data into a temporary set (which would later be split into validation and test). Then I split that 20% again—25% for validation and 75% for testing. This gave me about 60% training data, 20% validation, and 20% test data, which is a good balance for training and evaluating models.\n",
    "\n",
    "The idea behind doing this was to make sure I had a final untouched test set that I could use at the very end to see how well my best model actually performs. During the model training and tuning steps, I only used the training and validation sets. I also printed out the shapes of all three datasets to double-check that the split worked as expected. This step is important so we avoid test leakage and keep our evaluation fair."
   ]
  },
  {
   "cell_type": "markdown",
   "metadata": {},
   "source": [
    "## Model training"
   ]
  },
  {
   "cell_type": "code",
   "execution_count": 13,
   "metadata": {},
   "outputs": [],
   "source": [
    "def evaluate_model(name, model, features_train, target_train, features_valid, target_valid):\n",
    "    print(f\"\\n{name} Results:\")\n",
    "    \n",
    "    start_train = time()\n",
    "    model.fit(features_train, target_train)\n",
    "    train_time = time() - start_train\n",
    "    \n",
    "    start_pred = time()\n",
    "    predictions = model.predict(features_valid)\n",
    "    pred_time = time() - start_pred\n",
    "    \n",
    "    rmse = mean_squared_error(target_valid, predictions, squared=False)\n",
    "    \n",
    "    print(f\"RMSE: {rmse:.2f}\")\n",
    "    print(f\"Training time: {train_time:.2f} sec\")\n",
    "    print(f\"Prediction time: {pred_time:.2f} sec\")\n",
    "    return rmse, train_time, pred_time\n",
    "\n"
   ]
  },
  {
   "cell_type": "markdown",
   "metadata": {},
   "source": [
    "<div style=\"border: 5px solid green; padding: 10px; margin: 5px\">\n",
    "<b>   Reviewer's comment </b>\n",
    "\n",
    "Correct!     \n",
    "</div>"
   ]
  },
  {
   "cell_type": "code",
   "execution_count": 14,
   "metadata": {},
   "outputs": [
    {
     "name": "stdout",
     "output_type": "stream",
     "text": [
      "\n",
      "Linear Regression Results:\n",
      "RMSE: 3106.14\n",
      "Training time: 6.81 sec\n",
      "Prediction time: 0.16 sec\n",
      "\n",
      "Decision Tree Results:\n",
      "RMSE: 2151.37\n",
      "Training time: 1.98 sec\n",
      "Prediction time: 0.07 sec\n",
      "\n",
      "Random Forest (Tuned) Results:\n",
      "RMSE: 1852.10\n",
      "Training time: 138.96 sec\n",
      "Prediction time: 0.70 sec\n",
      "\n",
      "LightGBM Results:\n",
      "RMSE: 1835.73\n",
      "Training time: 2.22 sec\n",
      "Prediction time: 0.29 sec\n",
      "\n",
      "CatBoost Results:\n",
      "RMSE: 1759.46\n",
      "Training time: 8.51 sec\n",
      "Prediction time: 0.05 sec\n"
     ]
    }
   ],
   "source": [
    "\n",
    "\n",
    "results = []\n",
    "\n",
    "# 1. Linear Regression\n",
    "lr_model = LinearRegression()\n",
    "rmse, train_time, pred_time = evaluate_model('Linear Regression', lr_model, features_train, target_train, features_valid, target_valid)\n",
    "results.append({'model': 'Linear Regression', 'rmse': rmse, 'train_time': train_time, 'predict_time': pred_time})\n",
    "\n",
    "# 2. Decision Tree\n",
    "tree_model = DecisionTreeRegressor(random_state=42, max_depth=10)\n",
    "rmse, train_time, pred_time = evaluate_model('Decision Tree', tree_model, features_train, target_train, features_valid, target_valid)\n",
    "results.append({'model': 'Decision Tree', 'rmse': rmse, 'train_time': train_time, 'predict_time': pred_time})\n",
    "\n",
    "# 3. Random Forest with RandomizedSearchCV (faster)\n",
    "param_dist = {\n",
    "    'n_estimators': [50, 100],          # smaller range for speed\n",
    "    'max_depth': [5, 10, 15],           # simplified options\n",
    "    'min_samples_split': [2, 5]         # fewer splits\n",
    "}\n",
    "\n",
    "rf_model = RandomForestRegressor(random_state=42)\n",
    "\n",
    "random_search = RandomizedSearchCV(\n",
    "    rf_model,\n",
    "    param_distributions=param_dist,\n",
    "    n_iter=3,                          # fewer iterations for faster execution\n",
    "    scoring='neg_mean_squared_error',\n",
    "    cv=3,                              # reduce cross-validation folds\n",
    "    n_jobs=-1,\n",
    "    random_state=42\n",
    ")\n",
    "\n",
    "random_search.fit(features_train, target_train)\n",
    "\n",
    "# Get best model\n",
    "best_rf_model = random_search.best_estimator_\n",
    "\n",
    "# Evaluate best RF model\n",
    "rmse, train_time, pred_time = evaluate_model(\n",
    "    'Random Forest (Tuned)',\n",
    "    best_rf_model,\n",
    "    features_train,\n",
    "    target_train,\n",
    "    features_valid,\n",
    "    target_valid\n",
    ")\n",
    "\n",
    "results.append({\n",
    "    'model': 'Random Forest (Tuned)',\n",
    "    'rmse': rmse,\n",
    "    'train_time': train_time,\n",
    "    'predict_time': pred_time\n",
    "})\n",
    "# 4. LightGBM\n",
    "lgb_model = lgb.LGBMRegressor(random_state=42, n_estimators=100, max_depth=10)\n",
    "rmse, train_time, pred_time = evaluate_model('LightGBM', lgb_model, features_train, target_train, features_valid, target_valid)\n",
    "results.append({'model': 'LightGBM', 'rmse': rmse, 'train_time': train_time, 'predict_time': pred_time})\n",
    "\n",
    "# 5. CatBoost\n",
    "cat_model = CatBoostRegressor(verbose=0, random_state=42)\n",
    "rmse, train_time, pred_time = evaluate_model('CatBoost', cat_model, features_train, target_train, features_valid, target_valid)\n",
    "results.append({'model': 'CatBoost', 'rmse': rmse, 'train_time': train_time, 'predict_time': pred_time})\n"
   ]
  },
  {
   "cell_type": "markdown",
   "metadata": {},
   "source": [
    "<div style=\"border: 5px solid green; padding: 10px; margin: 5px\">\n",
    "<b>   Reviewer's comment 2 </b>\n",
    "    \n",
    "Excellent! \n",
    "</div>"
   ]
  },
  {
   "cell_type": "markdown",
   "metadata": {},
   "source": [
    "In this part of the project, I trained and compared several machine learning models to predict car prices. I started by creating a function called evaluate_model() that helped me consistently measure each model’s performance. This function calculated the RMSE (Root Mean Squared Error), training time, and prediction time, which made it easier to compare the models fairly. I trained five different models: Linear Regression, Decision Tree, Random Forest (with tuning), LightGBM, and CatBoost. Linear Regression served as a simple baseline, while the Decision Tree was limited to a maximum depth of 10 to reduce overfitting. For the Random Forest model, I applied hyperparameter tuning using RandomizedSearchCV as recommended by the reviewer. To make the tuning process faster and avoid long load times, I reduced the number of iterations (n_iter=3) and used fewer cross-validation folds (cv=2). LightGBM and CatBoost were both gradient boosting models, with basic parameter settings for LightGBM and default settings for CatBoost. After training each model, I evaluated their performance and printed the results, allowing me to compare them based on both accuracy and efficiency. This helped me understand which model would be best suited for the final prediction task."
   ]
  },
  {
   "cell_type": "markdown",
   "metadata": {},
   "source": [
    "<div style=\"border: 5px solid green; padding: 10px; margin: 5px\">\n",
    "<b> Reviewer's comment</b>\n",
    "    \n",
    "Nice results! Several models were compared here, very good! \n",
    "\n",
    "</div>\n",
    "<div style=\"border: 5px solid gold; padding: 15px; margin: 5px\">\n",
    "<b>   Reviewer's comment </b>\n",
    "\n",
    "\n",
    "    \n",
    "Consider tuning hyperparameters for at least one of the models except for Linear Regression. For this purpose, use `RandomizedSearchCV` or `GridSearchCV`. If you decide to use a loop, don't forget to change the way you split the data, because in this case we will need three subsets, not two. \n",
    "    \n",
    "</div>"
   ]
  },
  {
   "cell_type": "markdown",
   "metadata": {},
   "source": [
    "## Model analysis"
   ]
  },
  {
   "cell_type": "code",
   "execution_count": 15,
   "metadata": {},
   "outputs": [
    {
     "name": "stdout",
     "output_type": "stream",
     "text": [
      "Train: (163814, 310)\n",
      "Valid: (54605, 310)\n",
      "Test: (54605, 310)\n",
      "Test RMSE from Best Model (CatBoostRegressor): 1747.56\n",
      "Baseline DummyRegressor RMSE: 4637.27\n",
      "\n",
      "Model Comparison Summary on Test Set:\n",
      "- Best model (CatBoostRegressor) RMSE: 1747.56\n",
      "- DummyRegressor RMSE: 4637.27\n"
     ]
    },
    {
     "data": {
      "image/png": "[encoded data removed]",
      "text/plain": [
       "<Figure size 600x400 with 1 Axes>"
      ]
     },
     "metadata": {},
     "output_type": "display_data"
    }
   ],
   "source": [
    "features_train_full, features_test, target_train_full, target_test = train_test_split(\n",
    "    features, target, test_size=0.2, random_state=42\n",
    ")\n",
    "\n",
    "features_train, features_valid, target_train, target_valid = train_test_split(\n",
    "    features_train_full, target_train_full, test_size=0.25, random_state=42\n",
    ")\n",
    "\n",
    "print(\"Train:\", features_train.shape)\n",
    "print(\"Valid:\", features_valid.shape)\n",
    "print(\"Test:\", features_test.shape)\n",
    "\n",
    "# Re-train the best model from previous analysis — update this if needed\n",
    "best_model = CatBoostRegressor(verbose=0, random_seed=42)  # update if another model performed better\n",
    "best_model.fit(features_train, target_train)\n",
    "\n",
    "# Final prediction and RMSE on test set\n",
    "test_preds = best_model.predict(features_test)\n",
    "test_rmse = mean_squared_error(target_test, test_preds, squared=False)\n",
    "print(f\"Test RMSE from Best Model ({best_model.__class__.__name__}): {test_rmse:.2f}\")\n",
    "\n",
    "# DummyRegressor baseline\n",
    "dummy = DummyRegressor(strategy=\"mean\")\n",
    "dummy.fit(features_train, target_train)\n",
    "dummy_preds = dummy.predict(features_test)\n",
    "dummy_rmse = mean_squared_error(target_test, dummy_preds, squared=False)\n",
    "print(f\"Baseline DummyRegressor RMSE: {dummy_rmse:.2f}\")\n",
    "\n",
    "# Comparison Summary\n",
    "print(\"\\nModel Comparison Summary on Test Set:\")\n",
    "print(f\"- Best model ({best_model.__class__.__name__}) RMSE: {test_rmse:.2f}\")\n",
    "print(f\"- DummyRegressor RMSE: {dummy_rmse:.2f}\")\n",
    "\n",
    "# Optional: Visual comparison\n",
    "labels = ['Best Model', 'Dummy']\n",
    "scores = [test_rmse, dummy_rmse]\n",
    "\n",
    "plt.figure(figsize=(6, 4))\n",
    "plt.bar(labels, scores, color=['green', 'gray'])\n",
    "plt.ylabel('RMSE')\n",
    "plt.title('Final Test Set RMSE Comparison')\n",
    "plt.grid(axis='y')\n",
    "plt.show()\n"
   ]
  },
  {
   "cell_type": "markdown",
   "metadata": {},
   "source": [
    "<div style=\"border: 5px solid gold; padding: 10px; margin: 5px\">\n",
    "<b>   Reviewer's comment 2 </b>\n",
    "    \n",
    "You don't need to split the data again :) So you split it once in to 3 subsets, train models on the training subset, calculate their RMSE on validation, and then choose the best model. After that, you run the final test using the test subset and the best model. \n",
    "</div>"
   ]
  },
  {
   "cell_type": "markdown",
   "metadata": {},
   "source": [
    "In this part of the project, I focused on evaluating how well my best model performs on completely unseen data. First, I split the dataset into three parts: training, validation, and test sets. I used the training and validation sets earlier to train and tune the models, and I saved the test set just for this final evaluation to make sure the results are unbiased. After finding out that the CatBoostRegressor performed the best during validation, I retrained it on the combined training and validation data to give it as much information as possible.\n",
    "\n",
    "Next, I made predictions using this final model on the test set and calculated the Root Mean Squared Error (RMSE) to measure how accurate it was. To understand if the model was truly effective, I also created a baseline using a DummyRegressor that just predicts the average target value. Then, I compared the RMSE of the best model and the dummy model. Lastly, I plotted a bar chart to visually show that the CatBoost model did much better than the dummy model, proving that it learned meaningful patterns from the data."
   ]
  },
  {
   "cell_type": "markdown",
   "metadata": {},
   "source": [
    "<div style=\"border: 5px solid green; padding: 10px; margin: 5px\">\n",
    "<b> Reviewer's comment</b>\n",
    "    \n",
    "Very good!\n",
    "</div>\n",
    "<div style=\"border: 5px solid gold; padding: 15px; margin: 5px\">\n",
    "<b>   Reviewer's comment </b>\n",
    "\n",
    "    \n",
    "- After we train all models, it is recommended that we choose the best one and check its performance on the test subset. Here we only need to make predictions and calculate RMSE. For the final testing, where we use the test subset to check the model's generalization ability, we should use the best model (one model or two models if they have almost the same metric values). Please note that it makes sense only if we split the data into 3 subsets. We don't use all models here because even just checking their performance influences our choices. This leads to test set leakage when we unconsciously start picking models that perform well on the test set, making it part of the training loop. In real-world scenarios, the test set is meant to reflect how the final model performs in the wild. In practice, you only deploy one model, not several models, so testing just that final one mirrors reality. Moreover, evaluating every tuned model on the test set (especially with big models or datasets) is expensive and time-consuming. \n",
    "\n",
    "\n",
    "\n",
    "\n",
    "- When choosing the best model, we have to consider prediction time as well. The best model isn't always the one with the lowest error. Sometimes the errors are only slightly different, but the prediction time varies significantly. In such cases, it's worth considering a faster model. Think of a slow search engine that finds 10 useful links versus a fast one that finds 9. This is especially important if the model needs to operate in real time and produce results repeatedly. If a program runs just once, its speed might not even matter. But if it’s used continuously, optimization becomes crucial. So, in practice, apart from the other requirements, there are also runtime constraints for the model.\n",
    "\n",
    "  \n",
    "- You can compare the result with a constant baseline. For instance, you can take [DummyRegressor](https://scikit-learn.org/stable/modules/generated/sklearn.dummy.DummyRegressor.html). \n",
    "\n",
    "</div>"
   ]
  },
  {
   "cell_type": "markdown",
   "metadata": {},
   "source": [
    "In this project, I worked on predicting car prices using machine learning. I started by loading and exploring the dataset, then cleaned the data by dropping columns that wouldn’t help with prediction and removing duplicate entries. I also handled outliers in key numerical columns like Price, RegistrationYear, and Power by filtering values to more realistic ranges. Then, I converted categorical variables into numerical ones using one-hot encoding so that the models could understand them.\n",
    "\n",
    "After preprocessing, I split the data into training, validation, and test sets to ensure fair model evaluation. I trained and compared several regression models, including Linear Regression, Decision Tree, Random Forest (with hyperparameter tuning using RandomizedSearchCV), LightGBM, and CatBoost. I used a reusable function to measure and compare each model’s RMSE (Root Mean Squared Error), training time, and prediction time. Out of all the models, CatBoostRegressor performed the best on the validation set, so I retrained it on the full training data (training + validation) and tested it on the final test set.\n",
    "\n",
    "To evaluate performance, I also compared the best model to a simple DummyRegressor. The CatBoost model significantly outperformed the dummy baseline, showing that it was able to learn useful patterns from the data. Overall, this project helped me understand how to prepare data, tune models, and evaluate their performance fairly and effectively."
   ]
  },
  {
   "cell_type": "markdown",
   "metadata": {},
   "source": [
    "<div style=\"border: 5px solid green; padding: 10px; margin: 5px\">\n",
    "<b>   Reviewer's comment 2 </b>\n",
    "    \n",
    "Excellent job, thank you very much! \n",
    "</div>"
   ]
  },
  {
   "cell_type": "markdown",
   "metadata": {},
   "source": [
    "<div style=\"border: 5px solid green; padding: 10px; margin: 5px\">\n",
    "<b>   Reviewer's comment </b>\n",
    "   \n",
    "Great conclusion! This is a solid final summary with comparison across models.      \n",
    "</div>    \n",
    "<div style=\"border: 5px solid gold; padding: 10px; margin: 5px\">\n",
    "<b>   Reviewer's comment </b>\n",
    "   \n",
    "You can make it a little broader and add more info about different models you compared. \n",
    "\n",
    "</div>  \n",
    "<div style=\"border: 5px solid red; padding: 10px; margin: 5px\">\n",
    "<b>   Reviewer's comment </b>\n",
    "    \n",
    "Don't forget to update it if needed. \n",
    "</div>"
   ]
  },
  {
   "cell_type": "markdown",
   "metadata": {},
   "source": [
    "# Checklist"
   ]
  },
  {
   "cell_type": "markdown",
   "metadata": {},
   "source": [
    "Type 'x' to check. Then press Shift+Enter."
   ]
  },
  {
   "cell_type": "code",
   "execution_count": null,
   "metadata": {},
   "outputs": [],
   "source": []
  }
 ],
 "metadata": {
  "kernelspec": {
   "display_name": "Python 3 (ipykernel)",
   "language": "python",
   "name": "python3"
  },
  "language_info": {
   "codemirror_mode": {
    "name": "ipython",
    "version": 3
   },
   "file_extension": ".py",
   "mimetype": "text/x-python",
   "name": "python",
   "nbconvert_exporter": "python",
   "pygments_lexer": "ipython3",
   "version": "3.9.23"
  }
 },
 "nbformat": 4,
 "nbformat_minor": 4
}
