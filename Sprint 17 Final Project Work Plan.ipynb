{
 "cells": [
  {
   "cell_type": "markdown",
   "metadata": {},
   "source": [
    "<div style=\"border: 5px solid purple; padding: 10px; margin: 5px\">\n",
    "<b> Svetlana's comment  </b>\n",
    "    \n",
    "\n",
    "Hi, my name is Svetlana (https://hub.tripleten.com/u/6dee602c).\n",
    "\n",
    "\n",
    "Thank you for submitting such a great plan! It has everything you need, so you can move on to the code part! :) \n",
    "\n",
    "</div>"
   ]
  },
  {
   "cell_type": "markdown",
   "metadata": {},
   "source": [
    "Clarifying Questions\n",
    "    1. When preparing the target variable from EndDate, should all values other than \"No\" be treated as churn, or should I separate voluntary vs. involuntary churn?\n",
    "    \n",
    "    2. Are there any columns that should be excluded from modeling due to potential data leakage (e.g., features that wouldn’t be known at prediction time)?\n",
    "    \n",
    "    3. Should I focus strictly on AUC-ROC optimization, or should I also balance it with Accuracy for a more practical model?\n",
    "    \n",
    "    4. Are there any limitations on creating new features from the provided columns, such as total services used or contract length in months?\n",
    "    \n",
    "    5. Is there a preferred train/test split ratio, or should I use the standard 80/20 split?\n",
    "    \n",
    "    6. Should I perform class balancing techniques like oversampling/undersampling, or rely on model adjustments for imbalance?"
   ]
  },
  {
   "cell_type": "markdown",
   "metadata": {},
   "source": [
    "Rough Plan\n",
    "Step 1 – Data Loading and Merging\n",
    "Load the four CSV files (contract.csv, personal.csv, internet.csv, phone.csv) and merge them into one dataset using customerID as the common key. This will create a complete record for each customer.\n",
    "\n",
    "Step 2 – Data Cleaning and Preprocessing\n",
    "Handle missing values, check for duplicates, and fix data types (e.g., dates, categories). Convert EndDate into a binary churn variable for modeling.\n",
    "\n",
    "Step 3 – Exploratory Data Analysis (EDA)\n",
    "Examine churn distribution, feature distributions, and relationships between variables. Use plots and summary stats to identify trends and patterns that may influence churn.\n",
    "\n",
    "Step 4 – Feature Engineering\n",
    "Create new features like total number of services, contract duration, or grouped payment types. Encode categorical variables and scale numerical features if needed.\n",
    "\n",
    "Step 5 – Model Training and Evaluation\n",
    "Split the dataset into training and test sets. Train multiple models (e.g., Logistic Regression, Random Forest, Gradient Boosting) and compare their AUC-ROC scores. Tune hyperparameters for the best model, and evaluate on the test set to aim for AUC-ROC ≥ 0.88."
   ]
  }
 ],
 "metadata": {
  "kernelspec": {
   "display_name": "Python 3 (ipykernel)",
   "language": "python",
   "name": "python3"
  },
  "language_info": {
   "codemirror_mode": {
    "name": "ipython",
    "version": 3
   },
   "file_extension": ".py",
   "mimetype": "text/x-python",
   "name": "python",
   "nbconvert_exporter": "python",
   "pygments_lexer": "ipython3",
   "version": "3.9.23"
  }
 },
 "nbformat": 4,
 "nbformat_minor": 4
}
