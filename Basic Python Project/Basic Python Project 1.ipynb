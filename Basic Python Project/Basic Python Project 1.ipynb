{
 "cells": [
  {
   "cell_type": "markdown",
   "id": "f85a80d2",
   "metadata": {},
   "source": [
    "## Basic Python - Project <a id='intro'></a>"
   ]
  },
  {
   "cell_type": "markdown",
   "id": "a1262df4",
   "metadata": {},
   "source": [
    "## Introduction <a id='intro'></a>\n",
    "In this project, you will work with data from the entertainment industry. You will study a dataset with records on movies and shows. The research will focus on the \"Golden Age\" of television, which began in 1999 with the release of *The Sopranos* and is still ongoing.\n",
    "\n",
    "The aim of this project is to investigate how the number of votes a title receives impacts its ratings. The assumption is that highly-rated shows (we will focus on TV shows, ignoring movies) released during the \"Golden Age\" of television also have the most votes.\n",
    "\n",
    "### Stages \n",
    "Data on movies and shows is stored in the `/datasets/movies_and_shows.csv` file. There is no information about the quality of the data, so you will need to explore it before doing the analysis.\n",
    "\n",
    "First, you'll evaluate the quality of the data and see whether its issues are significant. Then, during data preprocessing, you will try to account for the most critical problems.\n",
    " \n",
    "Your project will consist of three stages:\n",
    " 1. Data overview\n",
    " 2. Data preprocessing\n",
    " 3. Data analysis"
   ]
  },
  {
   "cell_type": "markdown",
   "id": "ac0593ac",
   "metadata": {},
   "source": [
    "## Stage 1. Data overview <a id='data_review'></a>\n"
   ]
  },
  {
   "cell_type": "code",
   "execution_count": 116,
   "id": "1727d3f8",
   "metadata": {
    "trusted": false
   },
   "outputs": [],
   "source": [
    "import pandas as pd # importing pandas"
   ]
  },
  {
   "cell_type": "code",
   "execution_count": 117,
   "id": "fc5a1402",
   "metadata": {
    "trusted": false
   },
   "outputs": [],
   "source": [
    "df = pd.read_csv('/datasets/movies_and_shows.csv')\n",
    "# reading the files and storing them to df"
   ]
  },
  {
   "cell_type": "code",
   "execution_count": 118,
   "id": "acd92001",
   "metadata": {
    "trusted": false
   },
   "outputs": [
    {
     "name": "stdout",
     "output_type": "stream",
     "text": [
      "              name                      Character   r0le        TITLE   Type  \\\n",
      "0   Robert De Niro                  Travis Bickle  ACTOR  Taxi Driver  MOVIE   \n",
      "1     Jodie Foster                  Iris Steensma  ACTOR  Taxi Driver  MOVIE   \n",
      "2    Albert Brooks                            Tom  ACTOR  Taxi Driver  MOVIE   \n",
      "3    Harvey Keitel        Matthew 'Sport' Higgins  ACTOR  Taxi Driver  MOVIE   \n",
      "4  Cybill Shepherd                          Betsy  ACTOR  Taxi Driver  MOVIE   \n",
      "5      Peter Boyle                         Wizard  ACTOR  Taxi Driver  MOVIE   \n",
      "6   Leonard Harris      Senator Charles Palantine  ACTOR  Taxi Driver  MOVIE   \n",
      "7   Diahnne Abbott                Concession Girl  ACTOR  Taxi Driver  MOVIE   \n",
      "8      Gino Ardito             Policeman at Rally  ACTOR  Taxi Driver  MOVIE   \n",
      "9  Martin Scorsese  Passenger Watching Silhouette  ACTOR  Taxi Driver  MOVIE   \n",
      "\n",
      "   release Year              genres  imdb sc0re  imdb v0tes  \n",
      "0          1976  ['drama', 'crime']         8.2    808582.0  \n",
      "1          1976  ['drama', 'crime']         8.2    808582.0  \n",
      "2          1976  ['drama', 'crime']         8.2    808582.0  \n",
      "3          1976  ['drama', 'crime']         8.2    808582.0  \n",
      "4          1976  ['drama', 'crime']         8.2    808582.0  \n",
      "5          1976  ['drama', 'crime']         8.2    808582.0  \n",
      "6          1976  ['drama', 'crime']         8.2    808582.0  \n",
      "7          1976  ['drama', 'crime']         8.2    808582.0  \n",
      "8          1976  ['drama', 'crime']         8.2    808582.0  \n",
      "9          1976  ['drama', 'crime']         8.2    808582.0  \n"
     ]
    }
   ],
   "source": [
    "print(df.head(10))# obtaining the first 10 rows from the df table\n",
    "# hint: you can use head() and tail() in Jupyter Notebook without wrapping them into print()\n"
   ]
  },
  {
   "cell_type": "code",
   "execution_count": 119,
   "id": "7bf66d2a",
   "metadata": {
    "trusted": false
   },
   "outputs": [
    {
     "name": "stdout",
     "output_type": "stream",
     "text": [
      "<class 'pandas.core.frame.DataFrame'>\n",
      "RangeIndex: 85579 entries, 0 to 85578\n",
      "Data columns (total 9 columns):\n",
      " #   Column        Non-Null Count  Dtype  \n",
      "---  ------        --------------  -----  \n",
      " 0      name       85579 non-null  object \n",
      " 1   Character     85579 non-null  object \n",
      " 2   r0le          85579 non-null  object \n",
      " 3   TITLE         85578 non-null  object \n",
      " 4     Type        85579 non-null  object \n",
      " 5   release Year  85579 non-null  int64  \n",
      " 6   genres        85579 non-null  object \n",
      " 7   imdb sc0re    80970 non-null  float64\n",
      " 8   imdb v0tes    80853 non-null  float64\n",
      "dtypes: float64(2), int64(1), object(6)\n",
      "memory usage: 5.9+ MB\n",
      "None\n"
     ]
    }
   ],
   "source": [
    "print(df.info())# obtaining general information about the data in df\n"
   ]
  },
  {
   "cell_type": "markdown",
   "id": "4355de7b",
   "metadata": {},
   "source": [
    "### Conclusions <a id='data_review_conclusions'></a> \n",
    "\n",
    "Each row in the table stores data about a movie or show. The columns can be divided into two categories: the first is about the roles held by different people who worked on the movie or show (role, name of the actor or director, and character if the row is about an actor); the second category is information about the movie or show itself (title, release year, genre, imdb figures).\n",
    "\n",
    "It's clear that there is sufficient data to do the analysis and evaluate our assumption. However, to move forward, we need to preprocess the data."
   ]
  },
  {
   "cell_type": "markdown",
   "id": "c5dc9111",
   "metadata": {},
   "source": [
    "## Stage 2. Data preprocessing <a id='data_preprocessing'></a>"
   ]
  },
  {
   "cell_type": "code",
   "execution_count": 120,
   "id": "9c850d13",
   "metadata": {
    "trusted": false
   },
   "outputs": [
    {
     "name": "stdout",
     "output_type": "stream",
     "text": [
      "Index(['name', 'character', 'role', 'title', 'type', 'release_year', 'genres',\n",
      "       'imdb_score', 'imdb_votes'],\n",
      "      dtype='object')\n",
      "7675\n"
     ]
    }
   ],
   "source": [
    "df = df.rename(columns={\n",
    "        '   name': 'name',\n",
    "        'Character': 'character',\n",
    "        'r0le': 'role',\n",
    "        'TITLE': 'title',\n",
    "        '  Type': 'type',\n",
    "        'release Year': 'release_year',\n",
    "        'imdb sc0re': 'imdb_score',\n",
    "        'imdb v0tes': 'imdb_votes',\n",
    "    }\n",
    ")\n",
    "print(df.columns)# the list of column names in the df table\n",
    "duplicates = df.duplicated()\n",
    "print(duplicates.sum())"
   ]
  },
  {
   "cell_type": "code",
   "execution_count": 121,
   "id": "23a1dc11",
   "metadata": {
    "trusted": false
   },
   "outputs": [
    {
     "name": "stdout",
     "output_type": "stream",
     "text": [
      "Index(['name', 'character', 'role', 'title', 'type', 'release_year', 'genres',\n",
      "       'imdb_score', 'imdb_votes'],\n",
      "      dtype='object')\n"
     ]
    }
   ],
   "source": [
    "print(df.columns)# renaming columns"
   ]
  },
  {
   "cell_type": "code",
   "execution_count": 122,
   "id": "0eb6527f",
   "metadata": {
    "trusted": false
   },
   "outputs": [
    {
     "name": "stdout",
     "output_type": "stream",
     "text": [
      "Index(['name', 'character', 'role', 'title', 'type', 'release_year', 'genres',\n",
      "       'imdb_score', 'imdb_votes'],\n",
      "      dtype='object')\n"
     ]
    }
   ],
   "source": [
    "print(df.columns)# checking result: the list of column names\n"
   ]
  },
  {
   "cell_type": "markdown",
   "id": "14d9c319",
   "metadata": {},
   "source": [
    "### Missing values <a id='missing_values'></a>"
   ]
  },
  {
   "cell_type": "code",
   "execution_count": 123,
   "id": "21c427f2",
   "metadata": {
    "trusted": false
   },
   "outputs": [
    {
     "name": "stdout",
     "output_type": "stream",
     "text": [
      "name               0\n",
      "character          0\n",
      "role               0\n",
      "title              1\n",
      "type               0\n",
      "release_year       0\n",
      "genres             0\n",
      "imdb_score      4609\n",
      "imdb_votes      4726\n",
      "dtype: int64\n"
     ]
    }
   ],
   "source": [
    "print(df.isna().sum())# calculating missing values\n"
   ]
  },
  {
   "cell_type": "code",
   "execution_count": 124,
   "id": "599d5550",
   "metadata": {
    "trusted": false
   },
   "outputs": [],
   "source": [
    "df = df.dropna(axis='rows')\n",
    "# dropping rows where columns with scores, and votes have missing values\n"
   ]
  },
  {
   "cell_type": "code",
   "execution_count": 125,
   "id": "55c0b0ce",
   "metadata": {
    "trusted": false
   },
   "outputs": [
    {
     "name": "stdout",
     "output_type": "stream",
     "text": [
      "name            0\n",
      "character       0\n",
      "role            0\n",
      "title           0\n",
      "type            0\n",
      "release_year    0\n",
      "genres          0\n",
      "imdb_score      0\n",
      "imdb_votes      0\n",
      "dtype: int64\n",
      "<class 'pandas.core.frame.DataFrame'>\n",
      "Int64Index: 80853 entries, 0 to 85578\n",
      "Data columns (total 9 columns):\n",
      " #   Column        Non-Null Count  Dtype  \n",
      "---  ------        --------------  -----  \n",
      " 0   name          80853 non-null  object \n",
      " 1   character     80853 non-null  object \n",
      " 2   role          80853 non-null  object \n",
      " 3   title         80853 non-null  object \n",
      " 4   type          80853 non-null  object \n",
      " 5   release_year  80853 non-null  int64  \n",
      " 6   genres        80853 non-null  object \n",
      " 7   imdb_score    80853 non-null  float64\n",
      " 8   imdb_votes    80853 non-null  float64\n",
      "dtypes: float64(2), int64(1), object(6)\n",
      "memory usage: 6.2+ MB\n",
      "None\n"
     ]
    }
   ],
   "source": [
    "print(df.isna().sum())\n",
    "print(df.info())\n",
    "# counting missing values\n"
   ]
  },
  {
   "cell_type": "code",
   "execution_count": 126,
   "id": "9227df01",
   "metadata": {
    "scrolled": true,
    "trusted": false
   },
   "outputs": [
    {
     "name": "stdout",
     "output_type": "stream",
     "text": [
      "6994\n"
     ]
    }
   ],
   "source": [
    "print(df.duplicated().sum())# counting duplicate rows\n"
   ]
  },
  {
   "cell_type": "code",
   "execution_count": 127,
   "id": "bcf32fcb",
   "metadata": {
    "trusted": false
   },
   "outputs": [
    {
     "name": "stdout",
     "output_type": "stream",
     "text": [
      "                      name                  character      role  \\\n",
      "7560         Philip Greene  Baseball Fan (uncredited)     ACTOR   \n",
      "7561         Philip Greene  Baseball Fan (uncredited)     ACTOR   \n",
      "14502             Dan Levy                   Reporter     ACTOR   \n",
      "14512             Dan Levy                   Reporter     ACTOR   \n",
      "18951     Nicolas Le Nev??                    unknown  DIRECTOR   \n",
      "...                    ...                        ...       ...   \n",
      "85569       Jessica Cediel            Liliana Navarro     ACTOR   \n",
      "85570  Javier Gardeaz?­bal   Agust??n \"Peluca\" Ort??z     ACTOR   \n",
      "85571        Carla Giraldo             Valery Reinoso     ACTOR   \n",
      "85572  Ana Mar??a S?­nchez                    Lourdes     ACTOR   \n",
      "85577         Isabel Gaona                     Cacica     ACTOR   \n",
      "\n",
      "                                 title   type  release_year  \\\n",
      "7560                   How Do You Know  MOVIE          2010   \n",
      "7561                   How Do You Know  MOVIE          2010   \n",
      "14502  A Very Harold & Kumar Christmas  MOVIE          2011   \n",
      "14512  A Very Harold & Kumar Christmas  MOVIE          2011   \n",
      "18951                       Sammy & Co   SHOW          2014   \n",
      "...                                ...    ...           ...   \n",
      "85569                          Lokillo  MOVIE          2021   \n",
      "85570                          Lokillo  MOVIE          2021   \n",
      "85571                          Lokillo  MOVIE          2021   \n",
      "85572                          Lokillo  MOVIE          2021   \n",
      "85577                          Lokillo  MOVIE          2021   \n",
      "\n",
      "                                 genres  imdb_score  imdb_votes  \n",
      "7560     ['comedy', 'drama', 'romance']         5.4     50383.0  \n",
      "7561     ['comedy', 'drama', 'romance']         5.4     50383.0  \n",
      "14502  ['comedy', 'fantasy', 'romance']         6.2     69562.0  \n",
      "14512  ['comedy', 'fantasy', 'romance']         6.2     69562.0  \n",
      "18951         ['animation', 'european']         5.7        31.0  \n",
      "...                                 ...         ...         ...  \n",
      "85569                        ['comedy']         3.8        68.0  \n",
      "85570                        ['comedy']         3.8        68.0  \n",
      "85571                        ['comedy']         3.8        68.0  \n",
      "85572                        ['comedy']         3.8        68.0  \n",
      "85577                        ['comedy']         3.8        68.0  \n",
      "\n",
      "[13988 rows x 9 columns]\n"
     ]
    }
   ],
   "source": [
    "duplicates = df[df.duplicated(keep=False)]\n",
    "print(duplicates) # Produce table with duplicates (with original rows included) and review last 5 rows\n"
   ]
  },
  {
   "cell_type": "code",
   "execution_count": 128,
   "id": "724d5bc8",
   "metadata": {
    "trusted": false
   },
   "outputs": [
    {
     "name": "stdout",
     "output_type": "stream",
     "text": [
      "                     name                character      role        title  \\\n",
      "0          Robert De Niro            Travis Bickle     ACTOR  Taxi Driver   \n",
      "1            Jodie Foster            Iris Steensma     ACTOR  Taxi Driver   \n",
      "2           Albert Brooks                      Tom     ACTOR  Taxi Driver   \n",
      "3           Harvey Keitel  Matthew 'Sport' Higgins     ACTOR  Taxi Driver   \n",
      "4         Cybill Shepherd                    Betsy     ACTOR  Taxi Driver   \n",
      "...                   ...                      ...       ...          ...   \n",
      "85573       A??da Morales                  Maritza     ACTOR      Lokillo   \n",
      "85574    Adelaida Buscato               Mar??a Paz     ACTOR      Lokillo   \n",
      "85575  Luz Stella Luengas             Karen Bayona     ACTOR      Lokillo   \n",
      "85576        In??s Prieto                    Fanny     ACTOR      Lokillo   \n",
      "85578      Julian Gaviria                  unknown  DIRECTOR      Lokillo   \n",
      "\n",
      "            type  release_year              genres  imdb_score  imdb_votes  \n",
      "0          MOVIE          1976  ['drama', 'crime']         8.2    808582.0  \n",
      "1          MOVIE          1976  ['drama', 'crime']         8.2    808582.0  \n",
      "2          MOVIE          1976  ['drama', 'crime']         8.2    808582.0  \n",
      "3          MOVIE          1976  ['drama', 'crime']         8.2    808582.0  \n",
      "4          MOVIE          1976  ['drama', 'crime']         8.2    808582.0  \n",
      "...          ...           ...                 ...         ...         ...  \n",
      "85573  the movie          2021          ['comedy']         3.8        68.0  \n",
      "85574  the movie          2021          ['comedy']         3.8        68.0  \n",
      "85575  the movie          2021          ['comedy']         3.8        68.0  \n",
      "85576  the movie          2021          ['comedy']         3.8        68.0  \n",
      "85578  the movie          2021          ['comedy']         3.8        68.0  \n",
      "\n",
      "[73859 rows x 9 columns]\n",
      "                     name     character      role    title       type  \\\n",
      "85573       A??da Morales       Maritza     ACTOR  Lokillo  the movie   \n",
      "85574    Adelaida Buscato    Mar??a Paz     ACTOR  Lokillo  the movie   \n",
      "85575  Luz Stella Luengas  Karen Bayona     ACTOR  Lokillo  the movie   \n",
      "85576        In??s Prieto         Fanny     ACTOR  Lokillo  the movie   \n",
      "85578      Julian Gaviria       unknown  DIRECTOR  Lokillo  the movie   \n",
      "\n",
      "       release_year      genres  imdb_score  imdb_votes  \n",
      "85573          2021  ['comedy']         3.8        68.0  \n",
      "85574          2021  ['comedy']         3.8        68.0  \n",
      "85575          2021  ['comedy']         3.8        68.0  \n",
      "85576          2021  ['comedy']         3.8        68.0  \n",
      "85578          2021  ['comedy']         3.8        68.0  \n"
     ]
    }
   ],
   "source": [
    "df = df.drop_duplicates()\n",
    "print(df)\n",
    "print(df.tail())\n",
    "# removing duplicate rows\n"
   ]
  },
  {
   "cell_type": "code",
   "execution_count": 129,
   "id": "8091a9bc",
   "metadata": {
    "trusted": false
   },
   "outputs": [
    {
     "name": "stdout",
     "output_type": "stream",
     "text": [
      "0\n"
     ]
    }
   ],
   "source": [
    "print(df.duplicated().sum())# checking for duplicates"
   ]
  },
  {
   "cell_type": "code",
   "execution_count": 130,
   "id": "3d7b0ac5",
   "metadata": {
    "scrolled": true,
    "trusted": false
   },
   "outputs": [
    {
     "name": "stdout",
     "output_type": "stream",
     "text": [
      "['MOVIE', 'the movie', 'tv show', 'shows', 'movies', 'tv shows', 'tv series', 'tv', 'SHOW']\n"
     ]
    }
   ],
   "source": [
    "list_unique_type = list(df['type'].unique())\n",
    "print(list_unique_type)# viewing unique type names\n",
    "list_unique_type.remove('MOVIE')\n",
    "list_unique_type.remove('the movie')\n",
    "list_unique_type.remove('movies')"
   ]
  },
  {
   "cell_type": "code",
   "execution_count": 131,
   "id": "bff944f9",
   "metadata": {
    "trusted": false
   },
   "outputs": [],
   "source": [
    "def replace_wrong_show(df, wrong_shows_list, correct_show):\n",
    "    if 'type' in df.columns:\n",
    "        df['type'] = df['type'].replace(wrong_shows_list, correct_show)\n",
    "        print(f\"Replaced values: {wrong_shows_list} with '{correct_show}' in the 'type' column.\")\n",
    "        return df\n",
    "    else:\n",
    "        print(\"The 'type' column is not found in the DataFrame.\")\n",
    "        return df\n",
    "\n",
    "# List of duplicate 'show' entries\n",
    "wrong_shows_list = ['shows', 'tv show', 'tv shows', 'tv series', 'tv']\n",
    "correct_show = 'SHOW'\n",
    "\n",
    "# Apply the function to replace the duplicates\n",
    "\n",
    "# Correct value\n",
    "\n",
    "# Applying the function\n",
    "\n"
   ]
  },
  {
   "cell_type": "code",
   "execution_count": 132,
   "id": "a2217e53",
   "metadata": {
    "trusted": false
   },
   "outputs": [
    {
     "name": "stdout",
     "output_type": "stream",
     "text": [
      "Replaced values: ['shows', 'tv show', 'tv shows', 'tv series', 'tv'] with 'SHOW' in the 'type' column.\n",
      "['MOVIE' 'the movie' 'SHOW' 'movies']\n"
     ]
    }
   ],
   "source": [
    "df = replace_wrong_show(df, wrong_shows_list, correct_show)\n",
    "print(df['type'].unique())\n",
    "# removing implicit duplicates\n",
    "# function for replacing implicit duplicates\n",
    "\n"
   ]
  },
  {
   "cell_type": "code",
   "execution_count": 133,
   "id": "25d49d73",
   "metadata": {
    "scrolled": true,
    "trusted": false
   },
   "outputs": [
    {
     "name": "stdout",
     "output_type": "stream",
     "text": [
      "['MOVIE' 'the movie' 'SHOW' 'movies']\n",
      "[\"['drama', 'crime']\" \"['drama', 'action', 'thriller', 'european']\"\n",
      " \"['fantasy', 'action', 'comedy']\" ... \"['drama', 'animation', 'music']\"\n",
      " \"['animation', 'family', 'scifi']\"\n",
      " \"['documentation', 'music', 'reality']\"]\n"
     ]
    }
   ],
   "source": [
    "# viewing unique genre names\n",
    "print(df['type'].unique())\n",
    "print(df['genres'].unique())\n"
   ]
  },
  {
   "cell_type": "markdown",
   "id": "1aa0f1b1",
   "metadata": {},
   "source": [
    "## Stage 3. Data analysis <a id='hypotheses'></a>"
   ]
  },
  {
   "cell_type": "code",
   "execution_count": 134,
   "id": "6a704aa1",
   "metadata": {
    "trusted": false
   },
   "outputs": [
    {
     "data": {
      "text/html": [
       "<div>\n",
       "<style scoped>\n",
       "    .dataframe tbody tr th:only-of-type {\n",
       "        vertical-align: middle;\n",
       "    }\n",
       "\n",
       "    .dataframe tbody tr th {\n",
       "        vertical-align: top;\n",
       "    }\n",
       "\n",
       "    .dataframe thead th {\n",
       "        text-align: right;\n",
       "    }\n",
       "</style>\n",
       "<table border=\"1\" class=\"dataframe\">\n",
       "  <thead>\n",
       "    <tr style=\"text-align: right;\">\n",
       "      <th></th>\n",
       "      <th>name</th>\n",
       "      <th>character</th>\n",
       "      <th>role</th>\n",
       "      <th>title</th>\n",
       "      <th>type</th>\n",
       "      <th>release_year</th>\n",
       "      <th>genres</th>\n",
       "      <th>imdb_score</th>\n",
       "      <th>imdb_votes</th>\n",
       "    </tr>\n",
       "  </thead>\n",
       "  <tbody>\n",
       "    <tr>\n",
       "      <th>1664</th>\n",
       "      <td>Jeff Probst</td>\n",
       "      <td>Himself - Host</td>\n",
       "      <td>ACTOR</td>\n",
       "      <td>Survivor</td>\n",
       "      <td>SHOW</td>\n",
       "      <td>2000</td>\n",
       "      <td>['reality']</td>\n",
       "      <td>7.4</td>\n",
       "      <td>24687.0</td>\n",
       "    </tr>\n",
       "    <tr>\n",
       "      <th>1955</th>\n",
       "      <td>Benicio del Toro</td>\n",
       "      <td>Franky Four Fingers</td>\n",
       "      <td>ACTOR</td>\n",
       "      <td>Snatch</td>\n",
       "      <td>MOVIE</td>\n",
       "      <td>2000</td>\n",
       "      <td>['crime', 'comedy']</td>\n",
       "      <td>8.3</td>\n",
       "      <td>841435.0</td>\n",
       "    </tr>\n",
       "    <tr>\n",
       "      <th>1956</th>\n",
       "      <td>Dennis Farina</td>\n",
       "      <td>Cousin Avi</td>\n",
       "      <td>ACTOR</td>\n",
       "      <td>Snatch</td>\n",
       "      <td>MOVIE</td>\n",
       "      <td>2000</td>\n",
       "      <td>['crime', 'comedy']</td>\n",
       "      <td>8.3</td>\n",
       "      <td>841435.0</td>\n",
       "    </tr>\n",
       "    <tr>\n",
       "      <th>1957</th>\n",
       "      <td>Vinnie Jones</td>\n",
       "      <td>Bullet Tooth Tony</td>\n",
       "      <td>ACTOR</td>\n",
       "      <td>Snatch</td>\n",
       "      <td>MOVIE</td>\n",
       "      <td>2000</td>\n",
       "      <td>['crime', 'comedy']</td>\n",
       "      <td>8.3</td>\n",
       "      <td>841435.0</td>\n",
       "    </tr>\n",
       "    <tr>\n",
       "      <th>1958</th>\n",
       "      <td>Brad Pitt</td>\n",
       "      <td>Mickey O'Neil</td>\n",
       "      <td>ACTOR</td>\n",
       "      <td>Snatch</td>\n",
       "      <td>MOVIE</td>\n",
       "      <td>2000</td>\n",
       "      <td>['crime', 'comedy']</td>\n",
       "      <td>8.3</td>\n",
       "      <td>841435.0</td>\n",
       "    </tr>\n",
       "    <tr>\n",
       "      <th>...</th>\n",
       "      <td>...</td>\n",
       "      <td>...</td>\n",
       "      <td>...</td>\n",
       "      <td>...</td>\n",
       "      <td>...</td>\n",
       "      <td>...</td>\n",
       "      <td>...</td>\n",
       "      <td>...</td>\n",
       "      <td>...</td>\n",
       "    </tr>\n",
       "    <tr>\n",
       "      <th>85573</th>\n",
       "      <td>A??da Morales</td>\n",
       "      <td>Maritza</td>\n",
       "      <td>ACTOR</td>\n",
       "      <td>Lokillo</td>\n",
       "      <td>the movie</td>\n",
       "      <td>2021</td>\n",
       "      <td>['comedy']</td>\n",
       "      <td>3.8</td>\n",
       "      <td>68.0</td>\n",
       "    </tr>\n",
       "    <tr>\n",
       "      <th>85574</th>\n",
       "      <td>Adelaida Buscato</td>\n",
       "      <td>Mar??a Paz</td>\n",
       "      <td>ACTOR</td>\n",
       "      <td>Lokillo</td>\n",
       "      <td>the movie</td>\n",
       "      <td>2021</td>\n",
       "      <td>['comedy']</td>\n",
       "      <td>3.8</td>\n",
       "      <td>68.0</td>\n",
       "    </tr>\n",
       "    <tr>\n",
       "      <th>85575</th>\n",
       "      <td>Luz Stella Luengas</td>\n",
       "      <td>Karen Bayona</td>\n",
       "      <td>ACTOR</td>\n",
       "      <td>Lokillo</td>\n",
       "      <td>the movie</td>\n",
       "      <td>2021</td>\n",
       "      <td>['comedy']</td>\n",
       "      <td>3.8</td>\n",
       "      <td>68.0</td>\n",
       "    </tr>\n",
       "    <tr>\n",
       "      <th>85576</th>\n",
       "      <td>In??s Prieto</td>\n",
       "      <td>Fanny</td>\n",
       "      <td>ACTOR</td>\n",
       "      <td>Lokillo</td>\n",
       "      <td>the movie</td>\n",
       "      <td>2021</td>\n",
       "      <td>['comedy']</td>\n",
       "      <td>3.8</td>\n",
       "      <td>68.0</td>\n",
       "    </tr>\n",
       "    <tr>\n",
       "      <th>85578</th>\n",
       "      <td>Julian Gaviria</td>\n",
       "      <td>unknown</td>\n",
       "      <td>DIRECTOR</td>\n",
       "      <td>Lokillo</td>\n",
       "      <td>the movie</td>\n",
       "      <td>2021</td>\n",
       "      <td>['comedy']</td>\n",
       "      <td>3.8</td>\n",
       "      <td>68.0</td>\n",
       "    </tr>\n",
       "  </tbody>\n",
       "</table>\n",
       "<p>69881 rows × 9 columns</p>\n",
       "</div>"
      ],
      "text/plain": [
       "                     name            character      role     title       type  \\\n",
       "1664          Jeff Probst       Himself - Host     ACTOR  Survivor       SHOW   \n",
       "1955     Benicio del Toro  Franky Four Fingers     ACTOR    Snatch      MOVIE   \n",
       "1956        Dennis Farina           Cousin Avi     ACTOR    Snatch      MOVIE   \n",
       "1957         Vinnie Jones    Bullet Tooth Tony     ACTOR    Snatch      MOVIE   \n",
       "1958            Brad Pitt        Mickey O'Neil     ACTOR    Snatch      MOVIE   \n",
       "...                   ...                  ...       ...       ...        ...   \n",
       "85573       A??da Morales              Maritza     ACTOR   Lokillo  the movie   \n",
       "85574    Adelaida Buscato           Mar??a Paz     ACTOR   Lokillo  the movie   \n",
       "85575  Luz Stella Luengas         Karen Bayona     ACTOR   Lokillo  the movie   \n",
       "85576        In??s Prieto                Fanny     ACTOR   Lokillo  the movie   \n",
       "85578      Julian Gaviria              unknown  DIRECTOR   Lokillo  the movie   \n",
       "\n",
       "       release_year               genres  imdb_score  imdb_votes  \n",
       "1664           2000          ['reality']         7.4     24687.0  \n",
       "1955           2000  ['crime', 'comedy']         8.3    841435.0  \n",
       "1956           2000  ['crime', 'comedy']         8.3    841435.0  \n",
       "1957           2000  ['crime', 'comedy']         8.3    841435.0  \n",
       "1958           2000  ['crime', 'comedy']         8.3    841435.0  \n",
       "...             ...                  ...         ...         ...  \n",
       "85573          2021           ['comedy']         3.8        68.0  \n",
       "85574          2021           ['comedy']         3.8        68.0  \n",
       "85575          2021           ['comedy']         3.8        68.0  \n",
       "85576          2021           ['comedy']         3.8        68.0  \n",
       "85578          2021           ['comedy']         3.8        68.0  \n",
       "\n",
       "[69881 rows x 9 columns]"
      ]
     },
     "execution_count": 134,
     "metadata": {},
     "output_type": "execute_result"
    }
   ],
   "source": [
    "filtered_df = df[df['release_year'] >= 1999]\n",
    "filtered_df\n",
    "# using conditional indexing modify df so it has only titles released after 1999 (with 1999 included)\n",
    "# give the slice of dataframe new name\n"
   ]
  },
  {
   "cell_type": "code",
   "execution_count": 135,
   "id": "128dc6a9",
   "metadata": {
    "scrolled": true,
    "trusted": false
   },
   "outputs": [],
   "source": [
    "filtered_df = df[(df['release_year'] >= 1999) & (df['type'] == 'SHOW')]\n",
    "# repeat conditional indexing so df has only shows (movies are removed as result)\n"
   ]
  },
  {
   "cell_type": "code",
   "execution_count": 136,
   "id": "54bbd5c0",
   "metadata": {
    "scrolled": true,
    "trusted": false
   },
   "outputs": [
    {
     "data": {
      "text/html": [
       "<div>\n",
       "<style scoped>\n",
       "    .dataframe tbody tr th:only-of-type {\n",
       "        vertical-align: middle;\n",
       "    }\n",
       "\n",
       "    .dataframe tbody tr th {\n",
       "        vertical-align: top;\n",
       "    }\n",
       "\n",
       "    .dataframe thead th {\n",
       "        text-align: right;\n",
       "    }\n",
       "</style>\n",
       "<table border=\"1\" class=\"dataframe\">\n",
       "  <thead>\n",
       "    <tr style=\"text-align: right;\">\n",
       "      <th></th>\n",
       "      <th>name</th>\n",
       "      <th>character</th>\n",
       "      <th>role</th>\n",
       "      <th>title</th>\n",
       "      <th>type</th>\n",
       "      <th>release_year</th>\n",
       "      <th>genres</th>\n",
       "      <th>imdb_score</th>\n",
       "      <th>imdb_votes</th>\n",
       "    </tr>\n",
       "  </thead>\n",
       "  <tbody>\n",
       "    <tr>\n",
       "      <th>85411</th>\n",
       "      <td>Wanessa Camargo</td>\n",
       "      <td>unknown</td>\n",
       "      <td>ACTOR</td>\n",
       "      <td>The Family That Sings Together: The Camargos</td>\n",
       "      <td>SHOW</td>\n",
       "      <td>2021</td>\n",
       "      <td>['documentation', 'music', 'reality']</td>\n",
       "      <td>5.0</td>\n",
       "      <td>45.0</td>\n",
       "    </tr>\n",
       "    <tr>\n",
       "      <th>85429</th>\n",
       "      <td>Pranapong Khaisang</td>\n",
       "      <td>Tod</td>\n",
       "      <td>ACTOR</td>\n",
       "      <td>Let's Eat</td>\n",
       "      <td>SHOW</td>\n",
       "      <td>2021</td>\n",
       "      <td>['drama', 'comedy']</td>\n",
       "      <td>8.0</td>\n",
       "      <td>5.0</td>\n",
       "    </tr>\n",
       "    <tr>\n",
       "      <th>85430</th>\n",
       "      <td>Apinya Sakuljaroensuk</td>\n",
       "      <td>Saiparn</td>\n",
       "      <td>ACTOR</td>\n",
       "      <td>Let's Eat</td>\n",
       "      <td>SHOW</td>\n",
       "      <td>2021</td>\n",
       "      <td>['drama', 'comedy']</td>\n",
       "      <td>8.0</td>\n",
       "      <td>5.0</td>\n",
       "    </tr>\n",
       "    <tr>\n",
       "      <th>85431</th>\n",
       "      <td>Mawin Taweepol</td>\n",
       "      <td>Win</td>\n",
       "      <td>ACTOR</td>\n",
       "      <td>Let's Eat</td>\n",
       "      <td>SHOW</td>\n",
       "      <td>2021</td>\n",
       "      <td>['drama', 'comedy']</td>\n",
       "      <td>8.0</td>\n",
       "      <td>5.0</td>\n",
       "    </tr>\n",
       "    <tr>\n",
       "      <th>85432</th>\n",
       "      <td>Nat Sakdatorn</td>\n",
       "      <td>unknown</td>\n",
       "      <td>ACTOR</td>\n",
       "      <td>Let's Eat</td>\n",
       "      <td>SHOW</td>\n",
       "      <td>2021</td>\n",
       "      <td>['drama', 'comedy']</td>\n",
       "      <td>8.0</td>\n",
       "      <td>5.0</td>\n",
       "    </tr>\n",
       "    <tr>\n",
       "      <th>85433</th>\n",
       "      <td>Maneerat Kam-Uan</td>\n",
       "      <td>Ae</td>\n",
       "      <td>ACTOR</td>\n",
       "      <td>Let's Eat</td>\n",
       "      <td>SHOW</td>\n",
       "      <td>2021</td>\n",
       "      <td>['drama', 'comedy']</td>\n",
       "      <td>8.0</td>\n",
       "      <td>5.0</td>\n",
       "    </tr>\n",
       "    <tr>\n",
       "      <th>85434</th>\n",
       "      <td>Rudklao Amratisha</td>\n",
       "      <td>unknown</td>\n",
       "      <td>ACTOR</td>\n",
       "      <td>Let's Eat</td>\n",
       "      <td>SHOW</td>\n",
       "      <td>2021</td>\n",
       "      <td>['drama', 'comedy']</td>\n",
       "      <td>8.0</td>\n",
       "      <td>5.0</td>\n",
       "    </tr>\n",
       "    <tr>\n",
       "      <th>85435</th>\n",
       "      <td>Jaturong Mokjok</td>\n",
       "      <td>unknown</td>\n",
       "      <td>ACTOR</td>\n",
       "      <td>Let's Eat</td>\n",
       "      <td>SHOW</td>\n",
       "      <td>2021</td>\n",
       "      <td>['drama', 'comedy']</td>\n",
       "      <td>8.0</td>\n",
       "      <td>5.0</td>\n",
       "    </tr>\n",
       "    <tr>\n",
       "      <th>85436</th>\n",
       "      <td>Pisamai Wilaisak</td>\n",
       "      <td>unknown</td>\n",
       "      <td>ACTOR</td>\n",
       "      <td>Let's Eat</td>\n",
       "      <td>SHOW</td>\n",
       "      <td>2021</td>\n",
       "      <td>['drama', 'comedy']</td>\n",
       "      <td>8.0</td>\n",
       "      <td>5.0</td>\n",
       "    </tr>\n",
       "    <tr>\n",
       "      <th>85437</th>\n",
       "      <td>Sarawut Wichiensarn</td>\n",
       "      <td>unknown</td>\n",
       "      <td>DIRECTOR</td>\n",
       "      <td>Let's Eat</td>\n",
       "      <td>SHOW</td>\n",
       "      <td>2021</td>\n",
       "      <td>['drama', 'comedy']</td>\n",
       "      <td>8.0</td>\n",
       "      <td>5.0</td>\n",
       "    </tr>\n",
       "  </tbody>\n",
       "</table>\n",
       "</div>"
      ],
      "text/plain": [
       "                        name character      role  \\\n",
       "85411        Wanessa Camargo   unknown     ACTOR   \n",
       "85429     Pranapong Khaisang       Tod     ACTOR   \n",
       "85430  Apinya Sakuljaroensuk   Saiparn     ACTOR   \n",
       "85431         Mawin Taweepol       Win     ACTOR   \n",
       "85432          Nat Sakdatorn   unknown     ACTOR   \n",
       "85433       Maneerat Kam-Uan        Ae     ACTOR   \n",
       "85434      Rudklao Amratisha   unknown     ACTOR   \n",
       "85435        Jaturong Mokjok   unknown     ACTOR   \n",
       "85436       Pisamai Wilaisak   unknown     ACTOR   \n",
       "85437    Sarawut Wichiensarn   unknown  DIRECTOR   \n",
       "\n",
       "                                              title  type  release_year  \\\n",
       "85411  The Family That Sings Together: The Camargos  SHOW          2021   \n",
       "85429                                     Let's Eat  SHOW          2021   \n",
       "85430                                     Let's Eat  SHOW          2021   \n",
       "85431                                     Let's Eat  SHOW          2021   \n",
       "85432                                     Let's Eat  SHOW          2021   \n",
       "85433                                     Let's Eat  SHOW          2021   \n",
       "85434                                     Let's Eat  SHOW          2021   \n",
       "85435                                     Let's Eat  SHOW          2021   \n",
       "85436                                     Let's Eat  SHOW          2021   \n",
       "85437                                     Let's Eat  SHOW          2021   \n",
       "\n",
       "                                      genres  imdb_score  imdb_votes  \n",
       "85411  ['documentation', 'music', 'reality']         5.0        45.0  \n",
       "85429                    ['drama', 'comedy']         8.0         5.0  \n",
       "85430                    ['drama', 'comedy']         8.0         5.0  \n",
       "85431                    ['drama', 'comedy']         8.0         5.0  \n",
       "85432                    ['drama', 'comedy']         8.0         5.0  \n",
       "85433                    ['drama', 'comedy']         8.0         5.0  \n",
       "85434                    ['drama', 'comedy']         8.0         5.0  \n",
       "85435                    ['drama', 'comedy']         8.0         5.0  \n",
       "85436                    ['drama', 'comedy']         8.0         5.0  \n",
       "85437                    ['drama', 'comedy']         8.0         5.0  "
      ]
     },
     "execution_count": 136,
     "metadata": {},
     "output_type": "execute_result"
    }
   ],
   "source": [
    "filtered_df = filtered_df.copy()\n",
    "filtered_df.loc[:, 'imdb_score'] = filtered_df['imdb_score'].round()\n",
    "filtered_df.tail(10)\n",
    "\n",
    "# rounding column with scores\n",
    "\n",
    "#checking the outcome with tail()\n"
   ]
  },
  {
   "cell_type": "code",
   "execution_count": 137,
   "id": "b8b55e95",
   "metadata": {
    "scrolled": true,
    "trusted": false
   },
   "outputs": [
    {
     "data": {
      "text/plain": [
       "imdb_score\n",
       "2.0       24\n",
       "3.0       27\n",
       "4.0      179\n",
       "5.0      589\n",
       "6.0     2477\n",
       "7.0     4706\n",
       "8.0     4820\n",
       "9.0      557\n",
       "10.0       8\n",
       "Name: imdb_votes, dtype: int64"
      ]
     },
     "execution_count": 137,
     "metadata": {},
     "output_type": "execute_result"
    }
   ],
   "source": [
    "filtered_df = filtered_df.drop_duplicates()\n",
    "filtered_df['imdb_score'] = round(df['imdb_score'],0)\n",
    "filtered_df['imdb_score'].unique()\n",
    "filtered_df.groupby('imdb_score')['imdb_votes'].count()\n",
    "\n",
    "\n",
    "\n",
    "# Use groupby() for scores and count all unique values in each group, print the result\n"
   ]
  },
  {
   "cell_type": "code",
   "execution_count": 138,
   "id": "d1867e0e",
   "metadata": {
    "scrolled": true,
    "trusted": false
   },
   "outputs": [
    {
     "name": "stdout",
     "output_type": "stream",
     "text": [
      "   imdb_score  average_votes\n",
      "0         4.0    5296.553073\n",
      "1         5.0    3159.726655\n",
      "2         6.0    3503.104966\n",
      "3         7.0    8727.068211\n",
      "4         8.0   30431.420539\n",
      "5         9.0  126904.109515\n"
     ]
    }
   ],
   "source": [
    "filtered_df = filtered_df[(filtered_df['imdb_score'] >= 4) & (filtered_df['imdb_score'] <= 9)]\n",
    "grouped_df = filtered_df.groupby('imdb_score')['imdb_votes'].mean().reset_index()\n",
    "grouped_df.loc[:, \"imdb_score\"] = grouped_df[\"imdb_score\"].round(0)\n",
    "grouped_df.columns = [\"imdb_score\", \"average_votes\"]\n",
    "print(grouped_df)\n",
    "# filter dataframe using two conditions (scores to be in the range 4-9)\n",
    "\n",
    "# group scores and corresponding average number of votes, reset index and print the result\n"
   ]
  },
  {
   "cell_type": "code",
   "execution_count": 139,
   "id": "5999051b",
   "metadata": {
    "trusted": false
   },
   "outputs": [
    {
     "data": {
      "text/html": [
       "<div>\n",
       "<style scoped>\n",
       "    .dataframe tbody tr th:only-of-type {\n",
       "        vertical-align: middle;\n",
       "    }\n",
       "\n",
       "    .dataframe tbody tr th {\n",
       "        vertical-align: top;\n",
       "    }\n",
       "\n",
       "    .dataframe thead th {\n",
       "        text-align: right;\n",
       "    }\n",
       "</style>\n",
       "<table border=\"1\" class=\"dataframe\">\n",
       "  <thead>\n",
       "    <tr style=\"text-align: right;\">\n",
       "      <th></th>\n",
       "      <th>imdb_score</th>\n",
       "      <th>average_votes</th>\n",
       "    </tr>\n",
       "  </thead>\n",
       "  <tbody>\n",
       "    <tr>\n",
       "      <th>5</th>\n",
       "      <td>9.0</td>\n",
       "      <td>126904.109515</td>\n",
       "    </tr>\n",
       "    <tr>\n",
       "      <th>4</th>\n",
       "      <td>8.0</td>\n",
       "      <td>30431.420539</td>\n",
       "    </tr>\n",
       "    <tr>\n",
       "      <th>3</th>\n",
       "      <td>7.0</td>\n",
       "      <td>8727.068211</td>\n",
       "    </tr>\n",
       "    <tr>\n",
       "      <th>0</th>\n",
       "      <td>4.0</td>\n",
       "      <td>5296.553073</td>\n",
       "    </tr>\n",
       "    <tr>\n",
       "      <th>2</th>\n",
       "      <td>6.0</td>\n",
       "      <td>3503.104966</td>\n",
       "    </tr>\n",
       "    <tr>\n",
       "      <th>1</th>\n",
       "      <td>5.0</td>\n",
       "      <td>3159.726655</td>\n",
       "    </tr>\n",
       "  </tbody>\n",
       "</table>\n",
       "</div>"
      ],
      "text/plain": [
       "   imdb_score  average_votes\n",
       "5         9.0  126904.109515\n",
       "4         8.0   30431.420539\n",
       "3         7.0    8727.068211\n",
       "0         4.0    5296.553073\n",
       "2         6.0    3503.104966\n",
       "1         5.0    3159.726655"
      ]
     },
     "execution_count": 139,
     "metadata": {},
     "output_type": "execute_result"
    }
   ],
   "source": [
    "grouped_df.sort_values(by=\"average_votes\", ascending=False)\n",
    "# round column with averages\n",
    "\n",
    "# rename columns\n",
    "\n",
    "# print dataframe in descending order\n"
   ]
  },
  {
   "cell_type": "markdown",
   "id": "84e29a37",
   "metadata": {},
   "source": [
    "## Conclusion <a id='hypotheses'></a>"
   ]
  },
  {
   "cell_type": "markdown",
   "id": "984766a3",
   "metadata": {},
   "source": [
    "The research done confirms that highly-rated shows released during the \"Golden Age\" of television also have the most votes. While shows with score 4 have more votes than ones with scores 5 and 6, the top three (scores 7-9) have the largest number. The data studied represents around 94% of the original set, so we can be confident in our findings."
   ]
  }
 ],
 "metadata": {
  "ExecuteTimeLog": [
   {
    "duration": 326,
    "start_time": "2025-01-10T04:45:44.699Z"
   },
   {
    "duration": 3,
    "start_time": "2025-01-10T04:51:51.420Z"
   },
   {
    "duration": 3,
    "start_time": "2025-01-10T04:51:56.928Z"
   },
   {
    "duration": 189,
    "start_time": "2025-01-10T04:56:56.645Z"
   },
   {
    "duration": 18,
    "start_time": "2025-01-10T04:57:29.523Z"
   },
   {
    "duration": 4,
    "start_time": "2025-01-10T04:58:23.981Z"
   },
   {
    "duration": 4,
    "start_time": "2025-01-10T04:58:34.154Z"
   },
   {
    "duration": 147,
    "start_time": "2025-01-10T05:03:10.047Z"
   },
   {
    "duration": 122,
    "start_time": "2025-01-10T05:03:15.049Z"
   },
   {
    "duration": 123,
    "start_time": "2025-01-10T05:03:21.108Z"
   },
   {
    "duration": 124,
    "start_time": "2025-01-10T05:03:27.084Z"
   },
   {
    "duration": 123,
    "start_time": "2025-01-10T05:12:03.522Z"
   },
   {
    "duration": 114,
    "start_time": "2025-01-10T05:13:15.049Z"
   },
   {
    "duration": 3,
    "start_time": "2025-01-10T05:13:26.369Z"
   },
   {
    "duration": 2,
    "start_time": "2025-01-10T05:13:28.575Z"
   },
   {
    "duration": 2,
    "start_time": "2025-01-10T05:14:21.970Z"
   },
   {
    "duration": 121,
    "start_time": "2025-01-10T05:14:23.166Z"
   },
   {
    "duration": 113,
    "start_time": "2025-01-10T05:14:28.168Z"
   },
   {
    "duration": 12,
    "start_time": "2025-01-10T05:26:26.607Z"
   },
   {
    "duration": 3,
    "start_time": "2025-01-10T05:31:41.757Z"
   },
   {
    "duration": 353,
    "start_time": "2025-01-10T05:33:20.502Z"
   },
   {
    "duration": 113,
    "start_time": "2025-01-10T05:33:59.240Z"
   },
   {
    "duration": 111,
    "start_time": "2025-01-10T05:34:01.798Z"
   },
   {
    "duration": 120,
    "start_time": "2025-01-10T05:34:19.627Z"
   },
   {
    "duration": 61,
    "start_time": "2025-01-10T05:34:26.651Z"
   },
   {
    "duration": 115,
    "start_time": "2025-01-10T05:34:30.257Z"
   },
   {
    "duration": 111,
    "start_time": "2025-01-10T05:34:48.535Z"
   },
   {
    "duration": 112,
    "start_time": "2025-01-10T05:34:50.589Z"
   },
   {
    "duration": 3,
    "start_time": "2025-01-10T05:35:31.117Z"
   },
   {
    "duration": 118,
    "start_time": "2025-01-10T05:35:32.323Z"
   },
   {
    "duration": 110,
    "start_time": "2025-01-10T05:35:40.298Z"
   },
   {
    "duration": 140,
    "start_time": "2025-01-10T05:38:26.777Z"
   },
   {
    "duration": 115,
    "start_time": "2025-01-10T05:38:50.093Z"
   },
   {
    "duration": 8,
    "start_time": "2025-01-10T05:39:33.806Z"
   },
   {
    "duration": 113,
    "start_time": "2025-01-10T05:39:44.658Z"
   },
   {
    "duration": 6,
    "start_time": "2025-01-10T05:40:14.253Z"
   },
   {
    "duration": 13,
    "start_time": "2025-01-10T05:41:18.598Z"
   },
   {
    "duration": 12,
    "start_time": "2025-01-10T05:42:07.629Z"
   },
   {
    "duration": 4,
    "start_time": "2025-01-10T05:43:30.076Z"
   },
   {
    "duration": 157,
    "start_time": "2025-01-10T22:02:02.754Z"
   },
   {
    "duration": 16,
    "start_time": "2025-01-10T22:02:18.769Z"
   },
   {
    "duration": 13,
    "start_time": "2025-01-10T22:02:31.441Z"
   },
   {
    "duration": 13,
    "start_time": "2025-01-10T22:02:45.579Z"
   },
   {
    "duration": 11,
    "start_time": "2025-01-10T22:02:59.989Z"
   },
   {
    "duration": 13,
    "start_time": "2025-01-10T22:03:13.289Z"
   },
   {
    "duration": 17,
    "start_time": "2025-01-10T22:03:17.189Z"
   },
   {
    "duration": 35,
    "start_time": "2025-01-10T22:03:44.917Z"
   },
   {
    "duration": 253,
    "start_time": "2025-01-10T22:04:27.881Z"
   },
   {
    "duration": 2,
    "start_time": "2025-01-10T22:04:28.698Z"
   },
   {
    "duration": 149,
    "start_time": "2025-01-10T22:04:32.598Z"
   },
   {
    "duration": 115,
    "start_time": "2025-01-10T22:04:34.570Z"
   },
   {
    "duration": 8,
    "start_time": "2025-01-10T22:04:36.484Z"
   },
   {
    "duration": 4,
    "start_time": "2025-01-10T22:04:45.286Z"
   },
   {
    "duration": 401,
    "start_time": "2025-01-10T22:11:11.325Z"
   },
   {
    "duration": 37,
    "start_time": "2025-01-10T22:11:43.233Z"
   },
   {
    "duration": 2,
    "start_time": "2025-01-10T22:16:54.893Z"
   },
   {
    "duration": 14,
    "start_time": "2025-01-10T22:17:40.832Z"
   },
   {
    "duration": 2,
    "start_time": "2025-01-10T22:17:48.258Z"
   },
   {
    "duration": 2,
    "start_time": "2025-01-10T23:08:21.393Z"
   },
   {
    "duration": 3,
    "start_time": "2025-01-10T23:08:29.342Z"
   },
   {
    "duration": 8,
    "start_time": "2025-01-10T23:13:48.819Z"
   },
   {
    "duration": 13,
    "start_time": "2025-01-10T23:16:30.510Z"
   },
   {
    "duration": 7,
    "start_time": "2025-01-10T23:16:35.228Z"
   },
   {
    "duration": 10,
    "start_time": "2025-01-10T23:21:22.136Z"
   },
   {
    "duration": 12,
    "start_time": "2025-01-10T23:23:07.152Z"
   },
   {
    "duration": 7,
    "start_time": "2025-01-10T23:23:13.249Z"
   },
   {
    "duration": 11,
    "start_time": "2025-01-10T23:24:22.740Z"
   },
   {
    "duration": 7,
    "start_time": "2025-01-10T23:24:26.848Z"
   },
   {
    "duration": 3,
    "start_time": "2025-01-10T23:29:25.313Z"
   },
   {
    "duration": 23,
    "start_time": "2025-01-10T23:46:29.972Z"
   },
   {
    "duration": 22,
    "start_time": "2025-01-10T23:47:35.833Z"
   },
   {
    "duration": 23,
    "start_time": "2025-01-10T23:47:40.063Z"
   },
   {
    "duration": 5,
    "start_time": "2025-01-11T00:03:36.866Z"
   },
   {
    "duration": 14,
    "start_time": "2025-01-11T00:04:13.358Z"
   },
   {
    "duration": 509,
    "start_time": "2025-01-11T00:05:08.204Z"
   },
   {
    "duration": 134,
    "start_time": "2025-01-11T00:06:16.540Z"
   },
   {
    "duration": 132,
    "start_time": "2025-01-11T00:06:20.894Z"
   },
   {
    "duration": 10,
    "start_time": "2025-01-11T00:07:43.071Z"
   },
   {
    "duration": 11,
    "start_time": "2025-01-11T00:13:34.814Z"
   },
   {
    "duration": 11,
    "start_time": "2025-01-11T00:13:39.422Z"
   },
   {
    "duration": 12,
    "start_time": "2025-01-11T00:13:43.203Z"
   },
   {
    "duration": 11,
    "start_time": "2025-01-11T00:13:46.148Z"
   },
   {
    "duration": 19,
    "start_time": "2025-01-11T00:14:14.810Z"
   },
   {
    "duration": 11,
    "start_time": "2025-01-11T00:21:04.474Z"
   },
   {
    "duration": 13,
    "start_time": "2025-01-11T00:22:52.901Z"
   },
   {
    "duration": 11,
    "start_time": "2025-01-11T00:23:58.781Z"
   },
   {
    "duration": 8,
    "start_time": "2025-01-11T00:24:08.337Z"
   },
   {
    "duration": 6,
    "start_time": "2025-01-11T00:24:51.043Z"
   },
   {
    "duration": 8,
    "start_time": "2025-01-11T00:24:58.554Z"
   },
   {
    "duration": 10,
    "start_time": "2025-01-11T00:25:09.754Z"
   },
   {
    "duration": 8,
    "start_time": "2025-01-11T00:25:14.916Z"
   },
   {
    "duration": 9,
    "start_time": "2025-01-11T00:25:19.854Z"
   },
   {
    "duration": 7,
    "start_time": "2025-01-11T00:25:22.523Z"
   },
   {
    "duration": 8,
    "start_time": "2025-01-11T00:25:25.277Z"
   },
   {
    "duration": 7,
    "start_time": "2025-01-11T00:25:31.627Z"
   },
   {
    "duration": 8,
    "start_time": "2025-01-11T00:25:34.743Z"
   },
   {
    "duration": 7,
    "start_time": "2025-01-11T00:25:41.897Z"
   },
   {
    "duration": 8,
    "start_time": "2025-01-11T00:25:46.207Z"
   },
   {
    "duration": 8,
    "start_time": "2025-01-11T00:25:50.176Z"
   },
   {
    "duration": 7,
    "start_time": "2025-01-11T00:25:56.799Z"
   },
   {
    "duration": 162,
    "start_time": "2025-01-13T01:18:00.052Z"
   },
   {
    "duration": 11,
    "start_time": "2025-01-13T01:18:06.822Z"
   },
   {
    "duration": 331,
    "start_time": "2025-01-13T01:18:13.608Z"
   },
   {
    "duration": 143,
    "start_time": "2025-01-13T01:18:15.180Z"
   },
   {
    "duration": 112,
    "start_time": "2025-01-13T01:18:16.470Z"
   },
   {
    "duration": 10,
    "start_time": "2025-01-13T01:18:44.760Z"
   },
   {
    "duration": 43,
    "start_time": "2025-01-13T01:19:15.085Z"
   },
   {
    "duration": 70,
    "start_time": "2025-01-13T01:20:18.719Z"
   },
   {
    "duration": 49,
    "start_time": "2025-01-13T01:20:30.185Z"
   },
   {
    "duration": 39,
    "start_time": "2025-01-13T01:20:40.961Z"
   },
   {
    "duration": 40,
    "start_time": "2025-01-13T01:20:41.776Z"
   },
   {
    "duration": 11,
    "start_time": "2025-01-13T01:20:51.559Z"
   },
   {
    "duration": 12,
    "start_time": "2025-01-13T01:21:14.850Z"
   },
   {
    "duration": 11,
    "start_time": "2025-01-13T01:21:22.372Z"
   },
   {
    "duration": 38,
    "start_time": "2025-01-13T01:22:22.398Z"
   },
   {
    "duration": 37,
    "start_time": "2025-01-13T01:22:23.242Z"
   },
   {
    "duration": 39,
    "start_time": "2025-01-13T01:22:34.800Z"
   },
   {
    "duration": 37,
    "start_time": "2025-01-13T01:22:59.044Z"
   },
   {
    "duration": 40,
    "start_time": "2025-01-13T01:23:03.276Z"
   },
   {
    "duration": 43,
    "start_time": "2025-01-13T01:24:38.512Z"
   },
   {
    "duration": 45,
    "start_time": "2025-01-13T01:24:47.368Z"
   },
   {
    "duration": 50,
    "start_time": "2025-01-13T01:25:01.049Z"
   },
   {
    "duration": 47,
    "start_time": "2025-01-13T01:25:13.510Z"
   },
   {
    "duration": 46,
    "start_time": "2025-01-13T01:25:29.135Z"
   },
   {
    "duration": 8,
    "start_time": "2025-01-13T01:25:55.797Z"
   },
   {
    "duration": 6,
    "start_time": "2025-01-13T01:25:56.822Z"
   },
   {
    "duration": 6,
    "start_time": "2025-01-13T01:25:57.558Z"
   },
   {
    "duration": 6,
    "start_time": "2025-01-13T01:26:14.175Z"
   },
   {
    "duration": 6,
    "start_time": "2025-01-13T01:26:28.487Z"
   },
   {
    "duration": 43,
    "start_time": "2025-01-13T01:26:42.946Z"
   },
   {
    "duration": 45,
    "start_time": "2025-01-13T01:26:48.628Z"
   },
   {
    "duration": 8,
    "start_time": "2025-01-13T01:27:20.375Z"
   },
   {
    "duration": 43,
    "start_time": "2025-01-13T01:27:22.538Z"
   },
   {
    "duration": 43,
    "start_time": "2025-01-13T01:28:06.205Z"
   },
   {
    "duration": 45,
    "start_time": "2025-01-13T01:28:28.906Z"
   },
   {
    "duration": 42,
    "start_time": "2025-01-13T01:28:37.774Z"
   },
   {
    "duration": 9,
    "start_time": "2025-01-13T01:29:05.140Z"
   },
   {
    "duration": 7,
    "start_time": "2025-01-13T01:29:10.919Z"
   },
   {
    "duration": 45,
    "start_time": "2025-01-13T01:41:29.456Z"
   },
   {
    "duration": 2,
    "start_time": "2025-01-13T01:41:38.351Z"
   },
   {
    "duration": 3,
    "start_time": "2025-01-13T01:44:36.489Z"
   },
   {
    "duration": 45,
    "start_time": "2025-01-13T01:45:22.703Z"
   },
   {
    "duration": 46,
    "start_time": "2025-01-13T01:45:30.904Z"
   },
   {
    "duration": 52,
    "start_time": "2025-01-13T01:45:37.827Z"
   },
   {
    "duration": 3,
    "start_time": "2025-01-13T01:45:43.514Z"
   },
   {
    "duration": 4,
    "start_time": "2025-01-13T01:47:01.245Z"
   },
   {
    "duration": 3,
    "start_time": "2025-01-13T01:47:04.658Z"
   },
   {
    "duration": 26,
    "start_time": "2025-01-13T01:52:31.458Z"
   },
   {
    "duration": 3,
    "start_time": "2025-01-13T01:54:41.913Z"
   },
   {
    "duration": 22,
    "start_time": "2025-01-13T02:00:09.914Z"
   },
   {
    "duration": 25,
    "start_time": "2025-01-13T02:00:12.158Z"
   },
   {
    "duration": 28,
    "start_time": "2025-01-13T02:37:30.573Z"
   },
   {
    "duration": 36,
    "start_time": "2025-01-13T02:55:20.966Z"
   },
   {
    "duration": 29,
    "start_time": "2025-01-13T02:55:35.298Z"
   },
   {
    "duration": 38,
    "start_time": "2025-01-13T02:55:54.150Z"
   },
   {
    "duration": 38,
    "start_time": "2025-01-13T02:56:03.410Z"
   },
   {
    "duration": 25,
    "start_time": "2025-01-13T02:57:54.304Z"
   },
   {
    "duration": 25,
    "start_time": "2025-01-13T02:57:57.014Z"
   },
   {
    "duration": 3,
    "start_time": "2025-01-13T03:00:18.918Z"
   },
   {
    "duration": 388,
    "start_time": "2025-01-13T03:02:17.728Z"
   },
   {
    "duration": 42,
    "start_time": "2025-01-13T03:02:38.995Z"
   },
   {
    "duration": 19,
    "start_time": "2025-01-13T03:03:25.777Z"
   },
   {
    "duration": 19,
    "start_time": "2025-01-13T03:03:49.146Z"
   },
   {
    "duration": 19,
    "start_time": "2025-01-13T03:03:53.729Z"
   },
   {
    "duration": 18,
    "start_time": "2025-01-13T03:03:56.954Z"
   },
   {
    "duration": 19,
    "start_time": "2025-01-13T03:03:59.076Z"
   },
   {
    "duration": 20,
    "start_time": "2025-01-13T03:04:00.743Z"
   },
   {
    "duration": 4,
    "start_time": "2025-01-13T03:04:08.251Z"
   },
   {
    "duration": 19,
    "start_time": "2025-01-13T03:04:10.716Z"
   },
   {
    "duration": 43,
    "start_time": "2025-01-13T03:04:20.004Z"
   },
   {
    "duration": 3,
    "start_time": "2025-01-13T03:04:23.763Z"
   },
   {
    "duration": 3,
    "start_time": "2025-01-13T03:04:25.228Z"
   },
   {
    "duration": 19,
    "start_time": "2025-01-13T03:04:26.241Z"
   },
   {
    "duration": 8,
    "start_time": "2025-01-13T03:04:34.890Z"
   },
   {
    "duration": 19,
    "start_time": "2025-01-13T03:05:15.898Z"
   },
   {
    "duration": 3,
    "start_time": "2025-01-13T03:05:35.397Z"
   },
   {
    "duration": 118,
    "start_time": "2025-01-13T03:05:36.489Z"
   },
   {
    "duration": 6,
    "start_time": "2025-01-13T03:05:38.183Z"
   },
   {
    "duration": 24,
    "start_time": "2025-01-13T03:05:41.073Z"
   },
   {
    "duration": 45,
    "start_time": "2025-01-13T03:05:46.090Z"
   },
   {
    "duration": 3,
    "start_time": "2025-01-13T03:05:48.778Z"
   },
   {
    "duration": 4,
    "start_time": "2025-01-13T03:05:51.374Z"
   },
   {
    "duration": 18,
    "start_time": "2025-01-13T03:05:52.929Z"
   },
   {
    "duration": 20,
    "start_time": "2025-01-13T03:06:10.080Z"
   },
   {
    "duration": 9,
    "start_time": "2025-01-13T03:07:49.756Z"
   },
   {
    "duration": 8,
    "start_time": "2025-01-13T03:08:11.764Z"
   },
   {
    "duration": 9,
    "start_time": "2025-01-13T03:08:21.539Z"
   },
   {
    "duration": 3,
    "start_time": "2025-01-13T03:08:38.935Z"
   },
   {
    "duration": 8,
    "start_time": "2025-01-13T03:14:33.094Z"
   },
   {
    "duration": 20,
    "start_time": "2025-01-13T03:14:58.253Z"
   },
   {
    "duration": 39,
    "start_time": "2025-01-13T03:15:47.089Z"
   },
   {
    "duration": 18,
    "start_time": "2025-01-13T03:16:08.541Z"
   },
   {
    "duration": 20,
    "start_time": "2025-01-13T03:16:42.377Z"
   },
   {
    "duration": 51,
    "start_time": "2025-01-13T03:21:26.733Z"
   },
   {
    "duration": 54,
    "start_time": "2025-01-13T03:26:27.880Z"
   },
   {
    "duration": 46,
    "start_time": "2025-01-13T03:29:45.133Z"
   },
   {
    "duration": 14,
    "start_time": "2025-01-13T04:31:51.055Z"
   },
   {
    "duration": 37,
    "start_time": "2025-01-13T04:32:09.502Z"
   },
   {
    "duration": 17,
    "start_time": "2025-01-13T04:33:20.363Z"
   },
   {
    "duration": 17,
    "start_time": "2025-01-13T04:33:26.010Z"
   },
   {
    "duration": 3,
    "start_time": "2025-01-13T04:33:31.670Z"
   },
   {
    "duration": 16,
    "start_time": "2025-01-13T04:33:34.241Z"
   },
   {
    "duration": 18,
    "start_time": "2025-01-13T04:33:55.443Z"
   },
   {
    "duration": 3,
    "start_time": "2025-01-13T04:45:01.440Z"
   },
   {
    "duration": 19,
    "start_time": "2025-01-13T04:45:02.996Z"
   },
   {
    "duration": 57,
    "start_time": "2025-01-13T04:45:06.897Z"
   },
   {
    "duration": 4,
    "start_time": "2025-01-13T04:45:12.780Z"
   },
   {
    "duration": 139,
    "start_time": "2025-01-13T04:45:13.645Z"
   },
   {
    "duration": 6,
    "start_time": "2025-01-13T04:45:14.585Z"
   },
   {
    "duration": 23,
    "start_time": "2025-01-13T04:45:16.547Z"
   },
   {
    "duration": 46,
    "start_time": "2025-01-13T04:45:22.051Z"
   },
   {
    "duration": 4,
    "start_time": "2025-01-13T04:45:29.021Z"
   },
   {
    "duration": 3,
    "start_time": "2025-01-13T04:45:33.201Z"
   },
   {
    "duration": 19,
    "start_time": "2025-01-13T04:45:35.205Z"
   },
   {
    "duration": 31,
    "start_time": "2025-01-13T04:59:17.033Z"
   },
   {
    "duration": 19,
    "start_time": "2025-01-13T05:26:00.608Z"
   },
   {
    "duration": 18,
    "start_time": "2025-01-13T05:26:05.249Z"
   },
   {
    "duration": 30,
    "start_time": "2025-01-13T05:37:33.047Z"
   },
   {
    "duration": 18,
    "start_time": "2025-01-13T05:37:38.573Z"
   },
   {
    "duration": 19,
    "start_time": "2025-01-13T05:44:20.404Z"
   },
   {
    "duration": 20,
    "start_time": "2025-01-13T05:44:24.307Z"
   },
   {
    "duration": 9,
    "start_time": "2025-01-13T05:46:37.341Z"
   },
   {
    "duration": 3,
    "start_time": "2025-01-13T05:46:58.768Z"
   },
   {
    "duration": 118,
    "start_time": "2025-01-13T05:46:59.496Z"
   },
   {
    "duration": 6,
    "start_time": "2025-01-13T05:47:00.754Z"
   },
   {
    "duration": 23,
    "start_time": "2025-01-13T05:47:03.204Z"
   },
   {
    "duration": 44,
    "start_time": "2025-01-13T05:47:05.786Z"
   },
   {
    "duration": 3,
    "start_time": "2025-01-13T05:47:10.741Z"
   },
   {
    "duration": 3,
    "start_time": "2025-01-13T05:47:12.279Z"
   },
   {
    "duration": 18,
    "start_time": "2025-01-13T05:47:14.762Z"
   },
   {
    "duration": 12,
    "start_time": "2025-01-13T05:47:21.681Z"
   },
   {
    "duration": 24,
    "start_time": "2025-01-13T05:47:48.858Z"
   },
   {
    "duration": 30,
    "start_time": "2025-01-13T05:48:32.046Z"
   },
   {
    "duration": 55,
    "start_time": "2025-01-13T05:51:35.411Z"
   },
   {
    "duration": 67,
    "start_time": "2025-01-13T05:52:12.436Z"
   },
   {
    "duration": 2,
    "start_time": "2025-01-13T05:52:31.092Z"
   },
   {
    "duration": 27,
    "start_time": "2025-01-13T05:52:36.614Z"
   },
   {
    "duration": 3,
    "start_time": "2025-01-13T05:52:39.288Z"
   },
   {
    "duration": 118,
    "start_time": "2025-01-13T05:52:40.033Z"
   },
   {
    "duration": 7,
    "start_time": "2025-01-13T05:52:41.372Z"
   },
   {
    "duration": 24,
    "start_time": "2025-01-13T05:52:42.941Z"
   },
   {
    "duration": 42,
    "start_time": "2025-01-13T05:52:45.548Z"
   },
   {
    "duration": 3,
    "start_time": "2025-01-13T05:52:46.757Z"
   },
   {
    "duration": 3,
    "start_time": "2025-01-13T05:52:48.137Z"
   },
   {
    "duration": 19,
    "start_time": "2025-01-13T05:52:49.558Z"
   },
   {
    "duration": 32,
    "start_time": "2025-01-13T05:52:55.232Z"
   },
   {
    "duration": 80,
    "start_time": "2025-01-13T05:54:33.094Z"
   },
   {
    "duration": 4,
    "start_time": "2025-01-13T05:54:46.894Z"
   },
   {
    "duration": 130,
    "start_time": "2025-01-13T05:54:48.143Z"
   },
   {
    "duration": 6,
    "start_time": "2025-01-13T05:54:48.993Z"
   },
   {
    "duration": 24,
    "start_time": "2025-01-13T05:54:50.673Z"
   },
   {
    "duration": 46,
    "start_time": "2025-01-13T05:54:53.869Z"
   },
   {
    "duration": 3,
    "start_time": "2025-01-13T05:54:56.402Z"
   },
   {
    "duration": 6,
    "start_time": "2025-01-13T05:54:58.121Z"
   },
   {
    "duration": 20,
    "start_time": "2025-01-13T05:54:59.534Z"
   },
   {
    "duration": 43,
    "start_time": "2025-01-13T05:55:02.133Z"
   },
   {
    "duration": 31,
    "start_time": "2025-01-13T05:55:47.052Z"
   },
   {
    "duration": 50,
    "start_time": "2025-01-13T05:58:24.573Z"
   },
   {
    "duration": 24,
    "start_time": "2025-01-13T05:58:26.705Z"
   },
   {
    "duration": 42,
    "start_time": "2025-01-13T05:58:53.573Z"
   },
   {
    "duration": 56,
    "start_time": "2025-01-13T05:59:15.369Z"
   },
   {
    "duration": 38,
    "start_time": "2025-01-13T06:00:47.474Z"
   },
   {
    "duration": 49,
    "start_time": "2025-01-13T06:00:50.008Z"
   },
   {
    "duration": 3,
    "start_time": "2025-01-13T06:01:11.132Z"
   },
   {
    "duration": 146,
    "start_time": "2025-01-13T06:01:12.153Z"
   },
   {
    "duration": 7,
    "start_time": "2025-01-13T06:01:14.373Z"
   },
   {
    "duration": 24,
    "start_time": "2025-01-13T06:01:17.685Z"
   },
   {
    "duration": 67,
    "start_time": "2025-01-13T06:01:20.644Z"
   },
   {
    "duration": 4,
    "start_time": "2025-01-13T06:01:22.343Z"
   },
   {
    "duration": 2,
    "start_time": "2025-01-13T06:01:23.649Z"
   },
   {
    "duration": 21,
    "start_time": "2025-01-13T06:01:25.137Z"
   },
   {
    "duration": 39,
    "start_time": "2025-01-13T06:01:28.968Z"
   },
   {
    "duration": 40,
    "start_time": "2025-01-13T06:01:37.069Z"
   },
   {
    "duration": 48,
    "start_time": "2025-01-13T06:01:53.181Z"
   },
   {
    "duration": 3,
    "start_time": "2025-01-13T06:01:58.773Z"
   },
   {
    "duration": 115,
    "start_time": "2025-01-13T06:01:59.903Z"
   },
   {
    "duration": 9,
    "start_time": "2025-01-13T06:02:01.134Z"
   },
   {
    "duration": 33,
    "start_time": "2025-01-13T06:02:02.407Z"
   },
   {
    "duration": 45,
    "start_time": "2025-01-13T06:02:04.681Z"
   },
   {
    "duration": 3,
    "start_time": "2025-01-13T06:02:06.505Z"
   },
   {
    "duration": 4,
    "start_time": "2025-01-13T06:02:07.787Z"
   },
   {
    "duration": 21,
    "start_time": "2025-01-13T06:02:09.669Z"
   },
   {
    "duration": 42,
    "start_time": "2025-01-13T06:02:11.690Z"
   },
   {
    "duration": 44,
    "start_time": "2025-01-13T06:02:30.841Z"
   },
   {
    "duration": 44,
    "start_time": "2025-01-13T06:02:44.744Z"
   },
   {
    "duration": 49,
    "start_time": "2025-01-13T06:03:19.625Z"
   },
   {
    "duration": 41,
    "start_time": "2025-01-13T06:03:28.624Z"
   },
   {
    "duration": 6,
    "start_time": "2025-01-13T06:07:43.643Z"
   },
   {
    "duration": 18,
    "start_time": "2025-01-13T06:11:57.924Z"
   },
   {
    "duration": 27,
    "start_time": "2025-01-13T06:12:27.925Z"
   },
   {
    "duration": 41,
    "start_time": "2025-01-13T06:12:38.137Z"
   },
   {
    "duration": 2,
    "start_time": "2025-01-13T06:12:47.942Z"
   },
   {
    "duration": 121,
    "start_time": "2025-01-13T06:12:48.760Z"
   },
   {
    "duration": 6,
    "start_time": "2025-01-13T06:12:49.471Z"
   },
   {
    "duration": 26,
    "start_time": "2025-01-13T06:12:54.927Z"
   },
   {
    "duration": 52,
    "start_time": "2025-01-13T06:12:59.138Z"
   },
   {
    "duration": 3,
    "start_time": "2025-01-13T06:13:01.805Z"
   },
   {
    "duration": 5,
    "start_time": "2025-01-13T06:13:03.586Z"
   },
   {
    "duration": 29,
    "start_time": "2025-01-13T06:13:04.772Z"
   },
   {
    "duration": 34,
    "start_time": "2025-01-13T06:13:08.431Z"
   },
   {
    "duration": 47,
    "start_time": "2025-01-13T06:13:13.745Z"
   },
   {
    "duration": 25,
    "start_time": "2025-01-13T06:14:01.297Z"
   },
   {
    "duration": 13,
    "start_time": "2025-01-13T06:14:17.320Z"
   },
   {
    "duration": 3,
    "start_time": "2025-01-13T06:14:34.979Z"
   },
   {
    "duration": 18,
    "start_time": "2025-01-13T06:14:51.634Z"
   },
   {
    "duration": 27,
    "start_time": "2025-01-13T06:15:31.962Z"
   },
   {
    "duration": 36,
    "start_time": "2025-01-13T06:15:47.840Z"
   },
   {
    "duration": 51,
    "start_time": "2025-01-13T06:16:01.763Z"
   },
   {
    "duration": 21,
    "start_time": "2025-01-13T06:16:54.479Z"
   },
   {
    "duration": 33,
    "start_time": "2025-01-13T06:21:03.469Z"
   },
   {
    "duration": 21,
    "start_time": "2025-01-13T06:21:05.530Z"
   },
   {
    "duration": 22,
    "start_time": "2025-01-13T06:21:09.572Z"
   },
   {
    "duration": 2,
    "start_time": "2025-01-13T06:21:13.423Z"
   },
   {
    "duration": 114,
    "start_time": "2025-01-13T06:21:14.667Z"
   },
   {
    "duration": 6,
    "start_time": "2025-01-13T06:21:15.674Z"
   },
   {
    "duration": 27,
    "start_time": "2025-01-13T06:21:17.567Z"
   },
   {
    "duration": 48,
    "start_time": "2025-01-13T06:21:19.730Z"
   },
   {
    "duration": 4,
    "start_time": "2025-01-13T06:21:21.295Z"
   },
   {
    "duration": 4,
    "start_time": "2025-01-13T06:21:22.331Z"
   },
   {
    "duration": 24,
    "start_time": "2025-01-13T06:21:23.770Z"
   },
   {
    "duration": 35,
    "start_time": "2025-01-13T06:21:27.068Z"
   },
   {
    "duration": 23,
    "start_time": "2025-01-13T06:21:29.656Z"
   },
   {
    "duration": 41,
    "start_time": "2025-01-13T06:22:04.059Z"
   },
   {
    "duration": 46,
    "start_time": "2025-01-13T06:22:16.590Z"
   },
   {
    "duration": 27,
    "start_time": "2025-01-13T06:24:25.693Z"
   },
   {
    "duration": 45,
    "start_time": "2025-01-13T06:24:27.767Z"
   },
   {
    "duration": 2,
    "start_time": "2025-01-13T06:24:33.934Z"
   },
   {
    "duration": 144,
    "start_time": "2025-01-13T06:24:34.922Z"
   },
   {
    "duration": 8,
    "start_time": "2025-01-13T06:24:35.695Z"
   },
   {
    "duration": 25,
    "start_time": "2025-01-13T06:24:36.995Z"
   },
   {
    "duration": 67,
    "start_time": "2025-01-13T06:24:39.567Z"
   },
   {
    "duration": 3,
    "start_time": "2025-01-13T06:24:41.359Z"
   },
   {
    "duration": 4,
    "start_time": "2025-01-13T06:24:42.443Z"
   },
   {
    "duration": 21,
    "start_time": "2025-01-13T06:24:43.890Z"
   },
   {
    "duration": 25,
    "start_time": "2025-01-13T06:24:46.159Z"
   },
   {
    "duration": 39,
    "start_time": "2025-01-13T06:24:47.885Z"
   },
   {
    "duration": 25,
    "start_time": "2025-01-13T06:25:21.651Z"
   },
   {
    "duration": 40,
    "start_time": "2025-01-13T06:25:22.494Z"
   },
   {
    "duration": 19,
    "start_time": "2025-01-13T06:25:26.059Z"
   },
   {
    "duration": 3,
    "start_time": "2025-01-13T06:25:28.783Z"
   },
   {
    "duration": 122,
    "start_time": "2025-01-13T06:25:29.584Z"
   },
   {
    "duration": 8,
    "start_time": "2025-01-13T06:25:30.425Z"
   },
   {
    "duration": 28,
    "start_time": "2025-01-13T06:25:31.800Z"
   },
   {
    "duration": 28,
    "start_time": "2025-01-13T06:25:36.046Z"
   },
   {
    "duration": 50,
    "start_time": "2025-01-13T06:25:38.483Z"
   },
   {
    "duration": 4,
    "start_time": "2025-01-13T06:25:40.556Z"
   },
   {
    "duration": 3,
    "start_time": "2025-01-13T06:25:41.646Z"
   },
   {
    "duration": 24,
    "start_time": "2025-01-13T06:25:43.108Z"
   },
   {
    "duration": 40,
    "start_time": "2025-01-13T06:25:45.685Z"
   },
   {
    "duration": 59,
    "start_time": "2025-01-13T06:25:47.273Z"
   },
   {
    "duration": 13,
    "start_time": "2025-01-13T06:28:46.215Z"
   },
   {
    "duration": 44,
    "start_time": "2025-01-13T06:28:48.789Z"
   },
   {
    "duration": 2,
    "start_time": "2025-01-13T06:28:53.224Z"
   },
   {
    "duration": 134,
    "start_time": "2025-01-13T06:28:53.910Z"
   },
   {
    "duration": 9,
    "start_time": "2025-01-13T06:28:54.652Z"
   },
   {
    "duration": 32,
    "start_time": "2025-01-13T06:28:55.988Z"
   },
   {
    "duration": 61,
    "start_time": "2025-01-13T06:28:58.496Z"
   },
   {
    "duration": 3,
    "start_time": "2025-01-13T06:28:59.943Z"
   },
   {
    "duration": 4,
    "start_time": "2025-01-13T06:29:01.474Z"
   },
   {
    "duration": 28,
    "start_time": "2025-01-13T06:29:03.048Z"
   },
   {
    "duration": 12,
    "start_time": "2025-01-13T06:29:04.764Z"
   },
   {
    "duration": 50,
    "start_time": "2025-01-13T06:29:08.930Z"
   },
   {
    "duration": 11,
    "start_time": "2025-01-13T06:29:34.845Z"
   },
   {
    "duration": 41,
    "start_time": "2025-01-13T06:29:36.496Z"
   },
   {
    "duration": 2,
    "start_time": "2025-01-13T06:29:42.633Z"
   },
   {
    "duration": 129,
    "start_time": "2025-01-13T06:29:43.579Z"
   },
   {
    "duration": 6,
    "start_time": "2025-01-13T06:29:44.762Z"
   },
   {
    "duration": 28,
    "start_time": "2025-01-13T06:29:46.623Z"
   },
   {
    "duration": 51,
    "start_time": "2025-01-13T06:29:49.025Z"
   },
   {
    "duration": 3,
    "start_time": "2025-01-13T06:29:51.222Z"
   },
   {
    "duration": 4,
    "start_time": "2025-01-13T06:29:52.653Z"
   },
   {
    "duration": 30,
    "start_time": "2025-01-13T06:29:53.668Z"
   },
   {
    "duration": 14,
    "start_time": "2025-01-13T06:29:56.263Z"
   },
   {
    "duration": 62,
    "start_time": "2025-01-13T06:29:57.729Z"
   },
   {
    "duration": 25,
    "start_time": "2025-01-13T06:30:45.358Z"
   },
   {
    "duration": 3,
    "start_time": "2025-01-13T06:30:48.427Z"
   },
   {
    "duration": 153,
    "start_time": "2025-01-13T06:30:49.343Z"
   },
   {
    "duration": 6,
    "start_time": "2025-01-13T06:30:50.347Z"
   },
   {
    "duration": 29,
    "start_time": "2025-01-13T06:30:51.900Z"
   },
   {
    "duration": 75,
    "start_time": "2025-01-13T06:30:54.331Z"
   },
   {
    "duration": 3,
    "start_time": "2025-01-13T06:30:56.238Z"
   },
   {
    "duration": 3,
    "start_time": "2025-01-13T06:30:57.959Z"
   },
   {
    "duration": 28,
    "start_time": "2025-01-13T06:30:59.156Z"
   },
   {
    "duration": 25,
    "start_time": "2025-01-13T06:31:01.549Z"
   },
   {
    "duration": 45,
    "start_time": "2025-01-13T06:31:04.109Z"
   },
   {
    "duration": 13,
    "start_time": "2025-01-13T06:31:23.091Z"
   },
   {
    "duration": 46,
    "start_time": "2025-01-13T06:31:24.976Z"
   },
   {
    "duration": 2,
    "start_time": "2025-01-13T06:31:31.159Z"
   },
   {
    "duration": 123,
    "start_time": "2025-01-13T06:31:31.775Z"
   },
   {
    "duration": 7,
    "start_time": "2025-01-13T06:31:32.423Z"
   },
   {
    "duration": 38,
    "start_time": "2025-01-13T06:31:33.762Z"
   },
   {
    "duration": 54,
    "start_time": "2025-01-13T06:31:36.080Z"
   },
   {
    "duration": 4,
    "start_time": "2025-01-13T06:31:37.550Z"
   },
   {
    "duration": 3,
    "start_time": "2025-01-13T06:31:38.309Z"
   },
   {
    "duration": 28,
    "start_time": "2025-01-13T06:31:39.911Z"
   },
   {
    "duration": 13,
    "start_time": "2025-01-13T06:31:41.692Z"
   },
   {
    "duration": 50,
    "start_time": "2025-01-13T06:31:43.198Z"
   },
   {
    "duration": 40,
    "start_time": "2025-01-13T06:35:40.654Z"
   },
   {
    "duration": 55,
    "start_time": "2025-01-13T06:35:42.242Z"
   },
   {
    "duration": 2,
    "start_time": "2025-01-13T06:35:46.503Z"
   },
   {
    "duration": 126,
    "start_time": "2025-01-13T06:35:47.146Z"
   },
   {
    "duration": 7,
    "start_time": "2025-01-13T06:35:48.098Z"
   },
   {
    "duration": 37,
    "start_time": "2025-01-13T06:35:49.685Z"
   },
   {
    "duration": 83,
    "start_time": "2025-01-13T06:35:51.751Z"
   },
   {
    "duration": 3,
    "start_time": "2025-01-13T06:35:53.208Z"
   },
   {
    "duration": 3,
    "start_time": "2025-01-13T06:35:54.141Z"
   },
   {
    "duration": 31,
    "start_time": "2025-01-13T06:35:55.655Z"
   },
   {
    "duration": 31,
    "start_time": "2025-01-13T06:35:57.597Z"
   },
   {
    "duration": 51,
    "start_time": "2025-01-13T06:35:59.240Z"
   },
   {
    "duration": 60,
    "start_time": "2025-01-13T06:36:23.140Z"
   },
   {
    "duration": 71,
    "start_time": "2025-01-13T06:37:41.796Z"
   },
   {
    "duration": 51,
    "start_time": "2025-01-13T06:38:27.619Z"
   },
   {
    "duration": 50,
    "start_time": "2025-01-13T06:38:45.678Z"
   },
   {
    "duration": 3,
    "start_time": "2025-01-13T06:46:22.862Z"
   },
   {
    "duration": 8,
    "start_time": "2025-01-13T06:49:06.712Z"
   },
   {
    "duration": 4,
    "start_time": "2025-01-13T06:50:30.343Z"
   },
   {
    "duration": 5,
    "start_time": "2025-01-13T06:53:38.179Z"
   },
   {
    "duration": 7,
    "start_time": "2025-01-13T06:53:45.281Z"
   },
   {
    "duration": 8,
    "start_time": "2025-01-13T06:54:09.900Z"
   },
   {
    "duration": 3,
    "start_time": "2025-01-13T06:55:19.497Z"
   },
   {
    "duration": 4,
    "start_time": "2025-01-13T06:56:57.149Z"
   },
   {
    "duration": 7,
    "start_time": "2025-01-13T07:00:21.474Z"
   },
   {
    "duration": 11,
    "start_time": "2025-01-13T07:02:50.083Z"
   },
   {
    "duration": 4,
    "start_time": "2025-01-13T07:03:33.116Z"
   },
   {
    "duration": 3,
    "start_time": "2025-01-13T07:04:01.656Z"
   },
   {
    "duration": 127,
    "start_time": "2025-01-13T07:04:02.398Z"
   },
   {
    "duration": 7,
    "start_time": "2025-01-13T07:04:03.047Z"
   },
   {
    "duration": 31,
    "start_time": "2025-01-13T07:04:04.813Z"
   },
   {
    "duration": 71,
    "start_time": "2025-01-13T07:04:07.707Z"
   },
   {
    "duration": 3,
    "start_time": "2025-01-13T07:04:09.830Z"
   },
   {
    "duration": 3,
    "start_time": "2025-01-13T07:04:11.092Z"
   },
   {
    "duration": 29,
    "start_time": "2025-01-13T07:04:13.391Z"
   },
   {
    "duration": 34,
    "start_time": "2025-01-13T07:04:15.186Z"
   },
   {
    "duration": 62,
    "start_time": "2025-01-13T07:04:16.851Z"
   },
   {
    "duration": 60,
    "start_time": "2025-01-13T07:04:20.274Z"
   },
   {
    "duration": 4,
    "start_time": "2025-01-13T07:04:22.357Z"
   },
   {
    "duration": 6,
    "start_time": "2025-01-13T07:06:01.867Z"
   },
   {
    "duration": 3,
    "start_time": "2025-01-13T07:06:19.630Z"
   },
   {
    "duration": 7,
    "start_time": "2025-01-13T07:06:26.315Z"
   },
   {
    "duration": 6,
    "start_time": "2025-01-13T07:06:51.907Z"
   },
   {
    "duration": 4,
    "start_time": "2025-01-13T07:08:46.505Z"
   },
   {
    "duration": 9,
    "start_time": "2025-01-13T07:09:47.651Z"
   },
   {
    "duration": 13,
    "start_time": "2025-01-13T07:12:31.020Z"
   },
   {
    "duration": 16,
    "start_time": "2025-01-13T07:12:34.383Z"
   },
   {
    "duration": 56,
    "start_time": "2025-01-13T07:13:20.817Z"
   },
   {
    "duration": 2,
    "start_time": "2025-01-13T07:13:25.859Z"
   },
   {
    "duration": 145,
    "start_time": "2025-01-13T07:13:26.693Z"
   },
   {
    "duration": 9,
    "start_time": "2025-01-13T07:13:27.388Z"
   },
   {
    "duration": 32,
    "start_time": "2025-01-13T07:13:28.577Z"
   },
   {
    "duration": 48,
    "start_time": "2025-01-13T07:13:30.600Z"
   },
   {
    "duration": 3,
    "start_time": "2025-01-13T07:13:32.093Z"
   },
   {
    "duration": 20,
    "start_time": "2025-01-13T07:13:34.046Z"
   },
   {
    "duration": 26,
    "start_time": "2025-01-13T07:13:35.550Z"
   },
   {
    "duration": 38,
    "start_time": "2025-01-13T07:13:36.467Z"
   },
   {
    "duration": 57,
    "start_time": "2025-01-13T07:13:40.345Z"
   },
   {
    "duration": 59,
    "start_time": "2025-01-13T07:13:55.312Z"
   },
   {
    "duration": 209,
    "start_time": "2025-01-13T23:34:29.333Z"
   },
   {
    "duration": 13,
    "start_time": "2025-01-13T23:34:54.266Z"
   },
   {
    "duration": 27,
    "start_time": "2025-01-13T23:35:04.232Z"
   },
   {
    "duration": 13,
    "start_time": "2025-01-13T23:36:06.957Z"
   },
   {
    "duration": 382,
    "start_time": "2025-01-13T23:36:11.221Z"
   },
   {
    "duration": 194,
    "start_time": "2025-01-13T23:36:11.866Z"
   },
   {
    "duration": 8,
    "start_time": "2025-01-13T23:36:13.181Z"
   },
   {
    "duration": 39,
    "start_time": "2025-01-13T23:36:15.085Z"
   },
   {
    "duration": 68,
    "start_time": "2025-01-13T23:36:18.841Z"
   },
   {
    "duration": 12,
    "start_time": "2025-01-13T23:36:20.816Z"
   },
   {
    "duration": 3,
    "start_time": "2025-01-13T23:36:21.782Z"
   },
   {
    "duration": 45,
    "start_time": "2025-01-13T23:36:23.312Z"
   },
   {
    "duration": 32,
    "start_time": "2025-01-13T23:36:24.745Z"
   },
   {
    "duration": 39,
    "start_time": "2025-01-13T23:36:28.642Z"
   },
   {
    "duration": 43,
    "start_time": "2025-01-13T23:36:31.983Z"
   },
   {
    "duration": 60,
    "start_time": "2025-01-13T23:36:34.080Z"
   },
   {
    "duration": 73,
    "start_time": "2025-01-13T23:37:42.825Z"
   },
   {
    "duration": 93,
    "start_time": "2025-01-13T23:37:47.242Z"
   },
   {
    "duration": 2,
    "start_time": "2025-01-13T23:37:51.902Z"
   },
   {
    "duration": 148,
    "start_time": "2025-01-13T23:37:52.741Z"
   },
   {
    "duration": 8,
    "start_time": "2025-01-13T23:37:53.404Z"
   },
   {
    "duration": 23,
    "start_time": "2025-01-13T23:37:54.787Z"
   },
   {
    "duration": 75,
    "start_time": "2025-01-13T23:37:56.801Z"
   },
   {
    "duration": 4,
    "start_time": "2025-01-13T23:37:58.137Z"
   },
   {
    "duration": 3,
    "start_time": "2025-01-13T23:37:59.003Z"
   },
   {
    "duration": 18,
    "start_time": "2025-01-13T23:38:00.484Z"
   },
   {
    "duration": 24,
    "start_time": "2025-01-13T23:38:01.960Z"
   },
   {
    "duration": 45,
    "start_time": "2025-01-13T23:38:03.445Z"
   },
   {
    "duration": 55,
    "start_time": "2025-01-13T23:38:06.230Z"
   },
   {
    "duration": 73,
    "start_time": "2025-01-13T23:38:08.095Z"
   },
   {
    "duration": 523,
    "start_time": "2025-01-13T23:53:10.941Z"
   },
   {
    "duration": 38,
    "start_time": "2025-01-13T23:53:22.080Z"
   },
   {
    "duration": 40,
    "start_time": "2025-01-13T23:54:38.857Z"
   },
   {
    "duration": 3,
    "start_time": "2025-01-13T23:54:44.097Z"
   },
   {
    "duration": 145,
    "start_time": "2025-01-13T23:54:44.682Z"
   },
   {
    "duration": 8,
    "start_time": "2025-01-13T23:54:45.630Z"
   },
   {
    "duration": 32,
    "start_time": "2025-01-13T23:54:47.173Z"
   },
   {
    "duration": 58,
    "start_time": "2025-01-13T23:54:49.228Z"
   },
   {
    "duration": 8,
    "start_time": "2025-01-13T23:54:50.648Z"
   },
   {
    "duration": 8,
    "start_time": "2025-01-13T23:54:51.768Z"
   },
   {
    "duration": 19,
    "start_time": "2025-01-13T23:54:53.260Z"
   },
   {
    "duration": 34,
    "start_time": "2025-01-13T23:54:54.829Z"
   },
   {
    "duration": 44,
    "start_time": "2025-01-13T23:54:55.831Z"
   },
   {
    "duration": 56,
    "start_time": "2025-01-13T23:54:58.223Z"
   },
   {
    "duration": 49,
    "start_time": "2025-01-13T23:54:59.178Z"
   },
   {
    "duration": 53,
    "start_time": "2025-01-13T23:55:01.093Z"
   },
   {
    "duration": 9,
    "start_time": "2025-01-13T23:55:27.803Z"
   },
   {
    "duration": 7,
    "start_time": "2025-01-13T23:57:24.712Z"
   },
   {
    "duration": 12,
    "start_time": "2025-01-13T23:57:42.808Z"
   },
   {
    "duration": 5,
    "start_time": "2025-01-13T23:58:01.966Z"
   },
   {
    "duration": 8,
    "start_time": "2025-01-13T23:58:16.467Z"
   },
   {
    "duration": 8,
    "start_time": "2025-01-13T23:58:26.961Z"
   },
   {
    "duration": 12,
    "start_time": "2025-01-13T23:58:37.752Z"
   },
   {
    "duration": 14,
    "start_time": "2025-01-13T23:58:53.323Z"
   },
   {
    "duration": 10,
    "start_time": "2025-01-13T23:59:07.633Z"
   },
   {
    "duration": 6,
    "start_time": "2025-01-13T23:59:19.086Z"
   },
   {
    "duration": 5,
    "start_time": "2025-01-13T23:59:52.678Z"
   },
   {
    "duration": 6,
    "start_time": "2025-01-13T23:59:57.300Z"
   },
   {
    "duration": 14,
    "start_time": "2025-01-14T00:01:56.044Z"
   },
   {
    "duration": 37,
    "start_time": "2025-01-14T00:06:36.244Z"
   },
   {
    "duration": 11,
    "start_time": "2025-01-14T00:06:44.961Z"
   },
   {
    "duration": 24,
    "start_time": "2025-01-14T00:07:58.325Z"
   },
   {
    "duration": 24,
    "start_time": "2025-01-14T00:08:40.629Z"
   },
   {
    "duration": 14,
    "start_time": "2025-01-14T00:09:00.165Z"
   },
   {
    "duration": 22,
    "start_time": "2025-01-14T00:09:34.214Z"
   },
   {
    "duration": 15,
    "start_time": "2025-01-14T00:10:01.356Z"
   },
   {
    "duration": 23,
    "start_time": "2025-01-14T00:10:11.521Z"
   },
   {
    "duration": 17,
    "start_time": "2025-01-14T00:11:36.882Z"
   },
   {
    "duration": 31,
    "start_time": "2025-01-14T00:13:17.751Z"
   },
   {
    "duration": 26,
    "start_time": "2025-01-14T00:13:19.343Z"
   },
   {
    "duration": 15,
    "start_time": "2025-01-14T00:16:46.964Z"
   },
   {
    "duration": 40,
    "start_time": "2025-01-14T00:19:11.563Z"
   },
   {
    "duration": 4,
    "start_time": "2025-01-14T00:19:18.159Z"
   },
   {
    "duration": 156,
    "start_time": "2025-01-14T00:19:19.033Z"
   },
   {
    "duration": 8,
    "start_time": "2025-01-14T00:19:19.857Z"
   },
   {
    "duration": 23,
    "start_time": "2025-01-14T00:19:21.460Z"
   },
   {
    "duration": 80,
    "start_time": "2025-01-14T00:19:23.595Z"
   },
   {
    "duration": 3,
    "start_time": "2025-01-14T00:19:25.866Z"
   },
   {
    "duration": 3,
    "start_time": "2025-01-14T00:19:37.781Z"
   },
   {
    "duration": 4,
    "start_time": "2025-01-14T00:19:39.664Z"
   },
   {
    "duration": 38,
    "start_time": "2025-01-14T00:19:41.717Z"
   },
   {
    "duration": 42,
    "start_time": "2025-01-14T00:19:45.098Z"
   },
   {
    "duration": 42,
    "start_time": "2025-01-14T00:19:47.660Z"
   },
   {
    "duration": 40,
    "start_time": "2025-01-14T00:19:53.063Z"
   },
   {
    "duration": 53,
    "start_time": "2025-01-14T00:19:55.441Z"
   },
   {
    "duration": 22,
    "start_time": "2025-01-14T00:19:58.150Z"
   },
   {
    "duration": 60,
    "start_time": "2025-01-14T00:20:00.578Z"
   },
   {
    "duration": 8,
    "start_time": "2025-01-14T00:21:26.351Z"
   },
   {
    "duration": 61,
    "start_time": "2025-01-14T00:21:34.615Z"
   },
   {
    "duration": 27,
    "start_time": "2025-01-14T00:22:46.217Z"
   },
   {
    "duration": 80,
    "start_time": "2025-01-14T00:23:32.603Z"
   },
   {
    "duration": 2,
    "start_time": "2025-01-14T00:23:52.085Z"
   },
   {
    "duration": 122,
    "start_time": "2025-01-14T00:23:52.962Z"
   },
   {
    "duration": 11,
    "start_time": "2025-01-14T00:23:53.833Z"
   },
   {
    "duration": 30,
    "start_time": "2025-01-14T00:24:00.717Z"
   },
   {
    "duration": 66,
    "start_time": "2025-01-14T00:24:05.365Z"
   },
   {
    "duration": 3,
    "start_time": "2025-01-14T00:24:07.352Z"
   },
   {
    "duration": 3,
    "start_time": "2025-01-14T00:24:08.854Z"
   },
   {
    "duration": 19,
    "start_time": "2025-01-14T00:24:10.462Z"
   },
   {
    "duration": 25,
    "start_time": "2025-01-14T00:24:11.846Z"
   },
   {
    "duration": 35,
    "start_time": "2025-01-14T00:24:13.134Z"
   },
   {
    "duration": 57,
    "start_time": "2025-01-14T00:24:16.475Z"
   },
   {
    "duration": 54,
    "start_time": "2025-01-14T00:24:18.194Z"
   },
   {
    "duration": 22,
    "start_time": "2025-01-14T00:24:28.668Z"
   },
   {
    "duration": 51,
    "start_time": "2025-01-14T00:24:34.318Z"
   },
   {
    "duration": 19,
    "start_time": "2025-01-14T00:26:24.139Z"
   },
   {
    "duration": 242,
    "start_time": "2025-01-14T00:26:50.355Z"
   },
   {
    "duration": 44,
    "start_time": "2025-01-14T00:26:53.668Z"
   },
   {
    "duration": 17,
    "start_time": "2025-01-14T00:26:56.080Z"
   },
   {
    "duration": 14,
    "start_time": "2025-01-14T00:27:05.772Z"
   },
   {
    "duration": 45,
    "start_time": "2025-01-14T00:27:08.636Z"
   },
   {
    "duration": 18,
    "start_time": "2025-01-14T00:27:10.250Z"
   },
   {
    "duration": 166,
    "start_time": "2025-01-14T02:11:31.208Z"
   },
   {
    "duration": 300,
    "start_time": "2025-01-14T02:11:37.297Z"
   },
   {
    "duration": 145,
    "start_time": "2025-01-14T02:11:38.180Z"
   },
   {
    "duration": 8,
    "start_time": "2025-01-14T02:11:39.422Z"
   },
   {
    "duration": 23,
    "start_time": "2025-01-14T02:11:40.940Z"
   },
   {
    "duration": 48,
    "start_time": "2025-01-14T02:11:44.975Z"
   },
   {
    "duration": 4,
    "start_time": "2025-01-14T02:11:47.041Z"
   },
   {
    "duration": 3,
    "start_time": "2025-01-14T02:11:49.213Z"
   },
   {
    "duration": 18,
    "start_time": "2025-01-14T02:11:50.845Z"
   },
   {
    "duration": 25,
    "start_time": "2025-01-14T02:11:52.417Z"
   },
   {
    "duration": 36,
    "start_time": "2025-01-14T02:11:53.804Z"
   },
   {
    "duration": 41,
    "start_time": "2025-01-14T02:11:58.006Z"
   },
   {
    "duration": 45,
    "start_time": "2025-01-14T02:11:59.688Z"
   },
   {
    "duration": 15,
    "start_time": "2025-01-14T02:12:11.480Z"
   },
   {
    "duration": 45,
    "start_time": "2025-01-14T02:12:21.379Z"
   },
   {
    "duration": 43,
    "start_time": "2025-01-14T02:17:00.783Z"
   },
   {
    "duration": 17,
    "start_time": "2025-01-14T02:17:21.884Z"
   },
   {
    "duration": 14,
    "start_time": "2025-01-14T02:17:44.446Z"
   },
   {
    "duration": 20,
    "start_time": "2025-01-14T02:17:46.766Z"
   },
   {
    "duration": 18,
    "start_time": "2025-01-14T02:20:31.714Z"
   },
   {
    "duration": 12,
    "start_time": "2025-01-14T02:20:38.871Z"
   },
   {
    "duration": 13,
    "start_time": "2025-01-14T02:20:40.834Z"
   },
   {
    "duration": 3,
    "start_time": "2025-01-14T02:21:01.805Z"
   },
   {
    "duration": 124,
    "start_time": "2025-01-14T02:21:02.453Z"
   },
   {
    "duration": 7,
    "start_time": "2025-01-14T02:21:03.294Z"
   },
   {
    "duration": 24,
    "start_time": "2025-01-14T02:21:05.119Z"
   },
   {
    "duration": 46,
    "start_time": "2025-01-14T02:21:07.613Z"
   },
   {
    "duration": 3,
    "start_time": "2025-01-14T02:21:09.002Z"
   },
   {
    "duration": 3,
    "start_time": "2025-01-14T02:21:10.539Z"
   },
   {
    "duration": 19,
    "start_time": "2025-01-14T02:21:11.847Z"
   },
   {
    "duration": 26,
    "start_time": "2025-01-14T02:21:12.945Z"
   },
   {
    "duration": 37,
    "start_time": "2025-01-14T02:21:14.417Z"
   },
   {
    "duration": 43,
    "start_time": "2025-01-14T02:21:16.278Z"
   },
   {
    "duration": 46,
    "start_time": "2025-01-14T02:21:17.576Z"
   },
   {
    "duration": 16,
    "start_time": "2025-01-14T02:21:27.932Z"
   },
   {
    "duration": 13,
    "start_time": "2025-01-14T02:21:36.035Z"
   },
   {
    "duration": 16,
    "start_time": "2025-01-14T02:21:37.714Z"
   },
   {
    "duration": 65,
    "start_time": "2025-01-14T02:22:13.656Z"
   },
   {
    "duration": 40,
    "start_time": "2025-01-14T02:22:42.520Z"
   },
   {
    "duration": 44,
    "start_time": "2025-01-14T02:22:43.710Z"
   },
   {
    "duration": 15,
    "start_time": "2025-01-14T02:22:48.366Z"
   },
   {
    "duration": 39,
    "start_time": "2025-01-14T02:22:54.970Z"
   },
   {
    "duration": 108,
    "start_time": "2025-01-14T02:23:45.623Z"
   },
   {
    "duration": 44,
    "start_time": "2025-01-14T02:24:05.884Z"
   },
   {
    "duration": 46,
    "start_time": "2025-01-14T02:24:17.471Z"
   },
   {
    "duration": 39,
    "start_time": "2025-01-14T02:26:41.048Z"
   },
   {
    "duration": 397,
    "start_time": "2025-01-14T02:27:39.635Z"
   },
   {
    "duration": 39,
    "start_time": "2025-01-14T02:27:53.299Z"
   },
   {
    "duration": 6,
    "start_time": "2025-01-14T02:31:00.985Z"
   },
   {
    "duration": 8,
    "start_time": "2025-01-14T02:39:33.232Z"
   },
   {
    "duration": 12,
    "start_time": "2025-01-14T02:41:01.175Z"
   },
   {
    "duration": 17,
    "start_time": "2025-01-14T02:49:10.994Z"
   },
   {
    "duration": 9,
    "start_time": "2025-01-14T02:55:33.093Z"
   },
   {
    "duration": 31,
    "start_time": "2025-01-14T03:30:27.714Z"
   },
   {
    "duration": 447,
    "start_time": "2025-01-14T03:31:47.063Z"
   },
   {
    "duration": 76,
    "start_time": "2025-01-14T03:31:55.612Z"
   },
   {
    "duration": 3,
    "start_time": "2025-01-14T03:31:59.290Z"
   },
   {
    "duration": 2,
    "start_time": "2025-01-14T03:32:03.008Z"
   },
   {
    "duration": 14,
    "start_time": "2025-01-14T03:35:15.798Z"
   },
   {
    "duration": 4,
    "start_time": "2025-01-14T03:38:18.953Z"
   },
   {
    "duration": 3,
    "start_time": "2025-01-14T03:38:19.937Z"
   },
   {
    "duration": 7,
    "start_time": "2025-01-14T03:49:19.000Z"
   },
   {
    "duration": 8,
    "start_time": "2025-01-14T03:50:44.388Z"
   },
   {
    "duration": 15,
    "start_time": "2025-01-14T03:52:21.378Z"
   },
   {
    "duration": 15,
    "start_time": "2025-01-14T03:52:46.911Z"
   },
   {
    "duration": 13,
    "start_time": "2025-01-14T03:53:08.823Z"
   },
   {
    "duration": 9,
    "start_time": "2025-01-14T03:53:12.356Z"
   },
   {
    "duration": 15,
    "start_time": "2025-01-14T03:53:14.096Z"
   },
   {
    "duration": 14,
    "start_time": "2025-01-14T03:53:50.427Z"
   },
   {
    "duration": 6,
    "start_time": "2025-01-14T03:59:00.622Z"
   },
   {
    "duration": 4,
    "start_time": "2025-01-14T04:06:28.280Z"
   },
   {
    "duration": 3,
    "start_time": "2025-01-14T04:17:50.462Z"
   },
   {
    "duration": 4,
    "start_time": "2025-01-14T04:18:13.456Z"
   },
   {
    "duration": 2,
    "start_time": "2025-01-14T04:31:19.658Z"
   },
   {
    "duration": 4,
    "start_time": "2025-01-14T05:06:04.675Z"
   },
   {
    "duration": 4,
    "start_time": "2025-01-14T05:06:23.634Z"
   },
   {
    "duration": 6,
    "start_time": "2025-01-14T05:22:22.030Z"
   },
   {
    "duration": 3,
    "start_time": "2025-01-14T05:22:32.897Z"
   },
   {
    "duration": 3,
    "start_time": "2025-01-14T05:22:34.074Z"
   },
   {
    "duration": 6,
    "start_time": "2025-01-14T05:24:32.024Z"
   },
   {
    "duration": 16,
    "start_time": "2025-01-14T05:27:54.997Z"
   },
   {
    "duration": 8,
    "start_time": "2025-01-14T05:28:52.787Z"
   },
   {
    "duration": 3,
    "start_time": "2025-01-14T05:29:10.614Z"
   },
   {
    "duration": 4,
    "start_time": "2025-01-14T05:31:38.742Z"
   },
   {
    "duration": 5,
    "start_time": "2025-01-14T05:31:43.725Z"
   },
   {
    "duration": 3,
    "start_time": "2025-01-14T05:31:47.475Z"
   },
   {
    "duration": 19,
    "start_time": "2025-01-14T05:32:07.234Z"
   },
   {
    "duration": 16,
    "start_time": "2025-01-14T05:34:36.471Z"
   },
   {
    "duration": 4,
    "start_time": "2025-01-14T05:34:50.520Z"
   },
   {
    "duration": 5,
    "start_time": "2025-01-14T05:46:25.262Z"
   },
   {
    "duration": 10,
    "start_time": "2025-01-14T05:46:32.301Z"
   },
   {
    "duration": 4,
    "start_time": "2025-01-14T05:46:34.187Z"
   },
   {
    "duration": 3,
    "start_time": "2025-01-14T05:46:41.704Z"
   },
   {
    "duration": 4,
    "start_time": "2025-01-14T05:49:44.373Z"
   },
   {
    "duration": 3,
    "start_time": "2025-01-14T05:49:45.619Z"
   },
   {
    "duration": 4,
    "start_time": "2025-01-14T05:49:57.639Z"
   },
   {
    "duration": 9,
    "start_time": "2025-01-14T05:50:00.077Z"
   },
   {
    "duration": 4,
    "start_time": "2025-01-14T05:50:02.130Z"
   },
   {
    "duration": 4,
    "start_time": "2025-01-14T05:50:11.481Z"
   },
   {
    "duration": 9,
    "start_time": "2025-01-14T05:50:15.253Z"
   },
   {
    "duration": 5,
    "start_time": "2025-01-14T05:50:41.028Z"
   },
   {
    "duration": 4,
    "start_time": "2025-01-14T05:50:51.107Z"
   },
   {
    "duration": 4,
    "start_time": "2025-01-14T05:50:59.059Z"
   },
   {
    "duration": 2,
    "start_time": "2025-01-14T06:32:39.306Z"
   },
   {
    "duration": 24,
    "start_time": "2025-01-14T07:46:35.217Z"
   },
   {
    "duration": 6,
    "start_time": "2025-01-14T07:47:26.631Z"
   },
   {
    "duration": 12,
    "start_time": "2025-01-14T07:47:35.638Z"
   },
   {
    "duration": 14,
    "start_time": "2025-01-14T07:48:13.518Z"
   },
   {
    "duration": 13,
    "start_time": "2025-01-14T07:48:42.101Z"
   },
   {
    "duration": 25,
    "start_time": "2025-01-14T07:48:57.705Z"
   },
   {
    "duration": 16,
    "start_time": "2025-01-14T07:49:08.273Z"
   },
   {
    "duration": 9,
    "start_time": "2025-01-14T07:52:55.878Z"
   },
   {
    "duration": 8,
    "start_time": "2025-01-14T07:54:07.451Z"
   },
   {
    "duration": 159,
    "start_time": "2025-01-14T19:06:19.034Z"
   },
   {
    "duration": 12,
    "start_time": "2025-01-14T19:06:23.756Z"
   },
   {
    "duration": 12,
    "start_time": "2025-01-14T19:06:30.857Z"
   },
   {
    "duration": 304,
    "start_time": "2025-01-14T19:06:35.061Z"
   },
   {
    "duration": 142,
    "start_time": "2025-01-14T19:06:36.270Z"
   },
   {
    "duration": 8,
    "start_time": "2025-01-14T19:06:38.032Z"
   },
   {
    "duration": 23,
    "start_time": "2025-01-14T19:06:39.959Z"
   },
   {
    "duration": 48,
    "start_time": "2025-01-14T19:06:42.541Z"
   },
   {
    "duration": 6,
    "start_time": "2025-01-14T19:06:44.519Z"
   },
   {
    "duration": 18,
    "start_time": "2025-01-14T19:06:46.346Z"
   },
   {
    "duration": 24,
    "start_time": "2025-01-14T19:06:48.082Z"
   },
   {
    "duration": 35,
    "start_time": "2025-01-14T19:06:49.030Z"
   },
   {
    "duration": 41,
    "start_time": "2025-01-14T19:07:01.407Z"
   },
   {
    "duration": 43,
    "start_time": "2025-01-14T19:07:03.198Z"
   },
   {
    "duration": 15,
    "start_time": "2025-01-14T19:07:05.532Z"
   },
   {
    "duration": 38,
    "start_time": "2025-01-14T19:07:07.981Z"
   },
   {
    "duration": 10,
    "start_time": "2025-01-14T19:07:12.910Z"
   },
   {
    "duration": 23,
    "start_time": "2025-01-14T19:07:16.315Z"
   },
   {
    "duration": 14,
    "start_time": "2025-01-14T19:07:44.175Z"
   },
   {
    "duration": 11,
    "start_time": "2025-01-14T19:08:03.434Z"
   },
   {
    "duration": 11,
    "start_time": "2025-01-14T19:08:15.143Z"
   },
   {
    "duration": 37,
    "start_time": "2025-01-14T19:08:17.632Z"
   },
   {
    "duration": 8,
    "start_time": "2025-01-14T19:08:18.916Z"
   },
   {
    "duration": 2,
    "start_time": "2025-01-14T19:08:27.857Z"
   },
   {
    "duration": 114,
    "start_time": "2025-01-14T19:08:28.810Z"
   },
   {
    "duration": 7,
    "start_time": "2025-01-14T19:08:29.680Z"
   },
   {
    "duration": 22,
    "start_time": "2025-01-14T19:08:31.489Z"
   },
   {
    "duration": 45,
    "start_time": "2025-01-14T19:08:35.279Z"
   },
   {
    "duration": 3,
    "start_time": "2025-01-14T19:08:37.541Z"
   },
   {
    "duration": 3,
    "start_time": "2025-01-14T19:08:38.421Z"
   },
   {
    "duration": 18,
    "start_time": "2025-01-14T19:08:41.154Z"
   },
   {
    "duration": 24,
    "start_time": "2025-01-14T19:08:42.522Z"
   },
   {
    "duration": 34,
    "start_time": "2025-01-14T19:08:43.749Z"
   },
   {
    "duration": 40,
    "start_time": "2025-01-14T19:08:45.151Z"
   },
   {
    "duration": 42,
    "start_time": "2025-01-14T19:08:46.726Z"
   },
   {
    "duration": 14,
    "start_time": "2025-01-14T19:08:48.794Z"
   },
   {
    "duration": 57,
    "start_time": "2025-01-14T19:08:51.782Z"
   },
   {
    "duration": 9,
    "start_time": "2025-01-14T19:08:54.095Z"
   },
   {
    "duration": 26,
    "start_time": "2025-01-14T19:08:57.724Z"
   },
   {
    "duration": 8,
    "start_time": "2025-01-14T19:09:08.360Z"
   },
   {
    "duration": 7,
    "start_time": "2025-01-14T19:09:16.209Z"
   },
   {
    "duration": 10,
    "start_time": "2025-01-14T19:16:21.384Z"
   },
   {
    "duration": 2,
    "start_time": "2025-01-14T19:16:31.970Z"
   },
   {
    "duration": 113,
    "start_time": "2025-01-14T19:16:33.016Z"
   },
   {
    "duration": 7,
    "start_time": "2025-01-14T19:16:33.935Z"
   },
   {
    "duration": 25,
    "start_time": "2025-01-14T19:16:36.022Z"
   },
   {
    "duration": 47,
    "start_time": "2025-01-14T19:16:39.039Z"
   },
   {
    "duration": 4,
    "start_time": "2025-01-14T19:16:41.483Z"
   },
   {
    "duration": 5,
    "start_time": "2025-01-14T19:16:42.671Z"
   },
   {
    "duration": 27,
    "start_time": "2025-01-14T19:16:44.422Z"
   },
   {
    "duration": 25,
    "start_time": "2025-01-14T19:16:46.334Z"
   },
   {
    "duration": 46,
    "start_time": "2025-01-14T19:16:47.116Z"
   },
   {
    "duration": 44,
    "start_time": "2025-01-14T19:16:48.846Z"
   },
   {
    "duration": 44,
    "start_time": "2025-01-14T19:16:50.754Z"
   },
   {
    "duration": 18,
    "start_time": "2025-01-14T19:16:53.029Z"
   },
   {
    "duration": 39,
    "start_time": "2025-01-14T19:16:54.760Z"
   },
   {
    "duration": 9,
    "start_time": "2025-01-14T19:16:56.717Z"
   },
   {
    "duration": 15,
    "start_time": "2025-01-14T19:17:01.676Z"
   },
   {
    "duration": 24,
    "start_time": "2025-01-14T19:17:07.250Z"
   },
   {
    "duration": 13,
    "start_time": "2025-01-14T19:17:22.512Z"
   },
   {
    "duration": 11,
    "start_time": "2025-01-14T19:17:25.693Z"
   },
   {
    "duration": 11,
    "start_time": "2025-01-14T19:19:39.902Z"
   },
   {
    "duration": 8,
    "start_time": "2025-01-14T19:19:46.779Z"
   },
   {
    "duration": 3,
    "start_time": "2025-01-14T19:20:50.358Z"
   },
   {
    "duration": 53,
    "start_time": "2025-01-14T19:21:02.841Z"
   },
   {
    "duration": 7,
    "start_time": "2025-01-14T19:21:37.021Z"
   },
   {
    "duration": 8,
    "start_time": "2025-01-14T19:21:44.555Z"
   },
   {
    "duration": 8,
    "start_time": "2025-01-14T19:21:46.830Z"
   },
   {
    "duration": 9,
    "start_time": "2025-01-14T19:49:32.318Z"
   },
   {
    "duration": 18,
    "start_time": "2025-01-14T19:55:12.196Z"
   },
   {
    "duration": 15,
    "start_time": "2025-01-14T20:02:13.446Z"
   },
   {
    "duration": 9,
    "start_time": "2025-01-14T20:02:28.803Z"
   },
   {
    "duration": 4,
    "start_time": "2025-01-14T20:02:37.638Z"
   },
   {
    "duration": 8,
    "start_time": "2025-01-14T20:02:54.021Z"
   },
   {
    "duration": 3,
    "start_time": "2025-01-14T20:03:10.420Z"
   },
   {
    "duration": 5,
    "start_time": "2025-01-14T20:03:11.864Z"
   },
   {
    "duration": 2,
    "start_time": "2025-01-14T20:03:19.164Z"
   },
   {
    "duration": 137,
    "start_time": "2025-01-14T20:03:19.915Z"
   },
   {
    "duration": 6,
    "start_time": "2025-01-14T20:03:21.164Z"
   },
   {
    "duration": 31,
    "start_time": "2025-01-14T20:03:23.505Z"
   },
   {
    "duration": 46,
    "start_time": "2025-01-14T20:03:30.201Z"
   },
   {
    "duration": 3,
    "start_time": "2025-01-14T20:03:32.668Z"
   },
   {
    "duration": 3,
    "start_time": "2025-01-14T20:03:34.723Z"
   },
   {
    "duration": 20,
    "start_time": "2025-01-14T20:03:37.491Z"
   },
   {
    "duration": 28,
    "start_time": "2025-01-14T20:03:39.914Z"
   },
   {
    "duration": 38,
    "start_time": "2025-01-14T20:03:42.289Z"
   },
   {
    "duration": 40,
    "start_time": "2025-01-14T20:03:45.408Z"
   },
   {
    "duration": 45,
    "start_time": "2025-01-14T20:03:49.016Z"
   },
   {
    "duration": 17,
    "start_time": "2025-01-14T20:03:53.876Z"
   },
   {
    "duration": 9,
    "start_time": "2025-01-14T20:03:57.771Z"
   },
   {
    "duration": 5,
    "start_time": "2025-01-14T20:03:59.593Z"
   },
   {
    "duration": 5,
    "start_time": "2025-01-14T20:04:01.594Z"
   },
   {
    "duration": 14,
    "start_time": "2025-01-14T20:05:14.750Z"
   },
   {
    "duration": 9,
    "start_time": "2025-01-14T20:05:23.019Z"
   },
   {
    "duration": 4,
    "start_time": "2025-01-14T20:05:27.518Z"
   },
   {
    "duration": 6,
    "start_time": "2025-01-14T20:05:33.286Z"
   },
   {
    "duration": 10,
    "start_time": "2025-01-14T20:05:36.839Z"
   },
   {
    "duration": 4,
    "start_time": "2025-01-14T20:05:53.796Z"
   },
   {
    "duration": 22,
    "start_time": "2025-01-14T20:06:07.775Z"
   },
   {
    "duration": 15,
    "start_time": "2025-01-14T20:06:31.479Z"
   },
   {
    "duration": 10,
    "start_time": "2025-01-14T20:06:37.993Z"
   },
   {
    "duration": 9,
    "start_time": "2025-01-14T20:06:49.921Z"
   },
   {
    "duration": 2,
    "start_time": "2025-01-14T20:06:54.309Z"
   },
   {
    "duration": 139,
    "start_time": "2025-01-14T20:06:55.483Z"
   },
   {
    "duration": 7,
    "start_time": "2025-01-14T20:06:56.313Z"
   },
   {
    "duration": 26,
    "start_time": "2025-01-14T20:06:58.869Z"
   },
   {
    "duration": 47,
    "start_time": "2025-01-14T20:07:03.899Z"
   },
   {
    "duration": 4,
    "start_time": "2025-01-14T20:07:05.687Z"
   },
   {
    "duration": 4,
    "start_time": "2025-01-14T20:07:07.437Z"
   },
   {
    "duration": 27,
    "start_time": "2025-01-14T20:07:09.143Z"
   },
   {
    "duration": 34,
    "start_time": "2025-01-14T20:07:11.479Z"
   },
   {
    "duration": 38,
    "start_time": "2025-01-14T20:07:15.652Z"
   },
   {
    "duration": 59,
    "start_time": "2025-01-14T20:07:19.967Z"
   },
   {
    "duration": 44,
    "start_time": "2025-01-14T20:07:21.413Z"
   },
   {
    "duration": 21,
    "start_time": "2025-01-14T20:07:40.965Z"
   },
   {
    "duration": 9,
    "start_time": "2025-01-14T20:07:47.258Z"
   },
   {
    "duration": 4,
    "start_time": "2025-01-14T20:07:49.494Z"
   },
   {
    "duration": 12,
    "start_time": "2025-01-14T20:09:55.468Z"
   },
   {
    "duration": 8,
    "start_time": "2025-01-14T20:09:58.189Z"
   },
   {
    "duration": 2,
    "start_time": "2025-01-14T20:10:06.142Z"
   },
   {
    "duration": 151,
    "start_time": "2025-01-14T20:10:06.975Z"
   },
   {
    "duration": 7,
    "start_time": "2025-01-14T20:10:07.961Z"
   },
   {
    "duration": 27,
    "start_time": "2025-01-14T20:10:09.757Z"
   },
   {
    "duration": 64,
    "start_time": "2025-01-14T20:10:12.222Z"
   },
   {
    "duration": 3,
    "start_time": "2025-01-14T20:10:13.960Z"
   },
   {
    "duration": 4,
    "start_time": "2025-01-14T20:10:15.474Z"
   },
   {
    "duration": 24,
    "start_time": "2025-01-14T20:10:16.696Z"
   },
   {
    "duration": 36,
    "start_time": "2025-01-14T20:10:19.185Z"
   },
   {
    "duration": 56,
    "start_time": "2025-01-14T20:10:20.381Z"
   },
   {
    "duration": 42,
    "start_time": "2025-01-14T20:10:22.362Z"
   },
   {
    "duration": 47,
    "start_time": "2025-01-14T20:10:24.394Z"
   },
   {
    "duration": 16,
    "start_time": "2025-01-14T20:10:30.429Z"
   },
   {
    "duration": 58,
    "start_time": "2025-01-14T20:10:34.698Z"
   },
   {
    "duration": 12,
    "start_time": "2025-01-14T20:10:40.968Z"
   },
   {
    "duration": 17,
    "start_time": "2025-01-14T20:14:22.692Z"
   },
   {
    "duration": 10,
    "start_time": "2025-01-14T20:14:27.802Z"
   },
   {
    "duration": 4,
    "start_time": "2025-01-14T20:14:30.375Z"
   },
   {
    "duration": 9,
    "start_time": "2025-01-14T20:27:39.473Z"
   },
   {
    "duration": 5,
    "start_time": "2025-01-14T20:27:46.585Z"
   },
   {
    "duration": 2,
    "start_time": "2025-01-14T20:27:54.229Z"
   },
   {
    "duration": 111,
    "start_time": "2025-01-14T20:27:55.163Z"
   },
   {
    "duration": 7,
    "start_time": "2025-01-14T20:27:56.118Z"
   },
   {
    "duration": 34,
    "start_time": "2025-01-14T20:27:59.287Z"
   },
   {
    "duration": 48,
    "start_time": "2025-01-14T20:28:02.368Z"
   },
   {
    "duration": 3,
    "start_time": "2025-01-14T20:28:04.919Z"
   },
   {
    "duration": 3,
    "start_time": "2025-01-14T20:28:06.594Z"
   },
   {
    "duration": 20,
    "start_time": "2025-01-14T20:28:08.670Z"
   },
   {
    "duration": 32,
    "start_time": "2025-01-14T20:28:10.450Z"
   },
   {
    "duration": 55,
    "start_time": "2025-01-14T20:28:12.595Z"
   },
   {
    "duration": 42,
    "start_time": "2025-01-14T20:28:15.318Z"
   },
   {
    "duration": 47,
    "start_time": "2025-01-14T20:28:18.485Z"
   },
   {
    "duration": 12,
    "start_time": "2025-01-14T20:28:25.303Z"
   },
   {
    "duration": 8,
    "start_time": "2025-01-14T20:28:30.519Z"
   },
   {
    "duration": 3,
    "start_time": "2025-01-14T20:28:32.681Z"
   },
   {
    "duration": 10,
    "start_time": "2025-01-14T20:30:00.720Z"
   },
   {
    "duration": 8,
    "start_time": "2025-01-14T20:30:02.581Z"
   },
   {
    "duration": 13,
    "start_time": "2025-01-14T20:30:05.611Z"
   },
   {
    "duration": 9,
    "start_time": "2025-01-14T20:30:07.684Z"
   },
   {
    "duration": 2,
    "start_time": "2025-01-14T20:30:12.338Z"
   },
   {
    "duration": 111,
    "start_time": "2025-01-14T20:30:13.430Z"
   },
   {
    "duration": 6,
    "start_time": "2025-01-14T20:30:14.420Z"
   },
   {
    "duration": 25,
    "start_time": "2025-01-14T20:30:16.473Z"
   },
   {
    "duration": 59,
    "start_time": "2025-01-14T20:30:19.250Z"
   },
   {
    "duration": 3,
    "start_time": "2025-01-14T20:30:20.651Z"
   },
   {
    "duration": 3,
    "start_time": "2025-01-14T20:30:22.105Z"
   },
   {
    "duration": 28,
    "start_time": "2025-01-14T20:30:23.497Z"
   },
   {
    "duration": 29,
    "start_time": "2025-01-14T20:30:25.070Z"
   },
   {
    "duration": 57,
    "start_time": "2025-01-14T20:30:29.224Z"
   },
   {
    "duration": 44,
    "start_time": "2025-01-14T20:30:32.847Z"
   },
   {
    "duration": 50,
    "start_time": "2025-01-14T20:30:35.199Z"
   },
   {
    "duration": 12,
    "start_time": "2025-01-14T20:31:24.307Z"
   },
   {
    "duration": 12,
    "start_time": "2025-01-14T20:31:42.850Z"
   },
   {
    "duration": 48,
    "start_time": "2025-01-14T20:31:46.250Z"
   },
   {
    "duration": 12,
    "start_time": "2025-01-14T20:31:48.471Z"
   },
   {
    "duration": 3,
    "start_time": "2025-01-14T20:31:53.908Z"
   },
   {
    "duration": 114,
    "start_time": "2025-01-14T20:31:54.658Z"
   },
   {
    "duration": 6,
    "start_time": "2025-01-14T20:31:55.476Z"
   },
   {
    "duration": 24,
    "start_time": "2025-01-14T20:31:56.946Z"
   },
   {
    "duration": 47,
    "start_time": "2025-01-14T20:32:01.036Z"
   },
   {
    "duration": 3,
    "start_time": "2025-01-14T20:32:03.021Z"
   },
   {
    "duration": 3,
    "start_time": "2025-01-14T20:32:04.656Z"
   },
   {
    "duration": 22,
    "start_time": "2025-01-14T20:32:06.482Z"
   },
   {
    "duration": 24,
    "start_time": "2025-01-14T20:32:08.433Z"
   },
   {
    "duration": 37,
    "start_time": "2025-01-14T20:32:10.403Z"
   },
   {
    "duration": 41,
    "start_time": "2025-01-14T20:32:16.205Z"
   },
   {
    "duration": 47,
    "start_time": "2025-01-14T20:32:18.778Z"
   },
   {
    "duration": 12,
    "start_time": "2025-01-14T20:32:20.902Z"
   },
   {
    "duration": 44,
    "start_time": "2025-01-14T20:32:47.059Z"
   },
   {
    "duration": 45,
    "start_time": "2025-01-14T20:33:40.346Z"
   },
   {
    "duration": 10,
    "start_time": "2025-01-14T20:35:37.310Z"
   },
   {
    "duration": 8,
    "start_time": "2025-01-14T20:35:39.140Z"
   },
   {
    "duration": 3,
    "start_time": "2025-01-14T20:35:43.560Z"
   },
   {
    "duration": 112,
    "start_time": "2025-01-14T20:35:44.693Z"
   },
   {
    "duration": 6,
    "start_time": "2025-01-14T20:35:45.368Z"
   },
   {
    "duration": 26,
    "start_time": "2025-01-14T20:35:46.593Z"
   },
   {
    "duration": 46,
    "start_time": "2025-01-14T20:35:50.842Z"
   },
   {
    "duration": 3,
    "start_time": "2025-01-14T20:35:52.342Z"
   },
   {
    "duration": 4,
    "start_time": "2025-01-14T20:35:53.988Z"
   },
   {
    "duration": 22,
    "start_time": "2025-01-14T20:35:54.721Z"
   },
   {
    "duration": 29,
    "start_time": "2025-01-14T20:35:55.887Z"
   },
   {
    "duration": 39,
    "start_time": "2025-01-14T20:35:57.558Z"
   },
   {
    "duration": 42,
    "start_time": "2025-01-14T20:35:59.387Z"
   },
   {
    "duration": 47,
    "start_time": "2025-01-14T20:36:00.838Z"
   },
   {
    "duration": 14,
    "start_time": "2025-01-14T20:36:03.366Z"
   },
   {
    "duration": 17,
    "start_time": "2025-01-14T20:37:35.207Z"
   },
   {
    "duration": 51,
    "start_time": "2025-01-14T20:38:22.608Z"
   },
   {
    "duration": 48,
    "start_time": "2025-01-14T20:38:24.025Z"
   },
   {
    "duration": 15,
    "start_time": "2025-01-14T20:38:26.507Z"
   },
   {
    "duration": 40,
    "start_time": "2025-01-14T20:38:44.522Z"
   },
   {
    "duration": 9,
    "start_time": "2025-01-14T20:39:06.117Z"
   },
   {
    "duration": 27,
    "start_time": "2025-01-14T20:39:24.679Z"
   },
   {
    "duration": 39,
    "start_time": "2025-01-14T20:39:26.185Z"
   },
   {
    "duration": 40,
    "start_time": "2025-01-14T20:39:42.733Z"
   },
   {
    "duration": 47,
    "start_time": "2025-01-14T20:39:44.531Z"
   },
   {
    "duration": 14,
    "start_time": "2025-01-14T20:39:47.297Z"
   },
   {
    "duration": 51,
    "start_time": "2025-01-14T20:40:18.708Z"
   },
   {
    "duration": 17,
    "start_time": "2025-01-14T20:40:19.880Z"
   },
   {
    "duration": 19,
    "start_time": "2025-01-14T20:40:29.244Z"
   },
   {
    "duration": 14,
    "start_time": "2025-01-14T20:40:32.848Z"
   },
   {
    "duration": 13,
    "start_time": "2025-01-14T20:40:42.373Z"
   },
   {
    "duration": 8,
    "start_time": "2025-01-14T20:40:50.416Z"
   },
   {
    "duration": 4,
    "start_time": "2025-01-14T20:40:52.652Z"
   },
   {
    "duration": 6,
    "start_time": "2025-01-14T20:41:29.735Z"
   },
   {
    "duration": 9,
    "start_time": "2025-01-14T20:41:33.662Z"
   },
   {
    "duration": 4,
    "start_time": "2025-01-14T20:41:44.036Z"
   },
   {
    "duration": 13,
    "start_time": "2025-01-14T20:42:15.111Z"
   },
   {
    "duration": 10,
    "start_time": "2025-01-14T20:42:41.957Z"
   },
   {
    "duration": 11,
    "start_time": "2025-01-14T20:43:44.324Z"
   },
   {
    "duration": 8,
    "start_time": "2025-01-14T20:43:55.606Z"
   },
   {
    "duration": 11,
    "start_time": "2025-01-14T20:44:15.000Z"
   },
   {
    "duration": 9,
    "start_time": "2025-01-14T20:44:25.335Z"
   },
   {
    "duration": 3,
    "start_time": "2025-01-14T20:44:28.437Z"
   },
   {
    "duration": 109,
    "start_time": "2025-01-14T20:44:29.017Z"
   },
   {
    "duration": 6,
    "start_time": "2025-01-14T20:44:29.926Z"
   },
   {
    "duration": 6,
    "start_time": "2025-01-14T20:44:39.927Z"
   },
   {
    "duration": 27,
    "start_time": "2025-01-14T20:44:41.365Z"
   },
   {
    "duration": 68,
    "start_time": "2025-01-14T20:44:47.939Z"
   },
   {
    "duration": 3,
    "start_time": "2025-01-14T20:44:50.772Z"
   },
   {
    "duration": 3,
    "start_time": "2025-01-14T20:44:52.330Z"
   },
   {
    "duration": 22,
    "start_time": "2025-01-14T20:44:53.746Z"
   },
   {
    "duration": 26,
    "start_time": "2025-01-14T20:44:55.759Z"
   },
   {
    "duration": 40,
    "start_time": "2025-01-14T20:44:57.869Z"
   },
   {
    "duration": 43,
    "start_time": "2025-01-14T20:45:00.394Z"
   },
   {
    "duration": 44,
    "start_time": "2025-01-14T20:45:03.182Z"
   },
   {
    "duration": 17,
    "start_time": "2025-01-14T20:45:09.187Z"
   },
   {
    "duration": 13,
    "start_time": "2025-01-14T20:46:26.979Z"
   },
   {
    "duration": 12,
    "start_time": "2025-01-14T20:46:41.119Z"
   },
   {
    "duration": 8,
    "start_time": "2025-01-14T20:46:47.659Z"
   },
   {
    "duration": 3,
    "start_time": "2025-01-14T20:46:53.058Z"
   },
   {
    "duration": 109,
    "start_time": "2025-01-14T20:46:54.360Z"
   },
   {
    "duration": 8,
    "start_time": "2025-01-14T20:46:55.945Z"
   },
   {
    "duration": 25,
    "start_time": "2025-01-14T20:46:58.030Z"
   },
   {
    "duration": 54,
    "start_time": "2025-01-14T20:47:00.221Z"
   },
   {
    "duration": 3,
    "start_time": "2025-01-14T20:47:01.983Z"
   },
   {
    "duration": 3,
    "start_time": "2025-01-14T20:47:03.478Z"
   },
   {
    "duration": 22,
    "start_time": "2025-01-14T20:47:05.309Z"
   },
   {
    "duration": 28,
    "start_time": "2025-01-14T20:47:07.088Z"
   },
   {
    "duration": 39,
    "start_time": "2025-01-14T20:47:08.038Z"
   },
   {
    "duration": 48,
    "start_time": "2025-01-14T20:47:09.773Z"
   },
   {
    "duration": 58,
    "start_time": "2025-01-14T20:47:11.669Z"
   },
   {
    "duration": 14,
    "start_time": "2025-01-14T20:47:14.545Z"
   },
   {
    "duration": 43,
    "start_time": "2025-01-14T20:47:17.034Z"
   },
   {
    "duration": 23,
    "start_time": "2025-01-14T20:47:56.924Z"
   },
   {
    "duration": 9,
    "start_time": "2025-01-14T20:48:06.537Z"
   },
   {
    "duration": 4,
    "start_time": "2025-01-14T20:48:12.146Z"
   },
   {
    "duration": 3,
    "start_time": "2025-01-14T20:49:01.786Z"
   },
   {
    "duration": 8,
    "start_time": "2025-01-14T20:49:04.862Z"
   },
   {
    "duration": 2,
    "start_time": "2025-01-14T20:49:14.771Z"
   },
   {
    "duration": 109,
    "start_time": "2025-01-14T20:49:15.337Z"
   },
   {
    "duration": 7,
    "start_time": "2025-01-14T20:49:16.355Z"
   },
   {
    "duration": 28,
    "start_time": "2025-01-14T20:49:18.328Z"
   },
   {
    "duration": 46,
    "start_time": "2025-01-14T20:49:20.694Z"
   },
   {
    "duration": 6,
    "start_time": "2025-01-14T20:49:22.457Z"
   },
   {
    "duration": 4,
    "start_time": "2025-01-14T20:49:23.831Z"
   },
   {
    "duration": 22,
    "start_time": "2025-01-14T20:49:24.876Z"
   },
   {
    "duration": 28,
    "start_time": "2025-01-14T20:49:26.320Z"
   },
   {
    "duration": 40,
    "start_time": "2025-01-14T20:49:27.944Z"
   },
   {
    "duration": 45,
    "start_time": "2025-01-14T20:49:29.698Z"
   },
   {
    "duration": 51,
    "start_time": "2025-01-14T20:49:31.173Z"
   },
   {
    "duration": 21,
    "start_time": "2025-01-14T20:49:34.848Z"
   },
   {
    "duration": 8,
    "start_time": "2025-01-14T20:49:49.319Z"
   },
   {
    "duration": 3,
    "start_time": "2025-01-14T20:49:51.811Z"
   },
   {
    "duration": 5,
    "start_time": "2025-01-14T20:50:00.671Z"
   },
   {
    "duration": 12,
    "start_time": "2025-01-14T20:50:21.386Z"
   },
   {
    "duration": 6,
    "start_time": "2025-01-14T20:56:29.530Z"
   },
   {
    "duration": 13,
    "start_time": "2025-01-14T20:56:31.620Z"
   },
   {
    "duration": 4,
    "start_time": "2025-01-14T20:56:40.334Z"
   },
   {
    "duration": 9,
    "start_time": "2025-01-14T20:56:49.095Z"
   },
   {
    "duration": 296,
    "start_time": "2025-01-15T04:24:49.410Z"
   },
   {
    "duration": 153,
    "start_time": "2025-01-15T04:24:54.068Z"
   },
   {
    "duration": 114,
    "start_time": "2025-01-15T04:24:58.359Z"
   },
   {
    "duration": 8,
    "start_time": "2025-01-15T04:24:59.418Z"
   },
   {
    "duration": 24,
    "start_time": "2025-01-15T04:25:01.700Z"
   },
   {
    "duration": 46,
    "start_time": "2025-01-15T04:25:05.024Z"
   },
   {
    "duration": 3,
    "start_time": "2025-01-15T04:25:06.751Z"
   },
   {
    "duration": 3,
    "start_time": "2025-01-15T04:25:08.392Z"
   },
   {
    "duration": 18,
    "start_time": "2025-01-15T04:25:09.623Z"
   },
   {
    "duration": 24,
    "start_time": "2025-01-15T04:25:11.241Z"
   },
   {
    "duration": 35,
    "start_time": "2025-01-15T04:25:12.746Z"
   },
   {
    "duration": 38,
    "start_time": "2025-01-15T04:25:26.505Z"
   },
   {
    "duration": 43,
    "start_time": "2025-01-15T04:25:30.711Z"
   },
   {
    "duration": 20,
    "start_time": "2025-01-15T04:26:06.673Z"
   },
   {
    "duration": 9,
    "start_time": "2025-01-15T04:26:10.216Z"
   },
   {
    "duration": 4,
    "start_time": "2025-01-15T04:26:18.084Z"
   },
   {
    "duration": 5,
    "start_time": "2025-01-15T04:27:57.461Z"
   },
   {
    "duration": 7,
    "start_time": "2025-01-15T04:28:01.399Z"
   },
   {
    "duration": 2,
    "start_time": "2025-01-15T04:28:06.221Z"
   },
   {
    "duration": 111,
    "start_time": "2025-01-15T04:28:06.949Z"
   },
   {
    "duration": 7,
    "start_time": "2025-01-15T04:28:08.303Z"
   },
   {
    "duration": 24,
    "start_time": "2025-01-15T04:28:10.340Z"
   },
   {
    "duration": 44,
    "start_time": "2025-01-15T04:28:13.662Z"
   },
   {
    "duration": 3,
    "start_time": "2025-01-15T04:28:15.405Z"
   },
   {
    "duration": 3,
    "start_time": "2025-01-15T04:28:16.569Z"
   },
   {
    "duration": 23,
    "start_time": "2025-01-15T04:28:17.530Z"
   },
   {
    "duration": 26,
    "start_time": "2025-01-15T04:28:19.861Z"
   },
   {
    "duration": 37,
    "start_time": "2025-01-15T04:28:21.080Z"
   },
   {
    "duration": 43,
    "start_time": "2025-01-15T04:28:30.040Z"
   },
   {
    "duration": 4,
    "start_time": "2025-01-15T04:28:31.967Z"
   },
   {
    "duration": 44,
    "start_time": "2025-01-15T04:28:38.438Z"
   },
   {
    "duration": 17,
    "start_time": "2025-01-15T04:29:08.682Z"
   },
   {
    "duration": 12,
    "start_time": "2025-01-15T04:30:00.443Z"
   },
   {
    "duration": 15,
    "start_time": "2025-01-15T04:30:11.799Z"
   },
   {
    "duration": 8,
    "start_time": "2025-01-15T04:31:50.158Z"
   },
   {
    "duration": 85,
    "start_time": "2025-01-15T04:31:58.695Z"
   },
   {
    "duration": 15,
    "start_time": "2025-01-15T04:32:05.055Z"
   },
   {
    "duration": 9,
    "start_time": "2025-01-15T04:32:07.383Z"
   },
   {
    "duration": 7,
    "start_time": "2025-01-15T04:32:11.226Z"
   },
   {
    "duration": 8,
    "start_time": "2025-01-15T04:33:02.035Z"
   },
   {
    "duration": 14,
    "start_time": "2025-01-15T04:34:04.855Z"
   },
   {
    "duration": 9,
    "start_time": "2025-01-15T04:34:13.293Z"
   },
   {
    "duration": 4,
    "start_time": "2025-01-15T04:34:18.443Z"
   },
   {
    "duration": 15,
    "start_time": "2025-01-15T04:34:47.971Z"
   },
   {
    "duration": 14,
    "start_time": "2025-01-15T04:35:01.419Z"
   },
   {
    "duration": 2,
    "start_time": "2025-01-15T04:35:09.193Z"
   },
   {
    "duration": 113,
    "start_time": "2025-01-15T04:35:09.837Z"
   },
   {
    "duration": 6,
    "start_time": "2025-01-15T04:35:11.066Z"
   },
   {
    "duration": 24,
    "start_time": "2025-01-15T04:35:12.854Z"
   },
   {
    "duration": 44,
    "start_time": "2025-01-15T04:35:14.900Z"
   },
   {
    "duration": 3,
    "start_time": "2025-01-15T04:35:16.217Z"
   },
   {
    "duration": 3,
    "start_time": "2025-01-15T04:35:17.111Z"
   },
   {
    "duration": 22,
    "start_time": "2025-01-15T04:35:18.194Z"
   },
   {
    "duration": 26,
    "start_time": "2025-01-15T04:35:20.290Z"
   },
   {
    "duration": 35,
    "start_time": "2025-01-15T04:35:21.106Z"
   },
   {
    "duration": 38,
    "start_time": "2025-01-15T04:35:23.232Z"
   },
   {
    "duration": 10,
    "start_time": "2025-01-15T04:35:27.033Z"
   },
   {
    "duration": 5,
    "start_time": "2025-01-15T04:35:54.556Z"
   },
   {
    "duration": 3,
    "start_time": "2025-01-15T04:36:00.018Z"
   },
   {
    "duration": 2,
    "start_time": "2025-01-15T04:36:03.709Z"
   },
   {
    "duration": 117,
    "start_time": "2025-01-15T04:36:04.342Z"
   },
   {
    "duration": 6,
    "start_time": "2025-01-15T04:36:05.080Z"
   },
   {
    "duration": 24,
    "start_time": "2025-01-15T04:36:06.171Z"
   },
   {
    "duration": 49,
    "start_time": "2025-01-15T04:36:08.102Z"
   },
   {
    "duration": 3,
    "start_time": "2025-01-15T04:36:09.665Z"
   },
   {
    "duration": 3,
    "start_time": "2025-01-15T04:36:10.816Z"
   },
   {
    "duration": 20,
    "start_time": "2025-01-15T04:36:12.079Z"
   },
   {
    "duration": 25,
    "start_time": "2025-01-15T04:36:13.432Z"
   },
   {
    "duration": 38,
    "start_time": "2025-01-15T04:36:14.007Z"
   },
   {
    "duration": 54,
    "start_time": "2025-01-15T04:36:15.192Z"
   },
   {
    "duration": 45,
    "start_time": "2025-01-15T04:36:16.465Z"
   },
   {
    "duration": 21,
    "start_time": "2025-01-15T04:36:21.729Z"
   },
   {
    "duration": 7,
    "start_time": "2025-01-15T04:36:31.841Z"
   },
   {
    "duration": 41,
    "start_time": "2025-01-15T04:41:56.063Z"
   },
   {
    "duration": 18,
    "start_time": "2025-01-15T04:43:03.940Z"
   },
   {
    "duration": 2,
    "start_time": "2025-01-15T04:43:09.365Z"
   },
   {
    "duration": 129,
    "start_time": "2025-01-15T04:43:10.495Z"
   },
   {
    "duration": 6,
    "start_time": "2025-01-15T04:43:11.699Z"
   },
   {
    "duration": 24,
    "start_time": "2025-01-15T04:43:13.146Z"
   },
   {
    "duration": 47,
    "start_time": "2025-01-15T04:43:15.774Z"
   },
   {
    "duration": 3,
    "start_time": "2025-01-15T04:43:17.717Z"
   },
   {
    "duration": 3,
    "start_time": "2025-01-15T04:43:23.834Z"
   },
   {
    "duration": 3,
    "start_time": "2025-01-15T04:43:25.450Z"
   },
   {
    "duration": 3,
    "start_time": "2025-01-15T04:43:29.240Z"
   },
   {
    "duration": 20,
    "start_time": "2025-01-15T04:43:31.072Z"
   },
   {
    "duration": 30,
    "start_time": "2025-01-15T04:43:34.891Z"
   },
   {
    "duration": 37,
    "start_time": "2025-01-15T04:43:36.883Z"
   },
   {
    "duration": 50,
    "start_time": "2025-01-15T04:43:41.317Z"
   },
   {
    "duration": 44,
    "start_time": "2025-01-15T04:43:43.421Z"
   },
   {
    "duration": 20,
    "start_time": "2025-01-15T04:43:46.587Z"
   },
   {
    "duration": 8,
    "start_time": "2025-01-15T04:43:51.995Z"
   },
   {
    "duration": 3,
    "start_time": "2025-01-15T04:44:02.731Z"
   },
   {
    "duration": 103,
    "start_time": "2025-01-15T04:44:21.530Z"
   },
   {
    "duration": 11,
    "start_time": "2025-01-15T04:44:32.886Z"
   },
   {
    "duration": 4,
    "start_time": "2025-01-15T04:46:08.556Z"
   },
   {
    "duration": 16,
    "start_time": "2025-01-15T04:46:38.407Z"
   },
   {
    "duration": 8,
    "start_time": "2025-01-15T04:46:43.720Z"
   },
   {
    "duration": 4,
    "start_time": "2025-01-15T04:46:46.081Z"
   },
   {
    "duration": 5,
    "start_time": "2025-01-15T04:46:47.958Z"
   },
   {
    "duration": 8,
    "start_time": "2025-01-15T04:46:52.845Z"
   },
   {
    "duration": 4,
    "start_time": "2025-01-15T04:47:13.805Z"
   },
   {
    "duration": 9,
    "start_time": "2025-01-15T04:47:38.631Z"
   },
   {
    "duration": 7,
    "start_time": "2025-01-15T04:52:10.071Z"
   },
   {
    "duration": 7,
    "start_time": "2025-01-15T04:52:44.179Z"
   },
   {
    "duration": 8,
    "start_time": "2025-01-15T04:54:34.806Z"
   },
   {
    "duration": 16,
    "start_time": "2025-01-15T04:56:59.630Z"
   },
   {
    "duration": 9,
    "start_time": "2025-01-15T04:57:07.730Z"
   },
   {
    "duration": 3,
    "start_time": "2025-01-15T04:57:11.939Z"
   },
   {
    "duration": 112,
    "start_time": "2025-01-15T04:57:12.825Z"
   },
   {
    "duration": 6,
    "start_time": "2025-01-15T04:57:13.625Z"
   },
   {
    "duration": 23,
    "start_time": "2025-01-15T04:57:15.233Z"
   },
   {
    "duration": 57,
    "start_time": "2025-01-15T04:57:17.485Z"
   },
   {
    "duration": 3,
    "start_time": "2025-01-15T04:57:20.178Z"
   },
   {
    "duration": 4,
    "start_time": "2025-01-15T04:57:21.381Z"
   },
   {
    "duration": 19,
    "start_time": "2025-01-15T04:57:22.737Z"
   },
   {
    "duration": 24,
    "start_time": "2025-01-15T04:57:24.466Z"
   },
   {
    "duration": 42,
    "start_time": "2025-01-15T04:57:26.455Z"
   },
   {
    "duration": 37,
    "start_time": "2025-01-15T04:57:29.213Z"
   },
   {
    "duration": 43,
    "start_time": "2025-01-15T04:57:34.550Z"
   },
   {
    "duration": 49,
    "start_time": "2025-01-15T04:57:37.868Z"
   },
   {
    "duration": 49,
    "start_time": "2025-01-15T04:58:11.926Z"
   },
   {
    "duration": 17,
    "start_time": "2025-01-15T04:58:31.484Z"
   },
   {
    "duration": 38,
    "start_time": "2025-01-15T04:58:43.526Z"
   },
   {
    "duration": 21,
    "start_time": "2025-01-15T05:00:03.774Z"
   },
   {
    "duration": 12,
    "start_time": "2025-01-15T05:00:18.630Z"
   },
   {
    "duration": 7,
    "start_time": "2025-01-15T05:00:38.631Z"
   },
   {
    "duration": 11,
    "start_time": "2025-01-15T05:03:33.400Z"
   },
   {
    "duration": 12,
    "start_time": "2025-01-15T05:03:48.481Z"
   },
   {
    "duration": 3,
    "start_time": "2025-01-15T05:08:21.200Z"
   },
   {
    "duration": 331,
    "start_time": "2025-01-15T05:09:44.253Z"
   },
   {
    "duration": 38,
    "start_time": "2025-01-15T05:09:52.768Z"
   },
   {
    "duration": 37,
    "start_time": "2025-01-15T05:10:06.318Z"
   },
   {
    "duration": 7,
    "start_time": "2025-01-15T05:10:08.113Z"
   },
   {
    "duration": 45,
    "start_time": "2025-01-15T05:10:11.185Z"
   },
   {
    "duration": 15,
    "start_time": "2025-01-15T05:10:14.797Z"
   },
   {
    "duration": 2,
    "start_time": "2025-01-15T05:10:18.365Z"
   },
   {
    "duration": 113,
    "start_time": "2025-01-15T05:10:19.013Z"
   },
   {
    "duration": 6,
    "start_time": "2025-01-15T05:10:19.514Z"
   },
   {
    "duration": 22,
    "start_time": "2025-01-15T05:10:21.583Z"
   },
   {
    "duration": 47,
    "start_time": "2025-01-15T05:10:24.149Z"
   },
   {
    "duration": 3,
    "start_time": "2025-01-15T05:10:27.103Z"
   },
   {
    "duration": 4,
    "start_time": "2025-01-15T05:10:29.159Z"
   },
   {
    "duration": 18,
    "start_time": "2025-01-15T05:10:30.639Z"
   },
   {
    "duration": 25,
    "start_time": "2025-01-15T05:10:32.307Z"
   },
   {
    "duration": 35,
    "start_time": "2025-01-15T05:10:35.214Z"
   },
   {
    "duration": 40,
    "start_time": "2025-01-15T05:10:37.634Z"
   },
   {
    "duration": 42,
    "start_time": "2025-01-15T05:10:39.014Z"
   },
   {
    "duration": 17,
    "start_time": "2025-01-15T05:10:42.477Z"
   },
   {
    "duration": 37,
    "start_time": "2025-01-15T05:10:45.916Z"
   },
   {
    "duration": 36,
    "start_time": "2025-01-15T05:10:53.489Z"
   },
   {
    "duration": 25,
    "start_time": "2025-01-15T05:11:08.765Z"
   },
   {
    "duration": 9,
    "start_time": "2025-01-15T05:11:11.346Z"
   },
   {
    "duration": 13,
    "start_time": "2025-01-15T05:11:17.528Z"
   },
   {
    "duration": 8,
    "start_time": "2025-01-15T05:12:08.231Z"
   },
   {
    "duration": 10,
    "start_time": "2025-01-15T05:12:14.632Z"
   },
   {
    "duration": 8,
    "start_time": "2025-01-15T05:12:17.187Z"
   },
   {
    "duration": 35,
    "start_time": "2025-01-15T05:12:26.690Z"
   },
   {
    "duration": 38,
    "start_time": "2025-01-15T05:12:28.755Z"
   },
   {
    "duration": 2,
    "start_time": "2025-01-15T05:12:34.035Z"
   },
   {
    "duration": 109,
    "start_time": "2025-01-15T05:12:34.686Z"
   },
   {
    "duration": 7,
    "start_time": "2025-01-15T05:12:35.971Z"
   },
   {
    "duration": 22,
    "start_time": "2025-01-15T05:12:37.464Z"
   },
   {
    "duration": 43,
    "start_time": "2025-01-15T05:12:41.521Z"
   },
   {
    "duration": 4,
    "start_time": "2025-01-15T05:12:43.974Z"
   },
   {
    "duration": 3,
    "start_time": "2025-01-15T05:12:45.055Z"
   },
   {
    "duration": 19,
    "start_time": "2025-01-15T05:12:46.394Z"
   },
   {
    "duration": 25,
    "start_time": "2025-01-15T05:12:47.676Z"
   },
   {
    "duration": 36,
    "start_time": "2025-01-15T05:12:49.295Z"
   },
   {
    "duration": 38,
    "start_time": "2025-01-15T05:12:52.388Z"
   },
   {
    "duration": 42,
    "start_time": "2025-01-15T05:12:53.665Z"
   },
   {
    "duration": 16,
    "start_time": "2025-01-15T05:12:56.561Z"
   },
   {
    "duration": 40,
    "start_time": "2025-01-15T05:13:00.743Z"
   },
   {
    "duration": 39,
    "start_time": "2025-01-15T05:13:04.571Z"
   },
   {
    "duration": 24,
    "start_time": "2025-01-15T05:13:14.818Z"
   },
   {
    "duration": 10,
    "start_time": "2025-01-15T05:13:20.425Z"
   },
   {
    "duration": 10,
    "start_time": "2025-01-15T05:13:23.554Z"
   },
   {
    "duration": 37,
    "start_time": "2025-01-15T05:17:07.109Z"
   },
   {
    "duration": 37,
    "start_time": "2025-01-15T05:17:08.745Z"
   },
   {
    "duration": 35,
    "start_time": "2025-01-15T05:17:13.396Z"
   },
   {
    "duration": 11,
    "start_time": "2025-01-15T05:17:18.698Z"
   },
   {
    "duration": 3,
    "start_time": "2025-01-15T05:17:24.382Z"
   },
   {
    "duration": 115,
    "start_time": "2025-01-15T05:17:25.286Z"
   },
   {
    "duration": 9,
    "start_time": "2025-01-15T05:17:26.090Z"
   },
   {
    "duration": 25,
    "start_time": "2025-01-15T05:17:27.816Z"
   },
   {
    "duration": 46,
    "start_time": "2025-01-15T05:17:34.165Z"
   },
   {
    "duration": 3,
    "start_time": "2025-01-15T05:17:36.659Z"
   },
   {
    "duration": 3,
    "start_time": "2025-01-15T05:17:37.913Z"
   },
   {
    "duration": 18,
    "start_time": "2025-01-15T05:17:40.425Z"
   },
   {
    "duration": 25,
    "start_time": "2025-01-15T05:17:42.084Z"
   },
   {
    "duration": 35,
    "start_time": "2025-01-15T05:17:43.369Z"
   },
   {
    "duration": 38,
    "start_time": "2025-01-15T05:17:52.672Z"
   },
   {
    "duration": 42,
    "start_time": "2025-01-15T05:17:54.969Z"
   },
   {
    "duration": 19,
    "start_time": "2025-01-15T05:17:57.726Z"
   },
   {
    "duration": 38,
    "start_time": "2025-01-15T05:18:00.594Z"
   },
   {
    "duration": 39,
    "start_time": "2025-01-15T05:40:27.230Z"
   },
   {
    "duration": 49,
    "start_time": "2025-01-15T05:46:36.652Z"
   },
   {
    "duration": 37,
    "start_time": "2025-01-15T05:46:45.624Z"
   },
   {
    "duration": 33,
    "start_time": "2025-01-15T05:47:36.517Z"
   },
   {
    "duration": 23,
    "start_time": "2025-01-15T05:48:24.974Z"
   },
   {
    "duration": 7,
    "start_time": "2025-01-15T05:48:28.001Z"
   },
   {
    "duration": 9,
    "start_time": "2025-01-15T05:53:07.717Z"
   },
   {
    "duration": 10,
    "start_time": "2025-01-15T05:53:18.828Z"
   },
   {
    "duration": 16,
    "start_time": "2025-01-15T06:04:22.155Z"
   },
   {
    "duration": 10,
    "start_time": "2025-01-15T06:05:21.520Z"
   },
   {
    "duration": 10,
    "start_time": "2025-01-15T06:06:36.439Z"
   },
   {
    "duration": 9,
    "start_time": "2025-01-15T06:06:38.308Z"
   },
   {
    "duration": 12,
    "start_time": "2025-01-15T06:07:09.897Z"
   },
   {
    "duration": 9,
    "start_time": "2025-01-15T06:07:16.360Z"
   },
   {
    "duration": 9,
    "start_time": "2025-01-15T06:07:29.597Z"
   },
   {
    "duration": 17,
    "start_time": "2025-01-15T06:11:18.321Z"
   },
   {
    "duration": 15,
    "start_time": "2025-01-15T06:11:24.581Z"
   },
   {
    "duration": 15,
    "start_time": "2025-01-15T06:15:47.667Z"
   },
   {
    "duration": 16,
    "start_time": "2025-01-15T06:16:03.457Z"
   },
   {
    "duration": 15,
    "start_time": "2025-01-15T06:16:04.740Z"
   },
   {
    "duration": 16,
    "start_time": "2025-01-15T06:17:14.690Z"
   },
   {
    "duration": 32,
    "start_time": "2025-01-15T06:17:58.717Z"
   },
   {
    "duration": 33,
    "start_time": "2025-01-15T06:18:57.639Z"
   },
   {
    "duration": 37,
    "start_time": "2025-01-15T06:19:03.654Z"
   },
   {
    "duration": 17,
    "start_time": "2025-01-15T06:19:27.794Z"
   },
   {
    "duration": 36,
    "start_time": "2025-01-15T06:19:32.916Z"
   },
   {
    "duration": 2,
    "start_time": "2025-01-15T06:19:40.555Z"
   },
   {
    "duration": 110,
    "start_time": "2025-01-15T06:19:41.432Z"
   },
   {
    "duration": 6,
    "start_time": "2025-01-15T06:19:42.381Z"
   },
   {
    "duration": 23,
    "start_time": "2025-01-15T06:19:44.200Z"
   },
   {
    "duration": 45,
    "start_time": "2025-01-15T06:19:47.094Z"
   },
   {
    "duration": 4,
    "start_time": "2025-01-15T06:19:49.418Z"
   },
   {
    "duration": 3,
    "start_time": "2025-01-15T06:19:50.661Z"
   },
   {
    "duration": 18,
    "start_time": "2025-01-15T06:19:51.987Z"
   },
   {
    "duration": 25,
    "start_time": "2025-01-15T06:19:53.735Z"
   },
   {
    "duration": 38,
    "start_time": "2025-01-15T06:19:55.794Z"
   },
   {
    "duration": 41,
    "start_time": "2025-01-15T06:19:57.398Z"
   },
   {
    "duration": 43,
    "start_time": "2025-01-15T06:19:59.176Z"
   },
   {
    "duration": 50,
    "start_time": "2025-01-15T06:20:03.772Z"
   },
   {
    "duration": 38,
    "start_time": "2025-01-15T06:20:06.658Z"
   },
   {
    "duration": 34,
    "start_time": "2025-01-15T06:20:09.085Z"
   },
   {
    "duration": 9,
    "start_time": "2025-01-15T06:20:43.398Z"
   },
   {
    "duration": 37,
    "start_time": "2025-01-15T06:20:46.857Z"
   },
   {
    "duration": 10,
    "start_time": "2025-01-15T06:20:48.178Z"
   },
   {
    "duration": 3,
    "start_time": "2025-01-15T06:21:06.657Z"
   },
   {
    "duration": 120,
    "start_time": "2025-01-15T06:21:07.457Z"
   },
   {
    "duration": 6,
    "start_time": "2025-01-15T06:21:08.138Z"
   },
   {
    "duration": 22,
    "start_time": "2025-01-15T06:21:10.146Z"
   },
   {
    "duration": 44,
    "start_time": "2025-01-15T06:21:13.066Z"
   },
   {
    "duration": 3,
    "start_time": "2025-01-15T06:21:14.355Z"
   },
   {
    "duration": 3,
    "start_time": "2025-01-15T06:21:15.798Z"
   },
   {
    "duration": 18,
    "start_time": "2025-01-15T06:21:16.792Z"
   },
   {
    "duration": 24,
    "start_time": "2025-01-15T06:21:18.296Z"
   },
   {
    "duration": 35,
    "start_time": "2025-01-15T06:21:19.313Z"
   },
   {
    "duration": 37,
    "start_time": "2025-01-15T06:21:21.312Z"
   },
   {
    "duration": 42,
    "start_time": "2025-01-15T06:21:22.857Z"
   },
   {
    "duration": 49,
    "start_time": "2025-01-15T06:21:25.901Z"
   },
   {
    "duration": 44,
    "start_time": "2025-01-15T06:21:30.101Z"
   },
   {
    "duration": 8,
    "start_time": "2025-01-15T06:21:31.741Z"
   },
   {
    "duration": 5,
    "start_time": "2025-01-15T06:22:33.347Z"
   },
   {
    "duration": 18,
    "start_time": "2025-01-15T06:22:38.655Z"
   },
   {
    "duration": 16,
    "start_time": "2025-01-15T06:25:23.567Z"
   },
   {
    "duration": 3,
    "start_time": "2025-01-15T06:25:29.070Z"
   },
   {
    "duration": 113,
    "start_time": "2025-01-15T06:25:29.899Z"
   },
   {
    "duration": 6,
    "start_time": "2025-01-15T06:25:30.812Z"
   },
   {
    "duration": 22,
    "start_time": "2025-01-15T06:25:32.172Z"
   },
   {
    "duration": 47,
    "start_time": "2025-01-15T06:25:34.598Z"
   },
   {
    "duration": 3,
    "start_time": "2025-01-15T06:25:36.289Z"
   },
   {
    "duration": 3,
    "start_time": "2025-01-15T06:25:37.757Z"
   },
   {
    "duration": 19,
    "start_time": "2025-01-15T06:25:39.102Z"
   },
   {
    "duration": 25,
    "start_time": "2025-01-15T06:25:40.609Z"
   },
   {
    "duration": 36,
    "start_time": "2025-01-15T06:25:41.507Z"
   },
   {
    "duration": 39,
    "start_time": "2025-01-15T06:25:43.220Z"
   },
   {
    "duration": 44,
    "start_time": "2025-01-15T06:25:44.490Z"
   },
   {
    "duration": 49,
    "start_time": "2025-01-15T06:25:46.980Z"
   },
   {
    "duration": 37,
    "start_time": "2025-01-15T06:25:50.983Z"
   },
   {
    "duration": 6,
    "start_time": "2025-01-15T06:25:52.851Z"
   },
   {
    "duration": 17,
    "start_time": "2025-01-15T06:26:00.049Z"
   },
   {
    "duration": 17,
    "start_time": "2025-01-15T06:26:02.250Z"
   },
   {
    "duration": 15,
    "start_time": "2025-01-15T06:26:05.189Z"
   },
   {
    "duration": 2,
    "start_time": "2025-01-15T06:33:48.038Z"
   },
   {
    "duration": 113,
    "start_time": "2025-01-15T06:33:48.729Z"
   },
   {
    "duration": 6,
    "start_time": "2025-01-15T06:33:49.383Z"
   },
   {
    "duration": 24,
    "start_time": "2025-01-15T06:33:50.729Z"
   },
   {
    "duration": 46,
    "start_time": "2025-01-15T06:33:53.447Z"
   },
   {
    "duration": 3,
    "start_time": "2025-01-15T06:33:54.984Z"
   },
   {
    "duration": 4,
    "start_time": "2025-01-15T06:33:55.780Z"
   },
   {
    "duration": 20,
    "start_time": "2025-01-15T06:33:56.845Z"
   },
   {
    "duration": 26,
    "start_time": "2025-01-15T06:33:58.067Z"
   },
   {
    "duration": 37,
    "start_time": "2025-01-15T06:33:59.174Z"
   },
   {
    "duration": 41,
    "start_time": "2025-01-15T06:34:00.755Z"
   },
   {
    "duration": 44,
    "start_time": "2025-01-15T06:34:01.847Z"
   },
   {
    "duration": 49,
    "start_time": "2025-01-15T06:34:03.448Z"
   },
   {
    "duration": 37,
    "start_time": "2025-01-15T06:34:05.778Z"
   },
   {
    "duration": 6,
    "start_time": "2025-01-15T06:34:07.853Z"
   },
   {
    "duration": 19,
    "start_time": "2025-01-15T06:34:15.998Z"
   },
   {
    "duration": 15,
    "start_time": "2025-01-15T06:34:23.490Z"
   },
   {
    "duration": 16,
    "start_time": "2025-01-15T06:36:45.765Z"
   },
   {
    "duration": 17,
    "start_time": "2025-01-15T06:55:28.895Z"
   },
   {
    "duration": 29,
    "start_time": "2025-01-15T06:57:16.662Z"
   },
   {
    "duration": 8,
    "start_time": "2025-01-15T06:57:19.592Z"
   },
   {
    "duration": 40,
    "start_time": "2025-01-15T06:57:26.017Z"
   },
   {
    "duration": 2,
    "start_time": "2025-01-15T06:57:30.869Z"
   },
   {
    "duration": 116,
    "start_time": "2025-01-15T06:57:31.749Z"
   },
   {
    "duration": 6,
    "start_time": "2025-01-15T06:57:32.976Z"
   },
   {
    "duration": 23,
    "start_time": "2025-01-15T06:57:34.162Z"
   },
   {
    "duration": 66,
    "start_time": "2025-01-15T06:57:36.382Z"
   },
   {
    "duration": 3,
    "start_time": "2025-01-15T06:57:38.593Z"
   },
   {
    "duration": 3,
    "start_time": "2025-01-15T06:57:40.031Z"
   },
   {
    "duration": 19,
    "start_time": "2025-01-15T06:57:41.234Z"
   },
   {
    "duration": 26,
    "start_time": "2025-01-15T06:57:42.599Z"
   },
   {
    "duration": 43,
    "start_time": "2025-01-15T06:57:43.838Z"
   },
   {
    "duration": 39,
    "start_time": "2025-01-15T06:57:45.555Z"
   },
   {
    "duration": 44,
    "start_time": "2025-01-15T06:57:47.354Z"
   },
   {
    "duration": 50,
    "start_time": "2025-01-15T06:57:49.335Z"
   },
   {
    "duration": 36,
    "start_time": "2025-01-15T06:57:52.733Z"
   },
   {
    "duration": 5,
    "start_time": "2025-01-15T06:57:54.536Z"
   },
   {
    "duration": 33,
    "start_time": "2025-01-15T06:58:02.771Z"
   },
   {
    "duration": 32,
    "start_time": "2025-01-15T06:58:13.153Z"
   },
   {
    "duration": 2,
    "start_time": "2025-01-15T06:58:46.260Z"
   },
   {
    "duration": 32,
    "start_time": "2025-01-15T06:58:47.670Z"
   },
   {
    "duration": 3,
    "start_time": "2025-01-15T07:00:28.832Z"
   },
   {
    "duration": 32,
    "start_time": "2025-01-15T07:00:30.124Z"
   },
   {
    "duration": 7,
    "start_time": "2025-01-15T07:00:43.356Z"
   },
   {
    "duration": 40,
    "start_time": "2025-01-15T07:00:50.385Z"
   },
   {
    "duration": 3,
    "start_time": "2025-01-15T07:00:56.974Z"
   },
   {
    "duration": 118,
    "start_time": "2025-01-15T07:00:57.726Z"
   },
   {
    "duration": 6,
    "start_time": "2025-01-15T07:00:58.450Z"
   },
   {
    "duration": 25,
    "start_time": "2025-01-15T07:01:00.008Z"
   },
   {
    "duration": 47,
    "start_time": "2025-01-15T07:01:03.696Z"
   },
   {
    "duration": 3,
    "start_time": "2025-01-15T07:01:05.124Z"
   },
   {
    "duration": 3,
    "start_time": "2025-01-15T07:01:07.075Z"
   },
   {
    "duration": 20,
    "start_time": "2025-01-15T07:01:07.958Z"
   },
   {
    "duration": 27,
    "start_time": "2025-01-15T07:01:09.671Z"
   },
   {
    "duration": 39,
    "start_time": "2025-01-15T07:01:10.725Z"
   },
   {
    "duration": 41,
    "start_time": "2025-01-15T07:01:12.778Z"
   },
   {
    "duration": 47,
    "start_time": "2025-01-15T07:01:14.320Z"
   },
   {
    "duration": 52,
    "start_time": "2025-01-15T07:01:16.250Z"
   },
   {
    "duration": 38,
    "start_time": "2025-01-15T07:01:18.028Z"
   },
   {
    "duration": 5,
    "start_time": "2025-01-15T07:01:19.487Z"
   },
   {
    "duration": 4,
    "start_time": "2025-01-15T07:01:23.791Z"
   },
   {
    "duration": 31,
    "start_time": "2025-01-15T07:01:26.526Z"
   },
   {
    "duration": 14,
    "start_time": "2025-01-15T07:01:48.194Z"
   },
   {
    "duration": 12,
    "start_time": "2025-01-15T07:02:30.815Z"
   },
   {
    "duration": 15,
    "start_time": "2025-01-15T07:04:48.180Z"
   },
   {
    "duration": 17,
    "start_time": "2025-01-15T07:10:17.144Z"
   },
   {
    "duration": 14,
    "start_time": "2025-01-15T07:10:23.939Z"
   },
   {
    "duration": 174,
    "start_time": "2025-01-15T07:37:25.436Z"
   },
   {
    "duration": 21,
    "start_time": "2025-01-15T07:37:29.769Z"
   },
   {
    "duration": 22,
    "start_time": "2025-01-15T07:37:32.479Z"
   },
   {
    "duration": 22,
    "start_time": "2025-01-15T07:38:16.059Z"
   },
   {
    "duration": 23,
    "start_time": "2025-01-15T07:38:16.822Z"
   },
   {
    "duration": 14,
    "start_time": "2025-01-15T07:38:19.056Z"
   },
   {
    "duration": 22,
    "start_time": "2025-01-15T07:38:20.605Z"
   },
   {
    "duration": 7,
    "start_time": "2025-01-15T07:38:51.389Z"
   },
   {
    "duration": 6,
    "start_time": "2025-01-15T07:41:26.972Z"
   },
   {
    "duration": 23,
    "start_time": "2025-01-15T07:50:06.627Z"
   },
   {
    "duration": 24,
    "start_time": "2025-01-15T07:50:21.857Z"
   },
   {
    "duration": 14,
    "start_time": "2025-01-15T07:50:23.669Z"
   },
   {
    "duration": 14,
    "start_time": "2025-01-15T07:51:06.375Z"
   },
   {
    "duration": 3,
    "start_time": "2025-01-15T07:52:27.761Z"
   },
   {
    "duration": 15,
    "start_time": "2025-01-15T07:52:33.714Z"
   },
   {
    "duration": 10,
    "start_time": "2025-01-15T07:52:51.892Z"
   },
   {
    "duration": 20,
    "start_time": "2025-01-15T07:53:40.173Z"
   },
   {
    "duration": 25,
    "start_time": "2025-01-15T07:53:56.004Z"
   },
   {
    "duration": 6,
    "start_time": "2025-01-15T07:54:08.791Z"
   },
   {
    "duration": 11,
    "start_time": "2025-01-15T07:54:11.973Z"
   },
   {
    "duration": 2,
    "start_time": "2025-01-15T07:54:17.319Z"
   },
   {
    "duration": 112,
    "start_time": "2025-01-15T07:54:18.411Z"
   },
   {
    "duration": 8,
    "start_time": "2025-01-15T07:54:19.284Z"
   },
   {
    "duration": 24,
    "start_time": "2025-01-15T07:54:20.731Z"
   },
   {
    "duration": 46,
    "start_time": "2025-01-15T07:54:23.205Z"
   },
   {
    "duration": 3,
    "start_time": "2025-01-15T07:54:24.829Z"
   },
   {
    "duration": 3,
    "start_time": "2025-01-15T07:54:26.229Z"
   },
   {
    "duration": 21,
    "start_time": "2025-01-15T07:54:27.091Z"
   },
   {
    "duration": 28,
    "start_time": "2025-01-15T07:54:28.252Z"
   },
   {
    "duration": 41,
    "start_time": "2025-01-15T07:54:29.530Z"
   },
   {
    "duration": 40,
    "start_time": "2025-01-15T07:54:31.324Z"
   },
   {
    "duration": 48,
    "start_time": "2025-01-15T07:54:32.556Z"
   },
   {
    "duration": 53,
    "start_time": "2025-01-15T07:54:34.677Z"
   },
   {
    "duration": 37,
    "start_time": "2025-01-15T07:54:36.591Z"
   },
   {
    "duration": 5,
    "start_time": "2025-01-15T07:54:38.106Z"
   },
   {
    "duration": 4,
    "start_time": "2025-01-15T07:54:40.159Z"
   },
   {
    "duration": 30,
    "start_time": "2025-01-15T07:54:41.900Z"
   },
   {
    "duration": 11,
    "start_time": "2025-01-15T07:54:43.781Z"
   },
   {
    "duration": 9,
    "start_time": "2025-01-15T07:54:45.964Z"
   },
   {
    "duration": 22,
    "start_time": "2025-01-15T07:54:47.105Z"
   },
   {
    "duration": 19,
    "start_time": "2025-01-15T07:56:49.474Z"
   },
   {
    "duration": 9,
    "start_time": "2025-01-15T07:56:52.749Z"
   },
   {
    "duration": 21,
    "start_time": "2025-01-15T07:56:53.680Z"
   },
   {
    "duration": 18,
    "start_time": "2025-01-15T07:57:18.364Z"
   },
   {
    "duration": 18,
    "start_time": "2025-01-15T07:57:53.648Z"
   },
   {
    "duration": 2,
    "start_time": "2025-01-15T07:57:55.001Z"
   },
   {
    "duration": 17,
    "start_time": "2025-01-15T07:57:56.049Z"
   },
   {
    "duration": 2,
    "start_time": "2025-01-15T07:58:02.953Z"
   },
   {
    "duration": 109,
    "start_time": "2025-01-15T07:58:03.587Z"
   },
   {
    "duration": 6,
    "start_time": "2025-01-15T07:58:04.603Z"
   },
   {
    "duration": 23,
    "start_time": "2025-01-15T07:58:05.807Z"
   },
   {
    "duration": 47,
    "start_time": "2025-01-15T07:58:07.924Z"
   },
   {
    "duration": 3,
    "start_time": "2025-01-15T07:58:09.515Z"
   },
   {
    "duration": 3,
    "start_time": "2025-01-15T07:58:10.849Z"
   },
   {
    "duration": 20,
    "start_time": "2025-01-15T07:58:12.039Z"
   },
   {
    "duration": 26,
    "start_time": "2025-01-15T07:58:14.067Z"
   },
   {
    "duration": 37,
    "start_time": "2025-01-15T07:58:15.298Z"
   },
   {
    "duration": 39,
    "start_time": "2025-01-15T07:58:16.749Z"
   },
   {
    "duration": 43,
    "start_time": "2025-01-15T07:58:17.949Z"
   },
   {
    "duration": 51,
    "start_time": "2025-01-15T07:58:19.702Z"
   },
   {
    "duration": 37,
    "start_time": "2025-01-15T07:58:21.621Z"
   },
   {
    "duration": 5,
    "start_time": "2025-01-15T07:58:23.113Z"
   },
   {
    "duration": 3,
    "start_time": "2025-01-15T07:58:24.567Z"
   },
   {
    "duration": 40,
    "start_time": "2025-01-15T07:58:25.826Z"
   },
   {
    "duration": 14,
    "start_time": "2025-01-15T07:58:27.454Z"
   },
   {
    "duration": 2,
    "start_time": "2025-01-15T07:58:32.825Z"
   },
   {
    "duration": 21,
    "start_time": "2025-01-15T07:58:34.483Z"
   },
   {
    "duration": 28,
    "start_time": "2025-01-15T08:00:47.430Z"
   },
   {
    "duration": 28,
    "start_time": "2025-01-15T08:00:48.290Z"
   },
   {
    "duration": 30,
    "start_time": "2025-01-15T08:01:12.877Z"
   },
   {
    "duration": 35,
    "start_time": "2025-01-15T08:02:18.202Z"
   },
   {
    "duration": 34,
    "start_time": "2025-01-15T08:02:26.935Z"
   },
   {
    "duration": 2,
    "start_time": "2025-01-15T08:02:32.621Z"
   },
   {
    "duration": 112,
    "start_time": "2025-01-15T08:02:33.636Z"
   },
   {
    "duration": 6,
    "start_time": "2025-01-15T08:02:34.421Z"
   },
   {
    "duration": 22,
    "start_time": "2025-01-15T08:02:36.043Z"
   },
   {
    "duration": 46,
    "start_time": "2025-01-15T08:02:38.611Z"
   },
   {
    "duration": 3,
    "start_time": "2025-01-15T08:02:40.117Z"
   },
   {
    "duration": 3,
    "start_time": "2025-01-15T08:02:41.001Z"
   },
   {
    "duration": 21,
    "start_time": "2025-01-15T08:02:42.456Z"
   },
   {
    "duration": 27,
    "start_time": "2025-01-15T08:02:43.822Z"
   },
   {
    "duration": 36,
    "start_time": "2025-01-15T08:02:44.834Z"
   },
   {
    "duration": 42,
    "start_time": "2025-01-15T08:02:46.573Z"
   },
   {
    "duration": 45,
    "start_time": "2025-01-15T08:02:47.794Z"
   },
   {
    "duration": 51,
    "start_time": "2025-01-15T08:02:49.528Z"
   },
   {
    "duration": 37,
    "start_time": "2025-01-15T08:02:51.641Z"
   },
   {
    "duration": 5,
    "start_time": "2025-01-15T08:02:52.987Z"
   },
   {
    "duration": 4,
    "start_time": "2025-01-15T08:02:54.519Z"
   },
   {
    "duration": 30,
    "start_time": "2025-01-15T08:02:55.894Z"
   },
   {
    "duration": 11,
    "start_time": "2025-01-15T08:02:57.036Z"
   },
   {
    "duration": 37,
    "start_time": "2025-01-15T08:02:59.653Z"
   },
   {
    "duration": 33,
    "start_time": "2025-01-15T08:03:08.156Z"
   },
   {
    "duration": 35,
    "start_time": "2025-01-15T08:06:53.976Z"
   },
   {
    "duration": 35,
    "start_time": "2025-01-15T08:07:22.946Z"
   },
   {
    "duration": 32,
    "start_time": "2025-01-15T08:08:05.018Z"
   },
   {
    "duration": 5,
    "start_time": "2025-01-15T08:08:05.877Z"
   },
   {
    "duration": 28,
    "start_time": "2025-01-15T08:08:11.897Z"
   },
   {
    "duration": 2,
    "start_time": "2025-01-15T08:08:20.881Z"
   },
   {
    "duration": 5,
    "start_time": "2025-01-15T08:10:34.380Z"
   },
   {
    "duration": 2,
    "start_time": "2025-01-15T08:10:44.155Z"
   },
   {
    "duration": 4,
    "start_time": "2025-01-15T08:10:46.009Z"
   },
   {
    "duration": 2,
    "start_time": "2025-01-15T08:10:55.075Z"
   },
   {
    "duration": 112,
    "start_time": "2025-01-15T08:10:55.912Z"
   },
   {
    "duration": 6,
    "start_time": "2025-01-15T08:10:57.209Z"
   },
   {
    "duration": 26,
    "start_time": "2025-01-15T08:10:59.270Z"
   },
   {
    "duration": 48,
    "start_time": "2025-01-15T08:11:01.796Z"
   },
   {
    "duration": 3,
    "start_time": "2025-01-15T08:11:03.573Z"
   },
   {
    "duration": 3,
    "start_time": "2025-01-15T08:11:05.153Z"
   },
   {
    "duration": 22,
    "start_time": "2025-01-15T08:11:06.446Z"
   },
   {
    "duration": 29,
    "start_time": "2025-01-15T08:11:08.168Z"
   },
   {
    "duration": 43,
    "start_time": "2025-01-15T08:11:09.403Z"
   },
   {
    "duration": 41,
    "start_time": "2025-01-15T08:11:10.672Z"
   },
   {
    "duration": 47,
    "start_time": "2025-01-15T08:11:11.486Z"
   },
   {
    "duration": 55,
    "start_time": "2025-01-15T08:11:13.288Z"
   },
   {
    "duration": 42,
    "start_time": "2025-01-15T08:11:15.017Z"
   },
   {
    "duration": 5,
    "start_time": "2025-01-15T08:11:16.316Z"
   },
   {
    "duration": 3,
    "start_time": "2025-01-15T08:11:18.416Z"
   },
   {
    "duration": 31,
    "start_time": "2025-01-15T08:11:19.782Z"
   },
   {
    "duration": 12,
    "start_time": "2025-01-15T08:11:21.292Z"
   },
   {
    "duration": 13,
    "start_time": "2025-01-15T08:11:23.565Z"
   },
   {
    "duration": 23,
    "start_time": "2025-01-15T08:13:01.369Z"
   },
   {
    "duration": 19,
    "start_time": "2025-01-15T08:13:09.297Z"
   },
   {
    "duration": 23,
    "start_time": "2025-01-15T08:16:22.002Z"
   },
   {
    "duration": 13,
    "start_time": "2025-01-15T08:17:32.949Z"
   },
   {
    "duration": 14,
    "start_time": "2025-01-15T08:17:37.214Z"
   },
   {
    "duration": 13,
    "start_time": "2025-01-15T08:17:39.600Z"
   },
   {
    "duration": 3,
    "start_time": "2025-01-15T08:17:43.885Z"
   },
   {
    "duration": 112,
    "start_time": "2025-01-15T08:17:44.594Z"
   },
   {
    "duration": 6,
    "start_time": "2025-01-15T08:17:45.434Z"
   },
   {
    "duration": 24,
    "start_time": "2025-01-15T08:17:47.080Z"
   },
   {
    "duration": 43,
    "start_time": "2025-01-15T08:17:48.945Z"
   },
   {
    "duration": 3,
    "start_time": "2025-01-15T08:17:50.266Z"
   },
   {
    "duration": 4,
    "start_time": "2025-01-15T08:17:51.303Z"
   },
   {
    "duration": 20,
    "start_time": "2025-01-15T08:17:52.440Z"
   },
   {
    "duration": 26,
    "start_time": "2025-01-15T08:17:53.685Z"
   },
   {
    "duration": 36,
    "start_time": "2025-01-15T08:17:54.727Z"
   },
   {
    "duration": 41,
    "start_time": "2025-01-15T08:17:56.234Z"
   },
   {
    "duration": 55,
    "start_time": "2025-01-15T08:17:57.486Z"
   },
   {
    "duration": 50,
    "start_time": "2025-01-15T08:17:59.025Z"
   },
   {
    "duration": 37,
    "start_time": "2025-01-15T08:18:00.730Z"
   },
   {
    "duration": 5,
    "start_time": "2025-01-15T08:18:02.001Z"
   },
   {
    "duration": 3,
    "start_time": "2025-01-15T08:18:03.194Z"
   },
   {
    "duration": 30,
    "start_time": "2025-01-15T08:18:05.454Z"
   },
   {
    "duration": 11,
    "start_time": "2025-01-15T08:18:07.047Z"
   },
   {
    "duration": 15,
    "start_time": "2025-01-15T08:18:09.198Z"
   },
   {
    "duration": 18,
    "start_time": "2025-01-15T08:18:11.581Z"
   },
   {
    "duration": 15,
    "start_time": "2025-01-15T08:18:22.042Z"
   },
   {
    "duration": 13,
    "start_time": "2025-01-15T08:19:05.103Z"
   },
   {
    "duration": 14,
    "start_time": "2025-01-15T08:19:06.425Z"
   },
   {
    "duration": 4,
    "start_time": "2025-01-15T08:19:31.261Z"
   },
   {
    "duration": 13,
    "start_time": "2025-01-15T08:19:36.957Z"
   },
   {
    "duration": 4,
    "start_time": "2025-01-15T08:20:51.339Z"
   },
   {
    "duration": 6,
    "start_time": "2025-01-15T08:20:54.847Z"
   },
   {
    "duration": 13,
    "start_time": "2025-01-15T08:22:00.618Z"
   },
   {
    "duration": 13,
    "start_time": "2025-01-15T08:23:09.249Z"
   },
   {
    "duration": 13,
    "start_time": "2025-01-15T08:23:19.881Z"
   },
   {
    "duration": 3,
    "start_time": "2025-01-15T08:23:24.343Z"
   },
   {
    "duration": 111,
    "start_time": "2025-01-15T08:23:25.166Z"
   },
   {
    "duration": 6,
    "start_time": "2025-01-15T08:23:26.283Z"
   },
   {
    "duration": 25,
    "start_time": "2025-01-15T08:23:27.721Z"
   },
   {
    "duration": 43,
    "start_time": "2025-01-15T08:23:29.862Z"
   },
   {
    "duration": 3,
    "start_time": "2025-01-15T08:23:31.439Z"
   },
   {
    "duration": 3,
    "start_time": "2025-01-15T08:23:32.557Z"
   },
   {
    "duration": 19,
    "start_time": "2025-01-15T08:23:33.699Z"
   },
   {
    "duration": 25,
    "start_time": "2025-01-15T08:23:34.928Z"
   },
   {
    "duration": 41,
    "start_time": "2025-01-15T08:23:35.671Z"
   },
   {
    "duration": 39,
    "start_time": "2025-01-15T08:23:37.454Z"
   },
   {
    "duration": 45,
    "start_time": "2025-01-15T08:23:38.746Z"
   },
   {
    "duration": 50,
    "start_time": "2025-01-15T08:23:40.476Z"
   },
   {
    "duration": 37,
    "start_time": "2025-01-15T08:23:42.372Z"
   },
   {
    "duration": 5,
    "start_time": "2025-01-15T08:23:43.517Z"
   },
   {
    "duration": 3,
    "start_time": "2025-01-15T08:23:45.204Z"
   },
   {
    "duration": 29,
    "start_time": "2025-01-15T08:23:46.457Z"
   },
   {
    "duration": 14,
    "start_time": "2025-01-15T08:23:47.726Z"
   },
   {
    "duration": 17,
    "start_time": "2025-01-15T08:23:50.074Z"
   },
   {
    "duration": 13,
    "start_time": "2025-01-15T08:23:52.106Z"
   },
   {
    "duration": 6,
    "start_time": "2025-01-15T08:24:29.276Z"
   },
   {
    "duration": 14,
    "start_time": "2025-01-15T08:35:15.446Z"
   },
   {
    "duration": 10,
    "start_time": "2025-01-15T08:38:27.991Z"
   },
   {
    "duration": 4,
    "start_time": "2025-01-15T08:40:56.437Z"
   },
   {
    "duration": 4,
    "start_time": "2025-01-15T08:42:28.072Z"
   },
   {
    "duration": 16,
    "start_time": "2025-01-15T08:43:01.896Z"
   },
   {
    "duration": 13,
    "start_time": "2025-01-15T08:43:03.408Z"
   },
   {
    "duration": 14,
    "start_time": "2025-01-15T08:43:04.238Z"
   },
   {
    "duration": 5,
    "start_time": "2025-01-15T08:43:06.093Z"
   },
   {
    "duration": 11,
    "start_time": "2025-01-15T08:47:01.457Z"
   },
   {
    "duration": 10,
    "start_time": "2025-01-15T08:47:25.040Z"
   },
   {
    "duration": 27,
    "start_time": "2025-01-15T08:48:00.493Z"
   },
   {
    "duration": 5,
    "start_time": "2025-01-15T08:48:45.706Z"
   },
   {
    "duration": 29,
    "start_time": "2025-01-15T08:48:48.171Z"
   },
   {
    "duration": 8,
    "start_time": "2025-01-15T08:52:08.644Z"
   },
   {
    "duration": 7,
    "start_time": "2025-01-15T08:56:10.373Z"
   },
   {
    "duration": 43,
    "start_time": "2025-01-15T08:56:19.101Z"
   },
   {
    "duration": 2,
    "start_time": "2025-01-15T08:56:24.300Z"
   },
   {
    "duration": 118,
    "start_time": "2025-01-15T08:56:25.090Z"
   },
   {
    "duration": 7,
    "start_time": "2025-01-15T08:56:26.493Z"
   },
   {
    "duration": 23,
    "start_time": "2025-01-15T08:56:27.769Z"
   },
   {
    "duration": 46,
    "start_time": "2025-01-15T08:56:30.151Z"
   },
   {
    "duration": 3,
    "start_time": "2025-01-15T08:56:32.131Z"
   },
   {
    "duration": 3,
    "start_time": "2025-01-15T08:56:33.306Z"
   },
   {
    "duration": 18,
    "start_time": "2025-01-15T08:56:34.776Z"
   },
   {
    "duration": 24,
    "start_time": "2025-01-15T08:56:36.254Z"
   },
   {
    "duration": 38,
    "start_time": "2025-01-15T08:56:37.092Z"
   },
   {
    "duration": 40,
    "start_time": "2025-01-15T08:56:38.791Z"
   },
   {
    "duration": 42,
    "start_time": "2025-01-15T08:56:40.162Z"
   },
   {
    "duration": 49,
    "start_time": "2025-01-15T08:56:41.905Z"
   },
   {
    "duration": 36,
    "start_time": "2025-01-15T08:56:43.813Z"
   },
   {
    "duration": 5,
    "start_time": "2025-01-15T08:56:44.863Z"
   },
   {
    "duration": 3,
    "start_time": "2025-01-15T08:56:46.481Z"
   },
   {
    "duration": 32,
    "start_time": "2025-01-15T08:56:47.925Z"
   },
   {
    "duration": 10,
    "start_time": "2025-01-15T08:56:48.886Z"
   },
   {
    "duration": 9,
    "start_time": "2025-01-15T08:56:50.724Z"
   },
   {
    "duration": 25,
    "start_time": "2025-01-15T08:56:52.249Z"
   },
   {
    "duration": 6,
    "start_time": "2025-01-15T08:56:53.779Z"
   },
   {
    "duration": 6,
    "start_time": "2025-01-15T09:01:27.714Z"
   },
   {
    "duration": 7,
    "start_time": "2025-01-15T09:01:46.953Z"
   },
   {
    "duration": 29,
    "start_time": "2025-01-15T09:01:49.517Z"
   },
   {
    "duration": 3,
    "start_time": "2025-01-15T09:01:53.520Z"
   },
   {
    "duration": 109,
    "start_time": "2025-01-15T09:01:54.396Z"
   },
   {
    "duration": 7,
    "start_time": "2025-01-15T09:01:55.591Z"
   },
   {
    "duration": 22,
    "start_time": "2025-01-15T09:01:57.070Z"
   },
   {
    "duration": 47,
    "start_time": "2025-01-15T09:01:59.412Z"
   },
   {
    "duration": 3,
    "start_time": "2025-01-15T09:02:00.939Z"
   },
   {
    "duration": 3,
    "start_time": "2025-01-15T09:02:02.337Z"
   },
   {
    "duration": 18,
    "start_time": "2025-01-15T09:02:03.394Z"
   },
   {
    "duration": 25,
    "start_time": "2025-01-15T09:02:04.553Z"
   },
   {
    "duration": 35,
    "start_time": "2025-01-15T09:02:06.207Z"
   },
   {
    "duration": 41,
    "start_time": "2025-01-15T09:02:07.594Z"
   },
   {
    "duration": 43,
    "start_time": "2025-01-15T09:02:08.618Z"
   },
   {
    "duration": 48,
    "start_time": "2025-01-15T09:02:10.331Z"
   },
   {
    "duration": 39,
    "start_time": "2025-01-15T09:02:12.187Z"
   },
   {
    "duration": 5,
    "start_time": "2025-01-15T09:02:13.474Z"
   },
   {
    "duration": 3,
    "start_time": "2025-01-15T09:02:14.897Z"
   },
   {
    "duration": 30,
    "start_time": "2025-01-15T09:02:16.080Z"
   },
   {
    "duration": 10,
    "start_time": "2025-01-15T09:02:16.921Z"
   },
   {
    "duration": 9,
    "start_time": "2025-01-15T09:02:19.056Z"
   },
   {
    "duration": 25,
    "start_time": "2025-01-15T09:02:19.933Z"
   },
   {
    "duration": 7,
    "start_time": "2025-01-15T09:02:21.558Z"
   },
   {
    "duration": 6,
    "start_time": "2025-01-15T09:02:50.996Z"
   },
   {
    "duration": 7,
    "start_time": "2025-01-15T09:04:01.886Z"
   },
   {
    "duration": 13,
    "start_time": "2025-01-15T09:12:57.044Z"
   },
   {
    "duration": 17,
    "start_time": "2025-01-15T09:13:38.648Z"
   },
   {
    "duration": 12,
    "start_time": "2025-01-15T09:14:31.650Z"
   },
   {
    "duration": 33,
    "start_time": "2025-01-15T09:14:33.472Z"
   },
   {
    "duration": 2,
    "start_time": "2025-01-15T09:17:56.385Z"
   },
   {
    "duration": 2,
    "start_time": "2025-01-15T09:17:57.786Z"
   },
   {
    "duration": 10,
    "start_time": "2025-01-15T09:17:59.384Z"
   },
   {
    "duration": 34,
    "start_time": "2025-01-15T09:18:42.403Z"
   },
   {
    "duration": 5,
    "start_time": "2025-01-15T09:23:04.504Z"
   },
   {
    "duration": 3,
    "start_time": "2025-01-15T09:23:42.579Z"
   },
   {
    "duration": 3,
    "start_time": "2025-01-15T09:23:54.773Z"
   },
   {
    "duration": 17,
    "start_time": "2025-01-15T09:24:12.290Z"
   },
   {
    "duration": 3,
    "start_time": "2025-01-15T09:24:20.394Z"
   },
   {
    "duration": 20,
    "start_time": "2025-01-15T09:25:05.807Z"
   },
   {
    "duration": 17,
    "start_time": "2025-01-15T09:26:57.692Z"
   },
   {
    "duration": 23,
    "start_time": "2025-01-15T09:27:05.749Z"
   },
   {
    "duration": 8,
    "start_time": "2025-01-15T09:29:55.214Z"
   },
   {
    "duration": 21,
    "start_time": "2025-01-15T09:30:07.894Z"
   },
   {
    "duration": 4,
    "start_time": "2025-01-15T09:32:06.120Z"
   },
   {
    "duration": 18,
    "start_time": "2025-01-15T09:32:41.585Z"
   },
   {
    "duration": 13,
    "start_time": "2025-01-15T09:37:42.683Z"
   },
   {
    "duration": 4,
    "start_time": "2025-01-15T09:38:22.340Z"
   },
   {
    "duration": 22,
    "start_time": "2025-01-15T09:39:57.568Z"
   },
   {
    "duration": 22,
    "start_time": "2025-01-15T09:40:41.817Z"
   },
   {
    "duration": 211,
    "start_time": "2025-01-15T09:40:59.906Z"
   },
   {
    "duration": 7,
    "start_time": "2025-01-15T09:43:12.302Z"
   },
   {
    "duration": 6,
    "start_time": "2025-01-15T09:52:03.681Z"
   },
   {
    "duration": 39,
    "start_time": "2025-01-15T09:53:03.373Z"
   },
   {
    "duration": 38,
    "start_time": "2025-01-15T09:53:08.360Z"
   },
   {
    "duration": 18,
    "start_time": "2025-01-15T09:53:31.232Z"
   },
   {
    "duration": 20,
    "start_time": "2025-01-15T09:53:35.310Z"
   },
   {
    "duration": 6,
    "start_time": "2025-01-15T09:53:42.231Z"
   },
   {
    "duration": 7,
    "start_time": "2025-01-15T09:53:56.017Z"
   },
   {
    "duration": 7,
    "start_time": "2025-01-15T09:54:53.382Z"
   },
   {
    "duration": 17,
    "start_time": "2025-01-15T09:58:42.724Z"
   },
   {
    "duration": 18,
    "start_time": "2025-01-15T09:58:44.339Z"
   },
   {
    "duration": 4,
    "start_time": "2025-01-15T09:58:46.185Z"
   },
   {
    "duration": 5,
    "start_time": "2025-01-15T09:59:09.556Z"
   },
   {
    "duration": 18,
    "start_time": "2025-01-15T09:59:58.749Z"
   },
   {
    "duration": 3,
    "start_time": "2025-01-15T10:02:56.381Z"
   },
   {
    "duration": 8,
    "start_time": "2025-01-15T10:03:18.476Z"
   },
   {
    "duration": 12,
    "start_time": "2025-01-15T10:03:22.106Z"
   },
   {
    "duration": 12,
    "start_time": "2025-01-15T10:04:47.596Z"
   },
   {
    "duration": 6,
    "start_time": "2025-01-15T10:05:25.827Z"
   },
   {
    "duration": 157,
    "start_time": "2025-01-15T20:46:11.491Z"
   },
   {
    "duration": 282,
    "start_time": "2025-01-15T20:46:17.807Z"
   },
   {
    "duration": 140,
    "start_time": "2025-01-15T20:46:18.785Z"
   },
   {
    "duration": 8,
    "start_time": "2025-01-15T20:46:19.676Z"
   },
   {
    "duration": 24,
    "start_time": "2025-01-15T20:46:21.147Z"
   },
   {
    "duration": 48,
    "start_time": "2025-01-15T20:46:23.341Z"
   },
   {
    "duration": 3,
    "start_time": "2025-01-15T20:46:25.183Z"
   },
   {
    "duration": 3,
    "start_time": "2025-01-15T20:46:26.665Z"
   },
   {
    "duration": 17,
    "start_time": "2025-01-15T20:46:27.896Z"
   },
   {
    "duration": 25,
    "start_time": "2025-01-15T20:46:29.281Z"
   },
   {
    "duration": 36,
    "start_time": "2025-01-15T20:46:30.007Z"
   },
   {
    "duration": 71,
    "start_time": "2025-01-15T20:46:31.635Z"
   },
   {
    "duration": 42,
    "start_time": "2025-01-15T20:46:32.408Z"
   },
   {
    "duration": 49,
    "start_time": "2025-01-15T20:46:34.335Z"
   },
   {
    "duration": 38,
    "start_time": "2025-01-15T20:46:36.768Z"
   },
   {
    "duration": 5,
    "start_time": "2025-01-15T20:46:38.491Z"
   },
   {
    "duration": 4,
    "start_time": "2025-01-15T20:46:39.996Z"
   },
   {
    "duration": 34,
    "start_time": "2025-01-15T20:46:41.259Z"
   },
   {
    "duration": 10,
    "start_time": "2025-01-15T20:46:42.245Z"
   },
   {
    "duration": 20,
    "start_time": "2025-01-15T20:46:44.035Z"
   },
   {
    "duration": 8,
    "start_time": "2025-01-15T20:46:45.529Z"
   },
   {
    "duration": 12,
    "start_time": "2025-01-15T20:46:46.785Z"
   },
   {
    "duration": 35,
    "start_time": "2025-01-15T20:46:48.270Z"
   },
   {
    "duration": 7,
    "start_time": "2025-01-15T20:49:38.037Z"
   },
   {
    "duration": 388,
    "start_time": "2025-01-15T20:53:19.431Z"
   },
   {
    "duration": 15,
    "start_time": "2025-01-15T20:57:24.379Z"
   },
   {
    "duration": 30,
    "start_time": "2025-01-15T20:59:14.186Z"
   },
   {
    "duration": 15,
    "start_time": "2025-01-15T21:01:08.089Z"
   },
   {
    "duration": 18,
    "start_time": "2025-01-15T21:04:02.859Z"
   },
   {
    "duration": 16,
    "start_time": "2025-01-15T21:04:15.873Z"
   },
   {
    "duration": 2,
    "start_time": "2025-01-15T21:04:20.989Z"
   },
   {
    "duration": 116,
    "start_time": "2025-01-15T21:04:21.482Z"
   },
   {
    "duration": 7,
    "start_time": "2025-01-15T21:04:22.299Z"
   },
   {
    "duration": 24,
    "start_time": "2025-01-15T21:04:23.697Z"
   },
   {
    "duration": 46,
    "start_time": "2025-01-15T21:04:25.195Z"
   },
   {
    "duration": 3,
    "start_time": "2025-01-15T21:04:26.293Z"
   },
   {
    "duration": 3,
    "start_time": "2025-01-15T21:04:27.451Z"
   },
   {
    "duration": 19,
    "start_time": "2025-01-15T21:04:28.181Z"
   },
   {
    "duration": 23,
    "start_time": "2025-01-15T21:04:29.504Z"
   },
   {
    "duration": 39,
    "start_time": "2025-01-15T21:04:30.545Z"
   },
   {
    "duration": 37,
    "start_time": "2025-01-15T21:04:31.800Z"
   },
   {
    "duration": 42,
    "start_time": "2025-01-15T21:04:32.483Z"
   },
   {
    "duration": 47,
    "start_time": "2025-01-15T21:04:34.200Z"
   },
   {
    "duration": 35,
    "start_time": "2025-01-15T21:04:36.186Z"
   },
   {
    "duration": 7,
    "start_time": "2025-01-15T21:04:37.055Z"
   },
   {
    "duration": 3,
    "start_time": "2025-01-15T21:04:38.209Z"
   },
   {
    "duration": 31,
    "start_time": "2025-01-15T21:04:39.408Z"
   },
   {
    "duration": 10,
    "start_time": "2025-01-15T21:04:40.064Z"
   },
   {
    "duration": 19,
    "start_time": "2025-01-15T21:04:42.037Z"
   },
   {
    "duration": 9,
    "start_time": "2025-01-15T21:04:43.202Z"
   },
   {
    "duration": 11,
    "start_time": "2025-01-15T21:04:43.840Z"
   },
   {
    "duration": 5,
    "start_time": "2025-01-15T21:04:45.428Z"
   },
   {
    "duration": 13,
    "start_time": "2025-01-15T21:04:46.600Z"
   },
   {
    "duration": 15,
    "start_time": "2025-01-15T21:05:39.679Z"
   },
   {
    "duration": 13,
    "start_time": "2025-01-15T21:07:17.744Z"
   },
   {
    "duration": 14,
    "start_time": "2025-01-15T21:07:55.624Z"
   },
   {
    "duration": 19,
    "start_time": "2025-01-15T21:10:30.825Z"
   },
   {
    "duration": 16,
    "start_time": "2025-01-15T21:10:57.388Z"
   },
   {
    "duration": 6,
    "start_time": "2025-01-15T21:11:06.373Z"
   },
   {
    "duration": 3,
    "start_time": "2025-01-15T21:11:13.073Z"
   },
   {
    "duration": 113,
    "start_time": "2025-01-15T21:11:13.804Z"
   },
   {
    "duration": 6,
    "start_time": "2025-01-15T21:11:14.629Z"
   },
   {
    "duration": 23,
    "start_time": "2025-01-15T21:11:15.909Z"
   },
   {
    "duration": 43,
    "start_time": "2025-01-15T21:11:18.349Z"
   },
   {
    "duration": 4,
    "start_time": "2025-01-15T21:11:19.695Z"
   },
   {
    "duration": 3,
    "start_time": "2025-01-15T21:11:20.454Z"
   },
   {
    "duration": 19,
    "start_time": "2025-01-15T21:11:21.573Z"
   },
   {
    "duration": 25,
    "start_time": "2025-01-15T21:11:22.809Z"
   },
   {
    "duration": 37,
    "start_time": "2025-01-15T21:11:23.530Z"
   },
   {
    "duration": 40,
    "start_time": "2025-01-15T21:11:25.336Z"
   },
   {
    "duration": 43,
    "start_time": "2025-01-15T21:11:26.519Z"
   },
   {
    "duration": 50,
    "start_time": "2025-01-15T21:11:28.187Z"
   },
   {
    "duration": 35,
    "start_time": "2025-01-15T21:11:29.430Z"
   },
   {
    "duration": 6,
    "start_time": "2025-01-15T21:11:30.658Z"
   },
   {
    "duration": 3,
    "start_time": "2025-01-15T21:11:32.267Z"
   },
   {
    "duration": 30,
    "start_time": "2025-01-15T21:11:33.674Z"
   },
   {
    "duration": 10,
    "start_time": "2025-01-15T21:11:35.093Z"
   },
   {
    "duration": 18,
    "start_time": "2025-01-15T21:11:37.490Z"
   },
   {
    "duration": 10,
    "start_time": "2025-01-15T21:11:39.265Z"
   },
   {
    "duration": 12,
    "start_time": "2025-01-15T21:11:40.261Z"
   },
   {
    "duration": 7,
    "start_time": "2025-01-15T21:11:42.055Z"
   },
   {
    "duration": 11,
    "start_time": "2025-01-15T21:11:51.986Z"
   },
   {
    "duration": 12,
    "start_time": "2025-01-15T21:12:53.102Z"
   },
   {
    "duration": 3,
    "start_time": "2025-01-15T21:14:15.563Z"
   },
   {
    "duration": 112,
    "start_time": "2025-01-15T21:14:16.287Z"
   },
   {
    "duration": 6,
    "start_time": "2025-01-15T21:14:17.650Z"
   },
   {
    "duration": 23,
    "start_time": "2025-01-15T21:14:19.554Z"
   },
   {
    "duration": 42,
    "start_time": "2025-01-15T21:14:21.596Z"
   },
   {
    "duration": 4,
    "start_time": "2025-01-15T21:14:22.594Z"
   },
   {
    "duration": 3,
    "start_time": "2025-01-15T21:14:23.762Z"
   },
   {
    "duration": 21,
    "start_time": "2025-01-15T21:14:24.652Z"
   },
   {
    "duration": 24,
    "start_time": "2025-01-15T21:14:25.996Z"
   },
   {
    "duration": 36,
    "start_time": "2025-01-15T21:14:26.504Z"
   },
   {
    "duration": 39,
    "start_time": "2025-01-15T21:14:28.165Z"
   },
   {
    "duration": 44,
    "start_time": "2025-01-15T21:14:28.827Z"
   },
   {
    "duration": 51,
    "start_time": "2025-01-15T21:14:30.533Z"
   },
   {
    "duration": 42,
    "start_time": "2025-01-15T21:14:32.196Z"
   },
   {
    "duration": 5,
    "start_time": "2025-01-15T21:14:33.170Z"
   },
   {
    "duration": 3,
    "start_time": "2025-01-15T21:14:34.673Z"
   },
   {
    "duration": 30,
    "start_time": "2025-01-15T21:14:35.705Z"
   },
   {
    "duration": 10,
    "start_time": "2025-01-15T21:14:36.879Z"
   },
   {
    "duration": 18,
    "start_time": "2025-01-15T21:14:38.789Z"
   },
   {
    "duration": 8,
    "start_time": "2025-01-15T21:14:40.284Z"
   },
   {
    "duration": 12,
    "start_time": "2025-01-15T21:14:41.057Z"
   },
   {
    "duration": 6,
    "start_time": "2025-01-15T21:14:43.258Z"
   },
   {
    "duration": 14,
    "start_time": "2025-01-15T21:14:44.984Z"
   },
   {
    "duration": 10,
    "start_time": "2025-01-15T21:16:24.486Z"
   },
   {
    "duration": 10,
    "start_time": "2025-01-15T21:16:34.350Z"
   },
   {
    "duration": 10,
    "start_time": "2025-01-15T21:16:44.417Z"
   },
   {
    "duration": 10,
    "start_time": "2025-01-15T21:16:56.707Z"
   },
   {
    "duration": 2,
    "start_time": "2025-01-15T21:16:59.738Z"
   },
   {
    "duration": 110,
    "start_time": "2025-01-15T21:17:00.333Z"
   },
   {
    "duration": 6,
    "start_time": "2025-01-15T21:17:01.363Z"
   },
   {
    "duration": 24,
    "start_time": "2025-01-15T21:17:02.452Z"
   },
   {
    "duration": 45,
    "start_time": "2025-01-15T21:17:04.370Z"
   },
   {
    "duration": 3,
    "start_time": "2025-01-15T21:17:05.683Z"
   },
   {
    "duration": 3,
    "start_time": "2025-01-15T21:17:06.900Z"
   },
   {
    "duration": 19,
    "start_time": "2025-01-15T21:17:07.911Z"
   },
   {
    "duration": 26,
    "start_time": "2025-01-15T21:17:09.243Z"
   },
   {
    "duration": 41,
    "start_time": "2025-01-15T21:17:09.853Z"
   },
   {
    "duration": 42,
    "start_time": "2025-01-15T21:17:11.001Z"
   },
   {
    "duration": 43,
    "start_time": "2025-01-15T21:17:12.287Z"
   },
   {
    "duration": 51,
    "start_time": "2025-01-15T21:17:14.073Z"
   },
   {
    "duration": 39,
    "start_time": "2025-01-15T21:17:15.724Z"
   },
   {
    "duration": 5,
    "start_time": "2025-01-15T21:17:17.150Z"
   },
   {
    "duration": 4,
    "start_time": "2025-01-15T21:17:18.944Z"
   },
   {
    "duration": 31,
    "start_time": "2025-01-15T21:17:20.200Z"
   },
   {
    "duration": 10,
    "start_time": "2025-01-15T21:17:21.006Z"
   },
   {
    "duration": 18,
    "start_time": "2025-01-15T21:17:22.767Z"
   },
   {
    "duration": 9,
    "start_time": "2025-01-15T21:17:24.605Z"
   },
   {
    "duration": 12,
    "start_time": "2025-01-15T21:17:25.495Z"
   },
   {
    "duration": 7,
    "start_time": "2025-01-15T21:17:27.189Z"
   },
   {
    "duration": 12,
    "start_time": "2025-01-15T21:17:28.955Z"
   },
   {
    "duration": 10,
    "start_time": "2025-01-15T21:18:33.689Z"
   },
   {
    "duration": 2,
    "start_time": "2025-01-15T21:18:59.585Z"
   },
   {
    "duration": 118,
    "start_time": "2025-01-15T21:19:01.587Z"
   },
   {
    "duration": 6,
    "start_time": "2025-01-15T21:19:02.042Z"
   },
   {
    "duration": 22,
    "start_time": "2025-01-15T21:19:03.897Z"
   },
   {
    "duration": 45,
    "start_time": "2025-01-15T21:19:06.257Z"
   },
   {
    "duration": 3,
    "start_time": "2025-01-15T21:19:07.642Z"
   },
   {
    "duration": 4,
    "start_time": "2025-01-15T21:19:08.449Z"
   },
   {
    "duration": 18,
    "start_time": "2025-01-15T21:19:10.055Z"
   },
   {
    "duration": 26,
    "start_time": "2025-01-15T21:19:11.188Z"
   },
   {
    "duration": 36,
    "start_time": "2025-01-15T21:19:12.331Z"
   },
   {
    "duration": 39,
    "start_time": "2025-01-15T21:19:13.812Z"
   },
   {
    "duration": 43,
    "start_time": "2025-01-15T21:19:14.850Z"
   },
   {
    "duration": 49,
    "start_time": "2025-01-15T21:19:16.630Z"
   },
   {
    "duration": 35,
    "start_time": "2025-01-15T21:19:18.129Z"
   },
   {
    "duration": 5,
    "start_time": "2025-01-15T21:19:19.379Z"
   },
   {
    "duration": 3,
    "start_time": "2025-01-15T21:19:21.027Z"
   },
   {
    "duration": 32,
    "start_time": "2025-01-15T21:19:22.490Z"
   },
   {
    "duration": 10,
    "start_time": "2025-01-15T21:19:23.304Z"
   },
   {
    "duration": 18,
    "start_time": "2025-01-15T21:19:25.685Z"
   },
   {
    "duration": 8,
    "start_time": "2025-01-15T21:19:26.906Z"
   },
   {
    "duration": 12,
    "start_time": "2025-01-15T21:19:27.760Z"
   },
   {
    "duration": 5,
    "start_time": "2025-01-15T21:19:29.169Z"
   },
   {
    "duration": 10,
    "start_time": "2025-01-15T21:19:30.778Z"
   },
   {
    "duration": 9,
    "start_time": "2025-01-15T21:19:41.575Z"
   },
   {
    "duration": 12,
    "start_time": "2025-01-15T21:19:47.372Z"
   },
   {
    "duration": 11,
    "start_time": "2025-01-15T21:20:13.215Z"
   },
   {
    "duration": 2,
    "start_time": "2025-01-15T21:20:25.254Z"
   },
   {
    "duration": 111,
    "start_time": "2025-01-15T21:20:25.872Z"
   },
   {
    "duration": 7,
    "start_time": "2025-01-15T21:20:26.496Z"
   },
   {
    "duration": 22,
    "start_time": "2025-01-15T21:20:27.777Z"
   },
   {
    "duration": 48,
    "start_time": "2025-01-15T21:20:30.203Z"
   },
   {
    "duration": 3,
    "start_time": "2025-01-15T21:20:31.832Z"
   },
   {
    "duration": 3,
    "start_time": "2025-01-15T21:20:32.531Z"
   },
   {
    "duration": 19,
    "start_time": "2025-01-15T21:20:33.502Z"
   },
   {
    "duration": 25,
    "start_time": "2025-01-15T21:20:34.935Z"
   },
   {
    "duration": 34,
    "start_time": "2025-01-15T21:20:35.666Z"
   },
   {
    "duration": 39,
    "start_time": "2025-01-15T21:20:37.091Z"
   },
   {
    "duration": 43,
    "start_time": "2025-01-15T21:20:38.052Z"
   },
   {
    "duration": 50,
    "start_time": "2025-01-15T21:20:39.612Z"
   },
   {
    "duration": 38,
    "start_time": "2025-01-15T21:20:41.009Z"
   },
   {
    "duration": 6,
    "start_time": "2025-01-15T21:20:42.063Z"
   },
   {
    "duration": 4,
    "start_time": "2025-01-15T21:20:43.079Z"
   },
   {
    "duration": 3,
    "start_time": "2025-01-15T21:20:43.563Z"
   },
   {
    "duration": 35,
    "start_time": "2025-01-15T21:20:44.881Z"
   },
   {
    "duration": 11,
    "start_time": "2025-01-15T21:20:45.978Z"
   },
   {
    "duration": 19,
    "start_time": "2025-01-15T21:20:47.731Z"
   },
   {
    "duration": 8,
    "start_time": "2025-01-15T21:20:49.007Z"
   },
   {
    "duration": 12,
    "start_time": "2025-01-15T21:20:49.975Z"
   },
   {
    "duration": 11,
    "start_time": "2025-01-15T21:20:51.989Z"
   },
   {
    "duration": 10,
    "start_time": "2025-01-15T21:20:53.334Z"
   },
   {
    "duration": 9,
    "start_time": "2025-01-15T21:26:49.940Z"
   },
   {
    "duration": 10,
    "start_time": "2025-01-15T21:26:54.288Z"
   },
   {
    "duration": 2,
    "start_time": "2025-01-15T21:26:59.210Z"
   },
   {
    "duration": 125,
    "start_time": "2025-01-15T21:26:59.702Z"
   },
   {
    "duration": 6,
    "start_time": "2025-01-15T21:27:00.468Z"
   },
   {
    "duration": 23,
    "start_time": "2025-01-15T21:27:02.036Z"
   },
   {
    "duration": 44,
    "start_time": "2025-01-15T21:27:04.976Z"
   },
   {
    "duration": 3,
    "start_time": "2025-01-15T21:27:06.250Z"
   },
   {
    "duration": 3,
    "start_time": "2025-01-15T21:27:06.925Z"
   },
   {
    "duration": 22,
    "start_time": "2025-01-15T21:27:08.218Z"
   },
   {
    "duration": 25,
    "start_time": "2025-01-15T21:27:09.252Z"
   },
   {
    "duration": 35,
    "start_time": "2025-01-15T21:27:10.017Z"
   },
   {
    "duration": 47,
    "start_time": "2025-01-15T21:27:11.384Z"
   },
   {
    "duration": 50,
    "start_time": "2025-01-15T21:27:12.459Z"
   },
   {
    "duration": 50,
    "start_time": "2025-01-15T21:27:14.223Z"
   },
   {
    "duration": 35,
    "start_time": "2025-01-15T21:27:15.767Z"
   },
   {
    "duration": 8,
    "start_time": "2025-01-15T21:27:16.744Z"
   },
   {
    "duration": 4,
    "start_time": "2025-01-15T21:27:18.379Z"
   },
   {
    "duration": 32,
    "start_time": "2025-01-15T21:27:19.312Z"
   },
   {
    "duration": 12,
    "start_time": "2025-01-15T21:27:20.632Z"
   },
   {
    "duration": 18,
    "start_time": "2025-01-15T21:27:22.286Z"
   },
   {
    "duration": 9,
    "start_time": "2025-01-15T21:27:23.689Z"
   },
   {
    "duration": 12,
    "start_time": "2025-01-15T21:27:24.297Z"
   },
   {
    "duration": 11,
    "start_time": "2025-01-15T21:27:25.940Z"
   },
   {
    "duration": 10,
    "start_time": "2025-01-15T21:27:27.683Z"
   },
   {
    "duration": 2,
    "start_time": "2025-01-15T21:29:03.076Z"
   },
   {
    "duration": 6,
    "start_time": "2025-01-15T21:29:15.302Z"
   },
   {
    "duration": 14,
    "start_time": "2025-01-15T21:30:03.680Z"
   },
   {
    "duration": 14,
    "start_time": "2025-01-15T21:30:16.395Z"
   },
   {
    "duration": 14,
    "start_time": "2025-01-15T21:32:26.265Z"
   },
   {
    "duration": 39,
    "start_time": "2025-01-15T21:34:29.693Z"
   },
   {
    "duration": 13,
    "start_time": "2025-01-15T21:35:34.050Z"
   },
   {
    "duration": 3,
    "start_time": "2025-01-15T21:35:38.290Z"
   },
   {
    "duration": 115,
    "start_time": "2025-01-15T21:35:39.143Z"
   },
   {
    "duration": 6,
    "start_time": "2025-01-15T21:35:39.972Z"
   },
   {
    "duration": 25,
    "start_time": "2025-01-15T21:35:41.615Z"
   },
   {
    "duration": 45,
    "start_time": "2025-01-15T21:35:43.684Z"
   },
   {
    "duration": 3,
    "start_time": "2025-01-15T21:35:45.063Z"
   },
   {
    "duration": 4,
    "start_time": "2025-01-15T21:35:46.421Z"
   },
   {
    "duration": 18,
    "start_time": "2025-01-15T21:35:47.482Z"
   },
   {
    "duration": 24,
    "start_time": "2025-01-15T21:35:48.768Z"
   },
   {
    "duration": 38,
    "start_time": "2025-01-15T21:35:49.341Z"
   },
   {
    "duration": 40,
    "start_time": "2025-01-15T21:35:50.780Z"
   },
   {
    "duration": 43,
    "start_time": "2025-01-15T21:35:51.905Z"
   },
   {
    "duration": 50,
    "start_time": "2025-01-15T21:35:53.576Z"
   },
   {
    "duration": 37,
    "start_time": "2025-01-15T21:35:55.428Z"
   },
   {
    "duration": 6,
    "start_time": "2025-01-15T21:35:56.704Z"
   },
   {
    "duration": 3,
    "start_time": "2025-01-15T21:35:58.044Z"
   },
   {
    "duration": 31,
    "start_time": "2025-01-15T21:35:58.805Z"
   },
   {
    "duration": 10,
    "start_time": "2025-01-15T21:36:00.012Z"
   },
   {
    "duration": 17,
    "start_time": "2025-01-15T21:36:01.825Z"
   },
   {
    "duration": 9,
    "start_time": "2025-01-15T21:36:03.673Z"
   },
   {
    "duration": 11,
    "start_time": "2025-01-15T21:36:04.264Z"
   },
   {
    "duration": 11,
    "start_time": "2025-01-15T21:36:06.079Z"
   },
   {
    "duration": 10,
    "start_time": "2025-01-15T21:36:07.465Z"
   },
   {
    "duration": 7,
    "start_time": "2025-01-15T21:36:09.294Z"
   },
   {
    "duration": 9,
    "start_time": "2025-01-16T01:09:45.742Z"
   },
   {
    "duration": 4,
    "start_time": "2025-01-16T01:09:47.062Z"
   },
   {
    "duration": 276,
    "start_time": "2025-01-16T01:09:48.936Z"
   },
   {
    "duration": 403,
    "start_time": "2025-01-16T01:09:57.402Z"
   },
   {
    "duration": 203,
    "start_time": "2025-01-16T01:09:58.206Z"
   },
   {
    "duration": 9,
    "start_time": "2025-01-16T01:09:58.929Z"
   },
   {
    "duration": 31,
    "start_time": "2025-01-16T01:09:59.922Z"
   },
   {
    "duration": 63,
    "start_time": "2025-01-16T01:10:02.739Z"
   },
   {
    "duration": 3,
    "start_time": "2025-01-16T01:10:04.617Z"
   },
   {
    "duration": 3,
    "start_time": "2025-01-16T01:10:05.409Z"
   },
   {
    "duration": 26,
    "start_time": "2025-01-16T01:10:07.060Z"
   },
   {
    "duration": 34,
    "start_time": "2025-01-16T01:10:08.574Z"
   },
   {
    "duration": 50,
    "start_time": "2025-01-16T01:10:09.929Z"
   },
   {
    "duration": 60,
    "start_time": "2025-01-16T01:10:11.489Z"
   },
   {
    "duration": 64,
    "start_time": "2025-01-16T01:10:12.603Z"
   },
   {
    "duration": 72,
    "start_time": "2025-01-16T01:10:15.127Z"
   },
   {
    "duration": 57,
    "start_time": "2025-01-16T01:10:17.707Z"
   },
   {
    "duration": 12,
    "start_time": "2025-01-16T01:10:19.388Z"
   },
   {
    "duration": 4,
    "start_time": "2025-01-16T01:10:23.217Z"
   },
   {
    "duration": 45,
    "start_time": "2025-01-16T01:10:26.396Z"
   },
   {
    "duration": 19,
    "start_time": "2025-01-16T01:15:17.473Z"
   },
   {
    "duration": 17,
    "start_time": "2025-01-16T01:18:21.062Z"
   },
   {
    "duration": 18,
    "start_time": "2025-01-16T01:18:24.683Z"
   },
   {
    "duration": 18,
    "start_time": "2025-01-16T01:18:26.961Z"
   },
   {
    "duration": 3,
    "start_time": "2025-01-16T01:18:50.826Z"
   },
   {
    "duration": 115,
    "start_time": "2025-01-16T01:18:51.527Z"
   },
   {
    "duration": 6,
    "start_time": "2025-01-16T01:18:52.773Z"
   },
   {
    "duration": 24,
    "start_time": "2025-01-16T01:18:53.956Z"
   },
   {
    "duration": 46,
    "start_time": "2025-01-16T01:18:56.463Z"
   },
   {
    "duration": 3,
    "start_time": "2025-01-16T01:18:57.827Z"
   },
   {
    "duration": 3,
    "start_time": "2025-01-16T01:18:58.453Z"
   },
   {
    "duration": 19,
    "start_time": "2025-01-16T01:18:59.526Z"
   },
   {
    "duration": 24,
    "start_time": "2025-01-16T01:19:01.023Z"
   },
   {
    "duration": 36,
    "start_time": "2025-01-16T01:19:01.866Z"
   },
   {
    "duration": 38,
    "start_time": "2025-01-16T01:19:03.415Z"
   },
   {
    "duration": 42,
    "start_time": "2025-01-16T01:19:04.674Z"
   },
   {
    "duration": 51,
    "start_time": "2025-01-16T01:19:06.017Z"
   },
   {
    "duration": 35,
    "start_time": "2025-01-16T01:19:07.956Z"
   },
   {
    "duration": 5,
    "start_time": "2025-01-16T01:19:09.225Z"
   },
   {
    "duration": 18,
    "start_time": "2025-01-16T01:19:10.353Z"
   },
   {
    "duration": 17,
    "start_time": "2025-01-16T01:19:12.545Z"
   },
   {
    "duration": 9,
    "start_time": "2025-01-16T01:19:22.823Z"
   },
   {
    "duration": 20,
    "start_time": "2025-01-16T01:19:28.827Z"
   },
   {
    "duration": 8,
    "start_time": "2025-01-16T01:19:31.244Z"
   },
   {
    "duration": 13,
    "start_time": "2025-01-16T01:19:32.143Z"
   },
   {
    "duration": 11,
    "start_time": "2025-01-16T01:19:34.030Z"
   },
   {
    "duration": 10,
    "start_time": "2025-01-16T01:19:37.110Z"
   },
   {
    "duration": 6,
    "start_time": "2025-01-16T01:19:39.900Z"
   },
   {
    "duration": 4,
    "start_time": "2025-01-16T01:22:25.632Z"
   },
   {
    "duration": 28,
    "start_time": "2025-01-16T01:22:26.984Z"
   },
   {
    "duration": 6,
    "start_time": "2025-01-16T01:28:58.291Z"
   },
   {
    "duration": 37,
    "start_time": "2025-01-16T01:29:03.700Z"
   },
   {
    "duration": 2,
    "start_time": "2025-01-16T01:29:06.659Z"
   },
   {
    "duration": 113,
    "start_time": "2025-01-16T01:29:07.156Z"
   },
   {
    "duration": 7,
    "start_time": "2025-01-16T01:29:07.834Z"
   },
   {
    "duration": 24,
    "start_time": "2025-01-16T01:29:09.183Z"
   },
   {
    "duration": 47,
    "start_time": "2025-01-16T01:29:11.656Z"
   },
   {
    "duration": 3,
    "start_time": "2025-01-16T01:29:13.018Z"
   },
   {
    "duration": 3,
    "start_time": "2025-01-16T01:29:13.852Z"
   },
   {
    "duration": 21,
    "start_time": "2025-01-16T01:29:14.855Z"
   },
   {
    "duration": 31,
    "start_time": "2025-01-16T01:29:16.236Z"
   },
   {
    "duration": 37,
    "start_time": "2025-01-16T01:29:17.147Z"
   },
   {
    "duration": 42,
    "start_time": "2025-01-16T01:29:18.419Z"
   },
   {
    "duration": 46,
    "start_time": "2025-01-16T01:29:19.480Z"
   },
   {
    "duration": 51,
    "start_time": "2025-01-16T01:29:21.043Z"
   },
   {
    "duration": 38,
    "start_time": "2025-01-16T01:29:22.753Z"
   },
   {
    "duration": 5,
    "start_time": "2025-01-16T01:29:24.198Z"
   },
   {
    "duration": 4,
    "start_time": "2025-01-16T01:29:27.835Z"
   },
   {
    "duration": 31,
    "start_time": "2025-01-16T01:29:29.588Z"
   },
   {
    "duration": 4,
    "start_time": "2025-01-16T01:30:52.903Z"
   },
   {
    "duration": 18,
    "start_time": "2025-01-16T01:30:54.446Z"
   },
   {
    "duration": 17,
    "start_time": "2025-01-16T01:31:09.600Z"
   },
   {
    "duration": 10,
    "start_time": "2025-01-16T01:31:11.135Z"
   },
   {
    "duration": 2,
    "start_time": "2025-01-16T01:31:18.104Z"
   },
   {
    "duration": 112,
    "start_time": "2025-01-16T01:31:18.610Z"
   },
   {
    "duration": 6,
    "start_time": "2025-01-16T01:31:19.398Z"
   },
   {
    "duration": 23,
    "start_time": "2025-01-16T01:31:20.553Z"
   },
   {
    "duration": 46,
    "start_time": "2025-01-16T01:31:22.654Z"
   },
   {
    "duration": 3,
    "start_time": "2025-01-16T01:31:23.801Z"
   },
   {
    "duration": 4,
    "start_time": "2025-01-16T01:31:24.371Z"
   },
   {
    "duration": 19,
    "start_time": "2025-01-16T01:31:25.633Z"
   },
   {
    "duration": 24,
    "start_time": "2025-01-16T01:31:26.846Z"
   },
   {
    "duration": 36,
    "start_time": "2025-01-16T01:31:27.889Z"
   },
   {
    "duration": 38,
    "start_time": "2025-01-16T01:31:28.969Z"
   },
   {
    "duration": 48,
    "start_time": "2025-01-16T01:31:30.124Z"
   },
   {
    "duration": 47,
    "start_time": "2025-01-16T01:31:31.373Z"
   },
   {
    "duration": 35,
    "start_time": "2025-01-16T01:31:32.513Z"
   },
   {
    "duration": 5,
    "start_time": "2025-01-16T01:31:33.625Z"
   },
   {
    "duration": 3,
    "start_time": "2025-01-16T01:31:34.990Z"
   },
   {
    "duration": 18,
    "start_time": "2025-01-16T01:31:36.250Z"
   },
   {
    "duration": 10,
    "start_time": "2025-01-16T01:31:37.922Z"
   },
   {
    "duration": 10,
    "start_time": "2025-01-16T01:32:31.951Z"
   },
   {
    "duration": 10,
    "start_time": "2025-01-16T01:32:57.731Z"
   },
   {
    "duration": 3,
    "start_time": "2025-01-16T01:34:33.005Z"
   },
   {
    "duration": 18,
    "start_time": "2025-01-16T01:34:34.828Z"
   },
   {
    "duration": 3,
    "start_time": "2025-01-16T01:34:41.149Z"
   },
   {
    "duration": 113,
    "start_time": "2025-01-16T01:34:41.817Z"
   },
   {
    "duration": 7,
    "start_time": "2025-01-16T01:34:42.414Z"
   },
   {
    "duration": 24,
    "start_time": "2025-01-16T01:34:43.621Z"
   },
   {
    "duration": 48,
    "start_time": "2025-01-16T01:34:45.901Z"
   },
   {
    "duration": 3,
    "start_time": "2025-01-16T01:34:47.527Z"
   },
   {
    "duration": 3,
    "start_time": "2025-01-16T01:34:48.154Z"
   },
   {
    "duration": 20,
    "start_time": "2025-01-16T01:34:49.476Z"
   },
   {
    "duration": 26,
    "start_time": "2025-01-16T01:34:50.556Z"
   },
   {
    "duration": 40,
    "start_time": "2025-01-16T01:34:51.634Z"
   },
   {
    "duration": 53,
    "start_time": "2025-01-16T01:34:52.931Z"
   },
   {
    "duration": 44,
    "start_time": "2025-01-16T01:34:54.300Z"
   },
   {
    "duration": 53,
    "start_time": "2025-01-16T01:34:55.448Z"
   },
   {
    "duration": 42,
    "start_time": "2025-01-16T01:34:57.652Z"
   },
   {
    "duration": 5,
    "start_time": "2025-01-16T01:34:58.495Z"
   },
   {
    "duration": 3,
    "start_time": "2025-01-16T01:35:00.335Z"
   },
   {
    "duration": 17,
    "start_time": "2025-01-16T01:35:03.204Z"
   },
   {
    "duration": 10,
    "start_time": "2025-01-16T01:35:06.383Z"
   },
   {
    "duration": 10,
    "start_time": "2025-01-16T01:35:30.538Z"
   },
   {
    "duration": 3,
    "start_time": "2025-01-16T01:42:07.137Z"
   },
   {
    "duration": 14,
    "start_time": "2025-01-16T01:42:10.075Z"
   },
   {
    "duration": 10,
    "start_time": "2025-01-16T01:53:09.199Z"
   },
   {
    "duration": 9,
    "start_time": "2025-01-16T01:53:32.204Z"
   },
   {
    "duration": 7,
    "start_time": "2025-01-16T01:53:49.301Z"
   },
   {
    "duration": 2,
    "start_time": "2025-01-16T01:53:56.695Z"
   },
   {
    "duration": 112,
    "start_time": "2025-01-16T01:53:57.723Z"
   },
   {
    "duration": 6,
    "start_time": "2025-01-16T01:53:58.489Z"
   },
   {
    "duration": 24,
    "start_time": "2025-01-16T01:53:59.664Z"
   },
   {
    "duration": 46,
    "start_time": "2025-01-16T01:54:01.672Z"
   },
   {
    "duration": 3,
    "start_time": "2025-01-16T01:54:02.845Z"
   },
   {
    "duration": 3,
    "start_time": "2025-01-16T01:54:03.805Z"
   },
   {
    "duration": 21,
    "start_time": "2025-01-16T01:54:05.028Z"
   },
   {
    "duration": 27,
    "start_time": "2025-01-16T01:54:06.039Z"
   },
   {
    "duration": 36,
    "start_time": "2025-01-16T01:54:06.700Z"
   },
   {
    "duration": 39,
    "start_time": "2025-01-16T01:54:08.360Z"
   },
   {
    "duration": 43,
    "start_time": "2025-01-16T01:54:09.535Z"
   },
   {
    "duration": 53,
    "start_time": "2025-01-16T01:54:11.055Z"
   },
   {
    "duration": 39,
    "start_time": "2025-01-16T01:54:12.558Z"
   },
   {
    "duration": 5,
    "start_time": "2025-01-16T01:54:13.778Z"
   },
   {
    "duration": 4,
    "start_time": "2025-01-16T01:54:15.114Z"
   },
   {
    "duration": 16,
    "start_time": "2025-01-16T01:54:16.956Z"
   },
   {
    "duration": 10,
    "start_time": "2025-01-16T01:54:18.693Z"
   },
   {
    "duration": 18,
    "start_time": "2025-01-16T01:54:21.602Z"
   },
   {
    "duration": 8,
    "start_time": "2025-01-16T01:54:23.235Z"
   },
   {
    "duration": 14,
    "start_time": "2025-01-16T01:54:24.040Z"
   },
   {
    "duration": 7,
    "start_time": "2025-01-16T01:54:26.322Z"
   },
   {
    "duration": 10,
    "start_time": "2025-01-16T01:55:57.010Z"
   },
   {
    "duration": 11,
    "start_time": "2025-01-16T01:56:48.415Z"
   },
   {
    "duration": 9,
    "start_time": "2025-01-16T01:56:49.983Z"
   },
   {
    "duration": 10,
    "start_time": "2025-01-16T02:00:40.312Z"
   },
   {
    "duration": 9,
    "start_time": "2025-01-16T02:00:44.259Z"
   },
   {
    "duration": 4,
    "start_time": "2025-01-16T02:17:05.369Z"
   },
   {
    "duration": 13,
    "start_time": "2025-01-16T02:17:11.081Z"
   },
   {
    "duration": 3,
    "start_time": "2025-01-16T02:17:15.102Z"
   },
   {
    "duration": 119,
    "start_time": "2025-01-16T02:17:15.652Z"
   },
   {
    "duration": 7,
    "start_time": "2025-01-16T02:17:16.434Z"
   },
   {
    "duration": 30,
    "start_time": "2025-01-16T02:17:17.847Z"
   },
   {
    "duration": 43,
    "start_time": "2025-01-16T02:17:19.945Z"
   },
   {
    "duration": 3,
    "start_time": "2025-01-16T02:17:21.261Z"
   },
   {
    "duration": 3,
    "start_time": "2025-01-16T02:17:21.911Z"
   },
   {
    "duration": 19,
    "start_time": "2025-01-16T02:17:22.927Z"
   },
   {
    "duration": 36,
    "start_time": "2025-01-16T02:17:23.975Z"
   },
   {
    "duration": 40,
    "start_time": "2025-01-16T02:17:25.234Z"
   },
   {
    "duration": 50,
    "start_time": "2025-01-16T02:17:26.300Z"
   },
   {
    "duration": 61,
    "start_time": "2025-01-16T02:17:28.081Z"
   },
   {
    "duration": 39,
    "start_time": "2025-01-16T02:17:29.264Z"
   },
   {
    "duration": 6,
    "start_time": "2025-01-16T02:17:30.327Z"
   },
   {
    "duration": 4,
    "start_time": "2025-01-16T02:17:31.377Z"
   },
   {
    "duration": 17,
    "start_time": "2025-01-16T02:17:32.814Z"
   },
   {
    "duration": 11,
    "start_time": "2025-01-16T02:17:33.811Z"
   },
   {
    "duration": 19,
    "start_time": "2025-01-16T02:17:35.794Z"
   },
   {
    "duration": 10,
    "start_time": "2025-01-16T02:17:37.060Z"
   },
   {
    "duration": 12,
    "start_time": "2025-01-16T02:17:38.166Z"
   },
   {
    "duration": 5,
    "start_time": "2025-01-16T02:17:39.309Z"
   },
   {
    "duration": 7,
    "start_time": "2025-01-16T02:18:11.581Z"
   },
   {
    "duration": 5,
    "start_time": "2025-01-16T02:18:20.246Z"
   },
   {
    "duration": 11,
    "start_time": "2025-01-16T02:18:21.862Z"
   },
   {
    "duration": 6,
    "start_time": "2025-01-16T02:18:22.967Z"
   },
   {
    "duration": 19,
    "start_time": "2025-01-16T02:18:29.160Z"
   },
   {
    "duration": 9,
    "start_time": "2025-01-16T02:18:30.878Z"
   },
   {
    "duration": 12,
    "start_time": "2025-01-16T02:18:31.530Z"
   },
   {
    "duration": 5,
    "start_time": "2025-01-16T02:18:32.997Z"
   },
   {
    "duration": 3,
    "start_time": "2025-01-16T02:18:41.369Z"
   },
   {
    "duration": 127,
    "start_time": "2025-01-16T02:18:41.927Z"
   },
   {
    "duration": 6,
    "start_time": "2025-01-16T02:18:42.507Z"
   },
   {
    "duration": 24,
    "start_time": "2025-01-16T02:18:43.677Z"
   },
   {
    "duration": 46,
    "start_time": "2025-01-16T02:18:45.732Z"
   },
   {
    "duration": 4,
    "start_time": "2025-01-16T02:18:46.991Z"
   },
   {
    "duration": 3,
    "start_time": "2025-01-16T02:18:47.927Z"
   },
   {
    "duration": 19,
    "start_time": "2025-01-16T02:18:48.692Z"
   },
   {
    "duration": 25,
    "start_time": "2025-01-16T02:18:50.035Z"
   },
   {
    "duration": 35,
    "start_time": "2025-01-16T02:18:50.540Z"
   },
   {
    "duration": 39,
    "start_time": "2025-01-16T02:18:51.597Z"
   },
   {
    "duration": 45,
    "start_time": "2025-01-16T02:18:52.782Z"
   },
   {
    "duration": 38,
    "start_time": "2025-01-16T02:18:55.290Z"
   },
   {
    "duration": 47,
    "start_time": "2025-01-16T02:18:57.423Z"
   },
   {
    "duration": 56,
    "start_time": "2025-01-16T02:18:59.004Z"
   },
   {
    "duration": 38,
    "start_time": "2025-01-16T02:19:01.060Z"
   },
   {
    "duration": 5,
    "start_time": "2025-01-16T02:19:02.061Z"
   },
   {
    "duration": 3,
    "start_time": "2025-01-16T02:19:03.596Z"
   },
   {
    "duration": 17,
    "start_time": "2025-01-16T02:19:05.467Z"
   },
   {
    "duration": 9,
    "start_time": "2025-01-16T02:19:06.977Z"
   },
   {
    "duration": 18,
    "start_time": "2025-01-16T02:19:09.903Z"
   },
   {
    "duration": 9,
    "start_time": "2025-01-16T02:19:12.116Z"
   },
   {
    "duration": 11,
    "start_time": "2025-01-16T02:19:12.837Z"
   },
   {
    "duration": 5,
    "start_time": "2025-01-16T02:19:14.462Z"
   },
   {
    "duration": 6,
    "start_time": "2025-01-16T02:19:15.209Z"
   },
   {
    "duration": 10,
    "start_time": "2025-01-16T02:20:26.455Z"
   },
   {
    "duration": 8,
    "start_time": "2025-01-16T02:20:29.247Z"
   },
   {
    "duration": 5,
    "start_time": "2025-01-16T02:30:31.929Z"
   },
   {
    "duration": 8,
    "start_time": "2025-01-16T02:33:06.194Z"
   },
   {
    "duration": 11,
    "start_time": "2025-01-16T02:34:03.297Z"
   },
   {
    "duration": 7,
    "start_time": "2025-01-16T02:34:06.264Z"
   },
   {
    "duration": 3,
    "start_time": "2025-01-16T02:34:11.351Z"
   },
   {
    "duration": 116,
    "start_time": "2025-01-16T02:34:11.997Z"
   },
   {
    "duration": 6,
    "start_time": "2025-01-16T02:34:12.791Z"
   },
   {
    "duration": 25,
    "start_time": "2025-01-16T02:34:14.437Z"
   },
   {
    "duration": 45,
    "start_time": "2025-01-16T02:34:16.818Z"
   },
   {
    "duration": 3,
    "start_time": "2025-01-16T02:34:18.271Z"
   },
   {
    "duration": 2,
    "start_time": "2025-01-16T02:34:19.244Z"
   },
   {
    "duration": 19,
    "start_time": "2025-01-16T02:34:20.642Z"
   },
   {
    "duration": 24,
    "start_time": "2025-01-16T02:34:21.941Z"
   },
   {
    "duration": 34,
    "start_time": "2025-01-16T02:34:22.691Z"
   },
   {
    "duration": 37,
    "start_time": "2025-01-16T02:34:24.215Z"
   },
   {
    "duration": 42,
    "start_time": "2025-01-16T02:34:25.691Z"
   },
   {
    "duration": 51,
    "start_time": "2025-01-16T02:34:27.136Z"
   },
   {
    "duration": 36,
    "start_time": "2025-01-16T02:34:28.797Z"
   },
   {
    "duration": 5,
    "start_time": "2025-01-16T02:34:30.343Z"
   },
   {
    "duration": 3,
    "start_time": "2025-01-16T02:34:32.793Z"
   },
   {
    "duration": 16,
    "start_time": "2025-01-16T02:34:34.376Z"
   },
   {
    "duration": 10,
    "start_time": "2025-01-16T02:34:35.617Z"
   },
   {
    "duration": 16,
    "start_time": "2025-01-16T02:34:38.024Z"
   },
   {
    "duration": 8,
    "start_time": "2025-01-16T02:34:39.691Z"
   },
   {
    "duration": 12,
    "start_time": "2025-01-16T02:34:40.749Z"
   },
   {
    "duration": 9,
    "start_time": "2025-01-16T02:34:42.904Z"
   },
   {
    "duration": 8,
    "start_time": "2025-01-16T02:35:54.997Z"
   },
   {
    "duration": 12,
    "start_time": "2025-01-16T02:36:01.160Z"
   },
   {
    "duration": 8,
    "start_time": "2025-01-16T02:36:03.550Z"
   },
   {
    "duration": 11,
    "start_time": "2025-01-16T02:36:11.993Z"
   },
   {
    "duration": 2,
    "start_time": "2025-01-16T02:36:16.984Z"
   },
   {
    "duration": 113,
    "start_time": "2025-01-16T02:36:17.713Z"
   },
   {
    "duration": 6,
    "start_time": "2025-01-16T02:36:18.563Z"
   },
   {
    "duration": 24,
    "start_time": "2025-01-16T02:36:19.804Z"
   },
   {
    "duration": 43,
    "start_time": "2025-01-16T02:36:21.848Z"
   },
   {
    "duration": 3,
    "start_time": "2025-01-16T02:36:23.163Z"
   },
   {
    "duration": 3,
    "start_time": "2025-01-16T02:36:23.855Z"
   },
   {
    "duration": 23,
    "start_time": "2025-01-16T02:36:25.138Z"
   },
   {
    "duration": 23,
    "start_time": "2025-01-16T02:36:26.279Z"
   },
   {
    "duration": 36,
    "start_time": "2025-01-16T02:36:27.237Z"
   },
   {
    "duration": 51,
    "start_time": "2025-01-16T02:36:28.557Z"
   },
   {
    "duration": 43,
    "start_time": "2025-01-16T02:36:29.767Z"
   },
   {
    "duration": 49,
    "start_time": "2025-01-16T02:36:31.241Z"
   },
   {
    "duration": 40,
    "start_time": "2025-01-16T02:36:32.858Z"
   },
   {
    "duration": 5,
    "start_time": "2025-01-16T02:36:34.880Z"
   },
   {
    "duration": 3,
    "start_time": "2025-01-16T02:36:36.174Z"
   },
   {
    "duration": 17,
    "start_time": "2025-01-16T02:36:37.351Z"
   },
   {
    "duration": 10,
    "start_time": "2025-01-16T02:36:38.483Z"
   },
   {
    "duration": 17,
    "start_time": "2025-01-16T02:36:40.466Z"
   },
   {
    "duration": 10,
    "start_time": "2025-01-16T02:36:42.017Z"
   },
   {
    "duration": 12,
    "start_time": "2025-01-16T02:36:43.747Z"
   },
   {
    "duration": 9,
    "start_time": "2025-01-16T02:36:46.695Z"
   },
   {
    "duration": 7,
    "start_time": "2025-01-16T02:36:54.991Z"
   },
   {
    "duration": 8,
    "start_time": "2025-01-16T02:46:12.987Z"
   },
   {
    "duration": 54,
    "start_time": "2025-01-16T02:50:03.207Z"
   },
   {
    "duration": 55,
    "start_time": "2025-01-16T02:50:09.893Z"
   },
   {
    "duration": 2,
    "start_time": "2025-01-16T02:50:16.726Z"
   },
   {
    "duration": 116,
    "start_time": "2025-01-16T02:50:17.340Z"
   },
   {
    "duration": 5,
    "start_time": "2025-01-16T02:50:18.200Z"
   },
   {
    "duration": 22,
    "start_time": "2025-01-16T02:50:19.606Z"
   },
   {
    "duration": 44,
    "start_time": "2025-01-16T02:50:21.635Z"
   },
   {
    "duration": 3,
    "start_time": "2025-01-16T02:50:22.881Z"
   },
   {
    "duration": 3,
    "start_time": "2025-01-16T02:50:24.391Z"
   },
   {
    "duration": 19,
    "start_time": "2025-01-16T02:50:25.136Z"
   },
   {
    "duration": 29,
    "start_time": "2025-01-16T02:50:26.216Z"
   },
   {
    "duration": 35,
    "start_time": "2025-01-16T02:50:27.401Z"
   },
   {
    "duration": 39,
    "start_time": "2025-01-16T02:50:28.450Z"
   },
   {
    "duration": 44,
    "start_time": "2025-01-16T02:50:29.637Z"
   },
   {
    "duration": 51,
    "start_time": "2025-01-16T02:50:31.034Z"
   },
   {
    "duration": 38,
    "start_time": "2025-01-16T02:50:33.032Z"
   },
   {
    "duration": 5,
    "start_time": "2025-01-16T02:50:33.911Z"
   },
   {
    "duration": 4,
    "start_time": "2025-01-16T02:50:34.994Z"
   },
   {
    "duration": 3,
    "start_time": "2025-01-16T02:50:35.467Z"
   },
   {
    "duration": 18,
    "start_time": "2025-01-16T02:50:36.539Z"
   },
   {
    "duration": 10,
    "start_time": "2025-01-16T02:50:38.104Z"
   },
   {
    "duration": 25,
    "start_time": "2025-01-16T02:50:39.730Z"
   },
   {
    "duration": 9,
    "start_time": "2025-01-16T02:50:42.087Z"
   },
   {
    "duration": 14,
    "start_time": "2025-01-16T02:50:42.666Z"
   },
   {
    "duration": 56,
    "start_time": "2025-01-16T02:50:44.105Z"
   },
   {
    "duration": 19,
    "start_time": "2025-01-16T02:51:13.995Z"
   },
   {
    "duration": 52,
    "start_time": "2025-01-16T02:51:21.592Z"
   },
   {
    "duration": 87,
    "start_time": "2025-01-16T02:55:19.693Z"
   },
   {
    "duration": 9,
    "start_time": "2025-01-16T02:55:21.545Z"
   },
   {
    "duration": 46,
    "start_time": "2025-01-16T02:55:37.077Z"
   },
   {
    "duration": 91,
    "start_time": "2025-01-16T02:55:53.397Z"
   },
   {
    "duration": 91,
    "start_time": "2025-01-16T02:56:55.855Z"
   },
   {
    "duration": 11,
    "start_time": "2025-01-16T02:58:59.757Z"
   },
   {
    "duration": 88,
    "start_time": "2025-01-16T02:59:28.471Z"
   },
   {
    "duration": 107,
    "start_time": "2025-01-16T02:59:36.441Z"
   },
   {
    "duration": 172,
    "start_time": "2025-01-16T06:01:48.518Z"
   },
   {
    "duration": 326,
    "start_time": "2025-01-16T06:01:55.647Z"
   },
   {
    "duration": 161,
    "start_time": "2025-01-16T06:01:56.939Z"
   },
   {
    "duration": 9,
    "start_time": "2025-01-16T06:01:57.893Z"
   },
   {
    "duration": 22,
    "start_time": "2025-01-16T06:01:59.505Z"
   },
   {
    "duration": 47,
    "start_time": "2025-01-16T06:02:02.351Z"
   },
   {
    "duration": 3,
    "start_time": "2025-01-16T06:02:03.696Z"
   },
   {
    "duration": 3,
    "start_time": "2025-01-16T06:02:05.015Z"
   },
   {
    "duration": 26,
    "start_time": "2025-01-16T06:02:06.125Z"
   },
   {
    "duration": 26,
    "start_time": "2025-01-16T06:02:07.677Z"
   },
   {
    "duration": 25,
    "start_time": "2025-01-16T06:02:19.965Z"
   },
   {
    "duration": 55,
    "start_time": "2025-01-16T06:02:20.722Z"
   },
   {
    "duration": 55,
    "start_time": "2025-01-16T06:02:22.597Z"
   },
   {
    "duration": 48,
    "start_time": "2025-01-16T06:02:23.664Z"
   },
   {
    "duration": 70,
    "start_time": "2025-01-16T06:02:25.736Z"
   },
   {
    "duration": 37,
    "start_time": "2025-01-16T06:02:27.868Z"
   },
   {
    "duration": 6,
    "start_time": "2025-01-16T06:02:29.473Z"
   },
   {
    "duration": 3,
    "start_time": "2025-01-16T06:02:34.418Z"
   },
   {
    "duration": 22,
    "start_time": "2025-01-16T06:02:37.657Z"
   },
   {
    "duration": 14,
    "start_time": "2025-01-16T06:02:39.547Z"
   },
   {
    "duration": 39,
    "start_time": "2025-01-16T06:02:42.525Z"
   },
   {
    "duration": 8,
    "start_time": "2025-01-16T06:02:44.193Z"
   },
   {
    "duration": 12,
    "start_time": "2025-01-16T06:02:45.068Z"
   },
   {
    "duration": 114,
    "start_time": "2025-01-16T06:02:48.304Z"
   },
   {
    "duration": 9,
    "start_time": "2025-01-16T06:02:52.607Z"
   },
   {
    "duration": 6,
    "start_time": "2025-01-16T06:14:59.511Z"
   },
   {
    "duration": 52,
    "start_time": "2025-01-16T06:15:03.706Z"
   },
   {
    "duration": 5,
    "start_time": "2025-01-16T06:15:05.797Z"
   },
   {
    "duration": 5,
    "start_time": "2025-01-16T06:15:06.609Z"
   },
   {
    "duration": 2,
    "start_time": "2025-01-16T06:15:15.476Z"
   },
   {
    "duration": 124,
    "start_time": "2025-01-16T06:15:16.787Z"
   },
   {
    "duration": 7,
    "start_time": "2025-01-16T06:15:17.452Z"
   },
   {
    "duration": 32,
    "start_time": "2025-01-16T06:15:18.843Z"
   },
   {
    "duration": 46,
    "start_time": "2025-01-16T06:15:21.072Z"
   },
   {
    "duration": 3,
    "start_time": "2025-01-16T06:15:23.161Z"
   },
   {
    "duration": 3,
    "start_time": "2025-01-16T06:15:24.020Z"
   },
   {
    "duration": 18,
    "start_time": "2025-01-16T06:15:25.707Z"
   },
   {
    "duration": 36,
    "start_time": "2025-01-16T06:15:27.019Z"
   },
   {
    "duration": 60,
    "start_time": "2025-01-16T06:15:28.019Z"
   },
   {
    "duration": 42,
    "start_time": "2025-01-16T06:15:30.052Z"
   },
   {
    "duration": 65,
    "start_time": "2025-01-16T06:15:31.528Z"
   },
   {
    "duration": 53,
    "start_time": "2025-01-16T06:15:33.489Z"
   },
   {
    "duration": 38,
    "start_time": "2025-01-16T06:15:35.551Z"
   },
   {
    "duration": 5,
    "start_time": "2025-01-16T06:15:36.580Z"
   },
   {
    "duration": 16,
    "start_time": "2025-01-16T06:16:24.657Z"
   },
   {
    "duration": 6,
    "start_time": "2025-01-16T06:17:27.372Z"
   },
   {
    "duration": 4,
    "start_time": "2025-01-16T06:17:36.249Z"
   },
   {
    "duration": 157,
    "start_time": "2025-01-16T06:17:36.928Z"
   },
   {
    "duration": 6,
    "start_time": "2025-01-16T06:17:37.509Z"
   },
   {
    "duration": 40,
    "start_time": "2025-01-16T06:17:38.730Z"
   },
   {
    "duration": 45,
    "start_time": "2025-01-16T06:17:41.056Z"
   },
   {
    "duration": 3,
    "start_time": "2025-01-16T06:17:42.485Z"
   },
   {
    "duration": 3,
    "start_time": "2025-01-16T06:17:43.513Z"
   },
   {
    "duration": 19,
    "start_time": "2025-01-16T06:17:44.883Z"
   },
   {
    "duration": 25,
    "start_time": "2025-01-16T06:17:46.299Z"
   },
   {
    "duration": 37,
    "start_time": "2025-01-16T06:17:46.887Z"
   },
   {
    "duration": 40,
    "start_time": "2025-01-16T06:17:48.471Z"
   },
   {
    "duration": 62,
    "start_time": "2025-01-16T06:17:49.694Z"
   },
   {
    "duration": 60,
    "start_time": "2025-01-16T06:17:51.036Z"
   },
   {
    "duration": 44,
    "start_time": "2025-01-16T06:17:52.563Z"
   },
   {
    "duration": 21,
    "start_time": "2025-01-16T06:17:53.638Z"
   },
   {
    "duration": 3,
    "start_time": "2025-01-16T06:17:58.479Z"
   },
   {
    "duration": 16,
    "start_time": "2025-01-16T06:18:00.505Z"
   },
   {
    "duration": 6,
    "start_time": "2025-01-16T06:22:46.603Z"
   },
   {
    "duration": 2,
    "start_time": "2025-01-16T06:22:54.980Z"
   },
   {
    "duration": 139,
    "start_time": "2025-01-16T06:22:55.777Z"
   },
   {
    "duration": 6,
    "start_time": "2025-01-16T06:22:56.411Z"
   },
   {
    "duration": 24,
    "start_time": "2025-01-16T06:22:58.456Z"
   },
   {
    "duration": 48,
    "start_time": "2025-01-16T06:23:00.680Z"
   },
   {
    "duration": 3,
    "start_time": "2025-01-16T06:23:02.912Z"
   },
   {
    "duration": 3,
    "start_time": "2025-01-16T06:23:03.883Z"
   },
   {
    "duration": 20,
    "start_time": "2025-01-16T06:23:05.471Z"
   },
   {
    "duration": 34,
    "start_time": "2025-01-16T06:23:07.120Z"
   },
   {
    "duration": 39,
    "start_time": "2025-01-16T06:23:07.958Z"
   },
   {
    "duration": 45,
    "start_time": "2025-01-16T06:23:09.946Z"
   },
   {
    "duration": 68,
    "start_time": "2025-01-16T06:23:10.991Z"
   },
   {
    "duration": 51,
    "start_time": "2025-01-16T06:23:13.556Z"
   },
   {
    "duration": 50,
    "start_time": "2025-01-16T06:23:15.892Z"
   },
   {
    "duration": 6,
    "start_time": "2025-01-16T06:23:17.618Z"
   },
   {
    "duration": 3,
    "start_time": "2025-01-16T06:23:22.369Z"
   },
   {
    "duration": 26,
    "start_time": "2025-01-16T06:23:27.547Z"
   },
   {
    "duration": 6,
    "start_time": "2025-01-16T06:29:25.647Z"
   },
   {
    "duration": 14,
    "start_time": "2025-01-16T06:29:35.892Z"
   },
   {
    "duration": 23,
    "start_time": "2025-01-16T06:29:38.934Z"
   },
   {
    "duration": 17,
    "start_time": "2025-01-16T06:29:41.561Z"
   },
   {
    "duration": 8,
    "start_time": "2025-01-16T06:29:43.265Z"
   },
   {
    "duration": 24,
    "start_time": "2025-01-16T06:29:44.039Z"
   },
   {
    "duration": 21,
    "start_time": "2025-01-16T06:29:57.923Z"
   },
   {
    "duration": 63,
    "start_time": "2025-01-16T06:30:20.411Z"
   },
   {
    "duration": 47,
    "start_time": "2025-01-16T06:45:49.968Z"
   },
   {
    "duration": 14,
    "start_time": "2025-01-16T06:45:52.796Z"
   },
   {
    "duration": 71,
    "start_time": "2025-01-16T06:45:55.432Z"
   },
   {
    "duration": 2,
    "start_time": "2025-01-16T06:46:00.461Z"
   },
   {
    "duration": 144,
    "start_time": "2025-01-16T06:46:01.239Z"
   },
   {
    "duration": 6,
    "start_time": "2025-01-16T06:46:02.020Z"
   },
   {
    "duration": 25,
    "start_time": "2025-01-16T06:46:03.476Z"
   },
   {
    "duration": 45,
    "start_time": "2025-01-16T06:46:06.257Z"
   },
   {
    "duration": 15,
    "start_time": "2025-01-16T06:46:07.943Z"
   },
   {
    "duration": 3,
    "start_time": "2025-01-16T06:46:09.496Z"
   },
   {
    "duration": 20,
    "start_time": "2025-01-16T06:46:10.670Z"
   },
   {
    "duration": 33,
    "start_time": "2025-01-16T06:46:12.151Z"
   },
   {
    "duration": 38,
    "start_time": "2025-01-16T06:46:13.373Z"
   },
   {
    "duration": 46,
    "start_time": "2025-01-16T06:46:14.751Z"
   },
   {
    "duration": 60,
    "start_time": "2025-01-16T06:46:16.220Z"
   },
   {
    "duration": 74,
    "start_time": "2025-01-16T06:46:18.030Z"
   },
   {
    "duration": 61,
    "start_time": "2025-01-16T06:46:20.097Z"
   },
   {
    "duration": 5,
    "start_time": "2025-01-16T06:46:21.600Z"
   },
   {
    "duration": 3,
    "start_time": "2025-01-16T06:46:23.997Z"
   },
   {
    "duration": 16,
    "start_time": "2025-01-16T06:46:25.609Z"
   },
   {
    "duration": 12,
    "start_time": "2025-01-16T06:46:27.115Z"
   },
   {
    "duration": 22,
    "start_time": "2025-01-16T06:46:35.961Z"
   },
   {
    "duration": 8,
    "start_time": "2025-01-16T06:46:37.357Z"
   },
   {
    "duration": 15,
    "start_time": "2025-01-16T06:46:38.547Z"
   },
   {
    "duration": 47,
    "start_time": "2025-01-16T06:46:40.078Z"
   },
   {
    "duration": 54,
    "start_time": "2025-01-16T06:57:46.252Z"
   },
   {
    "duration": 3,
    "start_time": "2025-01-16T06:57:51.530Z"
   },
   {
    "duration": 123,
    "start_time": "2025-01-16T06:57:52.207Z"
   },
   {
    "duration": 6,
    "start_time": "2025-01-16T06:57:52.762Z"
   },
   {
    "duration": 23,
    "start_time": "2025-01-16T06:57:54.047Z"
   },
   {
    "duration": 44,
    "start_time": "2025-01-16T06:57:56.430Z"
   },
   {
    "duration": 6,
    "start_time": "2025-01-16T06:57:57.734Z"
   },
   {
    "duration": 3,
    "start_time": "2025-01-16T06:57:58.476Z"
   },
   {
    "duration": 19,
    "start_time": "2025-01-16T06:58:00.466Z"
   },
   {
    "duration": 24,
    "start_time": "2025-01-16T06:58:01.631Z"
   },
   {
    "duration": 37,
    "start_time": "2025-01-16T06:58:02.694Z"
   },
   {
    "duration": 38,
    "start_time": "2025-01-16T06:58:04.153Z"
   },
   {
    "duration": 42,
    "start_time": "2025-01-16T06:58:05.699Z"
   },
   {
    "duration": 52,
    "start_time": "2025-01-16T06:58:07.847Z"
   },
   {
    "duration": 36,
    "start_time": "2025-01-16T06:58:09.417Z"
   },
   {
    "duration": 6,
    "start_time": "2025-01-16T06:58:10.852Z"
   },
   {
    "duration": 4,
    "start_time": "2025-01-16T06:58:11.977Z"
   },
   {
    "duration": 15,
    "start_time": "2025-01-16T06:58:13.310Z"
   },
   {
    "duration": 10,
    "start_time": "2025-01-16T06:58:14.883Z"
   },
   {
    "duration": 17,
    "start_time": "2025-01-16T06:58:17.115Z"
   },
   {
    "duration": 8,
    "start_time": "2025-01-16T06:58:18.679Z"
   },
   {
    "duration": 12,
    "start_time": "2025-01-16T06:58:19.468Z"
   },
   {
    "duration": 20,
    "start_time": "2025-01-16T06:58:20.959Z"
   },
   {
    "duration": 9,
    "start_time": "2025-01-16T06:58:58.218Z"
   },
   {
    "duration": 8,
    "start_time": "2025-01-16T06:59:02.555Z"
   }
  ],
  "kernelspec": {
   "display_name": "Python 3 (ipykernel)",
   "language": "python",
   "name": "python3"
  },
  "language_info": {
   "codemirror_mode": {
    "name": "ipython",
    "version": 3
   },
   "file_extension": ".py",
   "mimetype": "text/x-python",
   "name": "python",
   "nbconvert_exporter": "python",
   "pygments_lexer": "ipython3",
   "version": "3.9.19"
  },
  "toc": {
   "base_numbering": 1,
   "nav_menu": {},
   "number_sections": true,
   "sideBar": true,
   "skip_h1_title": true,
   "title_cell": "Table of Contents",
   "title_sidebar": "Contents",
   "toc_cell": false,
   "toc_position": {},
   "toc_section_display": true,
   "toc_window_display": false
  }
 },
 "nbformat": 4,
 "nbformat_minor": 5
}
