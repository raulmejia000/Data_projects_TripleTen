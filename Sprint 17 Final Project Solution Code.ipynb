{
 "cells": [
  {
   "cell_type": "markdown",
   "metadata": {},
   "source": [
    "<div style=\"border: solid blue 2px; padding: 15px; margin: 10px\">\n",
    "  <b>Overall Summary of the Project – Iteration 1</b><br><br>\n",
    "\n",
    "  Hi Raul, great work! I’m <b>Victor Camargo</b> (<a href=\"https://hub.tripleten.com/u/e9cc9c11\" target=\"_blank\">TripleTen Hub profile</a>). I’ll be reviewing your project and sharing feedback using the color-coded comments below. Thanks for submitting your work!<br><br>\n",
    "\n",
    "  <b>Nice work on:</b><br>\n",
    "  ✔️ Defining the business goal (reduce churn) and using the correct target: <code>churn = (EndDate != \"No\")</code><br>\n",
    "  ✔️ Leak-free engineering of <b>tenure</b> (capped at the 2020-02-01 snapshot, early stop for real end dates)<br>\n",
    "  ✔️ Clean data merge across four sources with <code>customerID</code>, column-name hygiene, and duplicate checks (0 duplicates)<br>\n",
    "  ✔️ Practical feature set: <code>addon_count</code>, <code>is_month_to_month</code>, <code>has_fiber</code>, <code>auto_pay</code>, and <code>num_services_total</code>; robust handling of service flags and <code>TotalCharges</code> coercion to numeric<br>\n",
    "  ✔️ Strong preprocessing design: <i>ColumnTransformer</i> with imputers (median/most-frequent), scaling for numerics, and version-safe <code>OneHotEncoder</code>; verified no NaNs pass the transformer<br>\n",
    "  ✔️ Sound evaluation protocol: stratified 5-fold CV + clean 80/20 hold-out test; clear separation of training and testing<br>\n",
    "  ✔️ Thoughtful model comparison: Logistic Regression (balanced), Random Forest, and tuned Gradient Boosting; selection based on test AUC-ROC<br>\n",
    "  ✔️ Transparent test reporting: ROC curve, confusion matrix, and classification report; operating threshold via Youden’s J (~0.38) aligned to business trade-offs<br>\n",
    "  ✔️ Interpretability: pipeline-aware feature importances showing key churn drivers (short tenure, month-to-month contracts, higher charges, limited add-ons, billing/internet patterns)<br>\n",
    "  ✔️ Reproducibility & portability touches: path resolution/unzip fallback, fixed random states, and consistent pipelines for training and inference<br><br>\n",
    "\n",
    "  <b>Results snapshot:</b><br>\n",
    "  • Final model: <i>Gradient Boosting</i> (tuned) &nbsp;|&nbsp; Test AUC-ROC ≈ <b>0.862</b>, Accuracy ≈ <b>0.81</b><br>\n",
    "\n",
    "  <b>Final note:</b> Excellent end-to-end work with careful leakage control, solid modeling, and clear business framing. <b>Project approved — congratulations! 🎉</b><br>\n",
    "</div>"
   ]
  },
  {
   "cell_type": "markdown",
   "metadata": {},
   "source": [
    "Interconnect Churn Prediction — a practical model to flag at-risk customers"
   ]
  },
  {
   "cell_type": "markdown",
   "metadata": {},
   "source": [
    "In this project I built a churn model for Interconnect, a telecom provider that wants to spot customers who are likely to leave so the team can offer promos before they churn. The data comes in four CSVs — contract, personal, internet, and phone — all linked by customerID. The target follows the course spec: a customer has churned if EndDate ≠ \"No\". Because the snapshot date is February 1, 2020, I also compute a leak-free tenure feature by measuring time from BeginDate up to that snapshot (or the actual end date if it happened earlier).\n",
    "\n",
    "My workflow is pretty straightforward: load and merge the four files, do a quick sanity check, clean a few columns (like forcing TotalCharges to numeric), and create a couple of small but useful features (add-on count, month-to-month flag, fiber flag, auto-pay, and a total service count). For modeling I keep everything inside a scikit-learn pipeline with imputers, one-hot encoding, and scaling, then compare three models — Logistic Regression, Random Forest, and a tuned Gradient Boosting classifier — using AUC-ROC as the main metric (with Accuracy on the side). I evaluate with stratified 5-fold CV and a proper hold-out test, plot the ROC curve, and pick a threshold (Youden’s J) that balances catching churners vs. false alarms. The end result is a clean, reproducible notebook that Interconnect could use to score customers and prioritize outreach, plus a quick feature-importance view that explains why the model thinks someone might churn (short tenure, month-to-month contracts, higher charges, missing security/support add-ons, etc.)."
   ]
  },
  {
   "cell_type": "code",
   "execution_count": 1,
   "metadata": {},
   "outputs": [],
   "source": [
    " import os, warnings, zipfile\n",
    "warnings.filterwarnings(\"ignore\")"
   ]
  },
  {
   "cell_type": "code",
   "execution_count": 2,
   "metadata": {},
   "outputs": [],
   "source": [
    "import numpy as np\n",
    "import pandas as pd\n",
    "import matplotlib.pyplot as plt\n",
    "\n",
    "from sklearn.model_selection import train_test_split, StratifiedKFold, cross_val_score, GridSearchCV\n",
    "from sklearn.compose import ColumnTransformer\n",
    "from sklearn.preprocessing import OneHotEncoder, StandardScaler\n",
    "from sklearn.pipeline import Pipeline\n",
    "from sklearn.metrics import roc_auc_score, accuracy_score, roc_curve, confusion_matrix, classification_report\n",
    "\n",
    "from sklearn.linear_model import LogisticRegression\n",
    "from sklearn.ensemble import RandomForestClassifier, GradientBoostingClassifier\n"
   ]
  },
  {
   "cell_type": "code",
   "execution_count": 3,
   "metadata": {},
   "outputs": [
    {
     "name": "stdout",
     "output_type": "stream",
     "text": [
      "Data locations I’m using:\n",
      "  contract  -> /datasets/final_provider/contract.csv  [OK]\n",
      "  personal  -> /datasets/final_provider/personal.csv  [OK]\n",
      "  internet  -> /datasets/final_provider/internet.csv  [OK]\n",
      "  phone     -> /datasets/final_provider/phone.csv  [OK]\n"
     ]
    }
   ],
   "source": [
    "BASE_DIR = \"/datasets/final_provider\"  # platform path\n",
    "\n",
    "if not os.path.exists(BASE_DIR):\n",
    "    if os.path.exists(\"./final_provider\"):\n",
    "        BASE_DIR = \"./final_provider\"\n",
    "    elif os.path.exists(\"./final_provider.zip\"):\n",
    "        print(\"Unzipping final_provider.zip -> ./final_provider ...\")\n",
    "        with zipfile.ZipFile(\"./final_provider.zip\", \"r\") as z:\n",
    "            z.extractall(\"./final_provider\")\n",
    "        BASE_DIR = \"./final_provider\"\n",
    "\n",
    "paths = {\n",
    "    \"contract\": os.path.join(BASE_DIR, \"contract.csv\"),\n",
    "    \"personal\": os.path.join(BASE_DIR, \"personal.csv\"),\n",
    "    \"internet\": os.path.join(BASE_DIR, \"internet.csv\"),\n",
    "    \"phone\":    os.path.join(BASE_DIR, \"phone.csv\"),\n",
    "}\n",
    "\n",
    "print(\"Data locations I’m using:\")\n",
    "for k, v in paths.items():\n",
    "    print(f\"  {k:9s} -> {v}  {'[OK]' if os.path.exists(v) else '[MISSING]'}\")"
   ]
  },
  {
   "cell_type": "code",
   "execution_count": 4,
   "metadata": {
    "scrolled": true
   },
   "outputs": [
    {
     "name": "stdout",
     "output_type": "stream",
     "text": [
      "\n",
      "Merged shape: (7043, 20)\n"
     ]
    },
    {
     "data": {
      "text/html": [
       "<div>\n",
       "<style scoped>\n",
       "    .dataframe tbody tr th:only-of-type {\n",
       "        vertical-align: middle;\n",
       "    }\n",
       "\n",
       "    .dataframe tbody tr th {\n",
       "        vertical-align: top;\n",
       "    }\n",
       "\n",
       "    .dataframe thead th {\n",
       "        text-align: right;\n",
       "    }\n",
       "</style>\n",
       "<table border=\"1\" class=\"dataframe\">\n",
       "  <thead>\n",
       "    <tr style=\"text-align: right;\">\n",
       "      <th></th>\n",
       "      <th>customerID</th>\n",
       "      <th>BeginDate</th>\n",
       "      <th>EndDate</th>\n",
       "      <th>Type</th>\n",
       "      <th>PaperlessBilling</th>\n",
       "      <th>PaymentMethod</th>\n",
       "      <th>MonthlyCharges</th>\n",
       "      <th>TotalCharges</th>\n",
       "      <th>gender</th>\n",
       "      <th>SeniorCitizen</th>\n",
       "      <th>Partner</th>\n",
       "      <th>Dependents</th>\n",
       "      <th>InternetService</th>\n",
       "      <th>OnlineSecurity</th>\n",
       "      <th>OnlineBackup</th>\n",
       "      <th>DeviceProtection</th>\n",
       "      <th>TechSupport</th>\n",
       "      <th>StreamingTV</th>\n",
       "      <th>StreamingMovies</th>\n",
       "      <th>MultipleLines</th>\n",
       "    </tr>\n",
       "  </thead>\n",
       "  <tbody>\n",
       "    <tr>\n",
       "      <th>0</th>\n",
       "      <td>7590-VHVEG</td>\n",
       "      <td>2020-01-01</td>\n",
       "      <td>No</td>\n",
       "      <td>Month-to-month</td>\n",
       "      <td>Yes</td>\n",
       "      <td>Electronic check</td>\n",
       "      <td>29.85</td>\n",
       "      <td>29.85</td>\n",
       "      <td>Female</td>\n",
       "      <td>0</td>\n",
       "      <td>Yes</td>\n",
       "      <td>No</td>\n",
       "      <td>DSL</td>\n",
       "      <td>No</td>\n",
       "      <td>Yes</td>\n",
       "      <td>No</td>\n",
       "      <td>No</td>\n",
       "      <td>No</td>\n",
       "      <td>No</td>\n",
       "      <td>NaN</td>\n",
       "    </tr>\n",
       "    <tr>\n",
       "      <th>1</th>\n",
       "      <td>5575-GNVDE</td>\n",
       "      <td>2017-04-01</td>\n",
       "      <td>No</td>\n",
       "      <td>One year</td>\n",
       "      <td>No</td>\n",
       "      <td>Mailed check</td>\n",
       "      <td>56.95</td>\n",
       "      <td>1889.5</td>\n",
       "      <td>Male</td>\n",
       "      <td>0</td>\n",
       "      <td>No</td>\n",
       "      <td>No</td>\n",
       "      <td>DSL</td>\n",
       "      <td>Yes</td>\n",
       "      <td>No</td>\n",
       "      <td>Yes</td>\n",
       "      <td>No</td>\n",
       "      <td>No</td>\n",
       "      <td>No</td>\n",
       "      <td>No</td>\n",
       "    </tr>\n",
       "    <tr>\n",
       "      <th>2</th>\n",
       "      <td>3668-QPYBK</td>\n",
       "      <td>2019-10-01</td>\n",
       "      <td>2019-12-01 00:00:00</td>\n",
       "      <td>Month-to-month</td>\n",
       "      <td>Yes</td>\n",
       "      <td>Mailed check</td>\n",
       "      <td>53.85</td>\n",
       "      <td>108.15</td>\n",
       "      <td>Male</td>\n",
       "      <td>0</td>\n",
       "      <td>No</td>\n",
       "      <td>No</td>\n",
       "      <td>DSL</td>\n",
       "      <td>Yes</td>\n",
       "      <td>Yes</td>\n",
       "      <td>No</td>\n",
       "      <td>No</td>\n",
       "      <td>No</td>\n",
       "      <td>No</td>\n",
       "      <td>No</td>\n",
       "    </tr>\n",
       "  </tbody>\n",
       "</table>\n",
       "</div>"
      ],
      "text/plain": [
       "   customerID   BeginDate              EndDate            Type  \\\n",
       "0  7590-VHVEG  2020-01-01                   No  Month-to-month   \n",
       "1  5575-GNVDE  2017-04-01                   No        One year   \n",
       "2  3668-QPYBK  2019-10-01  2019-12-01 00:00:00  Month-to-month   \n",
       "\n",
       "  PaperlessBilling     PaymentMethod  MonthlyCharges TotalCharges  gender  \\\n",
       "0              Yes  Electronic check           29.85        29.85  Female   \n",
       "1               No      Mailed check           56.95       1889.5    Male   \n",
       "2              Yes      Mailed check           53.85       108.15    Male   \n",
       "\n",
       "   SeniorCitizen Partner Dependents InternetService OnlineSecurity  \\\n",
       "0              0     Yes         No             DSL             No   \n",
       "1              0      No         No             DSL            Yes   \n",
       "2              0      No         No             DSL            Yes   \n",
       "\n",
       "  OnlineBackup DeviceProtection TechSupport StreamingTV StreamingMovies  \\\n",
       "0          Yes               No          No          No              No   \n",
       "1           No              Yes          No          No              No   \n",
       "2          Yes               No          No          No              No   \n",
       "\n",
       "  MultipleLines  \n",
       "0           NaN  \n",
       "1            No  \n",
       "2            No  "
      ]
     },
     "metadata": {},
     "output_type": "display_data"
    }
   ],
   "source": [
    "# 1) Load + merge\n",
    "\n",
    "def load_and_merge(p):\n",
    "    c  = pd.read_csv(p[\"contract\"])\n",
    "    pe = pd.read_csv(p[\"personal\"])\n",
    "    it = pd.read_csv(p[\"internet\"])\n",
    "    ph = pd.read_csv(p[\"phone\"])\n",
    "    # hygiene: trim column names\n",
    "    for df in (c, pe, it, ph):\n",
    "        df.columns = df.columns.str.strip()\n",
    "    # merge on customerID\n",
    "    df = c.merge(pe, on=\"customerID\", how=\"left\") \\\n",
    "         .merge(it, on=\"customerID\", how=\"left\") \\\n",
    "         .merge(ph, on=\"customerID\", how=\"left\")\n",
    "    return df\n",
    "\n",
    "df = load_and_merge(paths)\n",
    "print(\"\\nMerged shape:\", df.shape)\n",
    "display(df.head(3))"
   ]
  },
  {
   "cell_type": "markdown",
   "metadata": {},
   "source": [
    "In this section I set up the notebook and pulled the raw data together. First I imported the usual libraries (pandas/numpy/matplotlib plus the sklearn stuff I’ll use later), then I wrote a small path helper so the code can find the files no matter where I run it: it tries the platform folder /datasets/final_provider/, otherwise it looks for a local final_provider/ or unzips final_provider.zip. I built a little paths dictionary for the four CSVs (contract, personal, internet, phone) and printed a quick check to make sure each one exists. After that I defined load_and_merge(), which reads each CSV, strips any stray spaces from the column names (so joins don’t break), and merges everything on customerID with left joins. Finally, I called it, printed the merged shape, and displayed the first few rows to confirm the columns lined up (e.g., BeginDate, EndDate, plan Type, PaymentMethod, charges, InternetService, etc.). This gives me one clean table per customer to use for the rest of the analysis."
   ]
  },
  {
   "cell_type": "code",
   "execution_count": 5,
   "metadata": {},
   "outputs": [
    {
     "name": "stdout",
     "output_type": "stream",
     "text": [
      "Columns: 20\n",
      "Any duplicated customerIDs? -> 0\n",
      "\n",
      "Missing % (top 15):\n",
      "StreamingMovies     21.67\n",
      "StreamingTV         21.67\n",
      "TechSupport         21.67\n",
      "DeviceProtection    21.67\n",
      "OnlineBackup        21.67\n",
      "OnlineSecurity      21.67\n",
      "InternetService     21.67\n",
      "MultipleLines        9.68\n",
      "BeginDate            0.00\n",
      "Dependents           0.00\n",
      "customerID           0.00\n",
      "SeniorCitizen        0.00\n",
      "gender               0.00\n",
      "TotalCharges         0.00\n",
      "MonthlyCharges       0.00\n",
      "dtype: float64\n"
     ]
    }
   ],
   "source": [
    "# 2) Quick sanity EDA\n",
    "\n",
    "print(\"Columns:\", len(df.columns))\n",
    "print(\"Any duplicated customerIDs? ->\", df[\"customerID\"].duplicated().sum())\n",
    "\n",
    "# Missingness snapshot (top 15)\n",
    "miss = (df.isna().mean()*100).sort_values(ascending=False)\n",
    "print(\"\\nMissing % (top 15):\")\n",
    "print(miss.head(15).round(2))\n",
    "\n",
    "# Parse dates if present (helps with tenure)\n",
    "for col in [\"BeginDate\", \"EndDate\"]:\n",
    "    if col in df.columns:\n",
    "        # leave 'No' as string for now; I'll handle it in target creation\n",
    "        pass"
   ]
  },
  {
   "cell_type": "markdown",
   "metadata": {},
   "source": [
    "Here I did a quick “sanity check” on the merged table. I printed how many columns I have and verified there aren’t any duplicate customerIDs (good—came back 0). Then I looked at missing values by column, sorted from highest to lowest, and showed the top 15. Most of the big “missing” chunks are in the optional add-on service columns (StreamingTV/Movies, OnlineSecurity, etc.), which makes sense because not every customer buys those—so some of that isn’t really missing, it’s just not applicable. I also noted the date columns (BeginDate, EndDate) but didn’t convert them yet on purpose; I’ll handle EndDate == \"No\" when I build the churn target in the next step."
   ]
  },
  {
   "cell_type": "code",
   "execution_count": 6,
   "metadata": {},
   "outputs": [
    {
     "name": "stdout",
     "output_type": "stream",
     "text": [
      "\n",
      "Target check (0=active, 1=churn):\n",
      "0    0.735\n",
      "1    0.265\n",
      "Name: churn, dtype: float64\n"
     ]
    }
   ],
   "source": [
    "# 3) Target variable\n",
    "#    Spec says: EndDate == \"No\" means active.\n",
    "#    For churn modeling I want: churn = 1 if EndDate != \"No\"\n",
    "\n",
    "df[\"EndDate_str\"] = df[\"EndDate\"].astype(str).str.strip()\n",
    "df[\"churn\"] = (df[\"EndDate_str\"] != \"No\").astype(int)\n",
    "\n",
    "print(\"\\nTarget check (0=active, 1=churn):\")\n",
    "print(df[\"churn\"].value_counts(normalize=True).round(3))\n",
    "\n",
    "# Tenure in months — cap everyone at the snapshot date to avoid any leakage\n",
    "AS_OF = pd.Timestamp(\"2020-02-01\")\n",
    "\n",
    "# start dates\n",
    "begin = pd.to_datetime(df[\"BeginDate\"], errors=\"coerce\")\n",
    "\n",
    "# parse only real end dates; keep NaN if 'No'\n",
    "end_raw = df[\"EndDate\"].astype(str).str.strip()\n",
    "end_parsed = pd.to_datetime(end_raw.where(end_raw != \"No\", np.nan), errors=\"coerce\")\n",
    "\n",
    "# 1) replace NaT with AS_OF\n",
    "end_for_tenure = end_parsed.fillna(AS_OF)\n",
    "\n",
    "# 2) cap anything after AS_OF back to AS_OF (no future info)\n",
    "end_for_tenure = end_for_tenure.where(end_for_tenure <= AS_OF, AS_OF)\n",
    "\n",
    "# final tenure (in months)\n",
    "df[\"tenure_months\"] = ((end_for_tenure - begin).dt.days / 30.44).clip(lower=0).round(1)\n"
   ]
  },
  {
   "cell_type": "markdown",
   "metadata": {},
   "source": [
    "In this cell I created the target and a clean tenure feature. The project says customers with EndDate == \"No\" are still active, so I set churn = 1 when EndDate is anything else and 0 otherwise, then printed the class balance to see how many churners I have. For tenure, I didn’t want to leak future info, so I measured everyone’s time with the company up to the snapshot date (2020-02-01). I parsed BeginDate, read EndDate as text, turned non-“No” values into real dates, and left “No” as missing. Then I filled those missings with the snapshot date and also capped any end dates after the snapshot back to the snapshot. Finally I computed tenure in months as (end_for_tenure − begin)/30.44, clipped negatives to zero, and rounded a bit. This gives me a leak-free target and a consistent tenure number for every customer."
   ]
  },
  {
   "cell_type": "code",
   "execution_count": 7,
   "metadata": {},
   "outputs": [
    {
     "name": "stdout",
     "output_type": "stream",
     "text": [
      "Numeric cols: ['MonthlyCharges', 'TotalCharges', 'tenure_months', 'addon_count', 'is_month_to_month', 'has_fiber', 'auto_pay', 'num_services_total']\n",
      "Categorical cols (sample): ['Type', 'PaperlessBilling', 'PaymentMethod', 'gender', 'Partner', 'Dependents', 'InternetService', 'OnlineSecurity', 'OnlineBackup', 'DeviceProtection']\n",
      "Final feature matrix shape: (7043, 23)\n"
     ]
    }
   ],
   "source": [
    "# 4) Light cleaning + feature ideas\n",
    "\n",
    "# Make TotalCharges numeric (classic Telco hiccup)\n",
    "if \"TotalCharges\" in df.columns:\n",
    "    df[\"TotalCharges\"] = pd.to_numeric(df[\"TotalCharges\"], errors=\"coerce\")\n",
    "\n",
    "# Normalize Yes/No style values for service flags (DO NOT include InternetService)\n",
    "def to_yes_no(s):\n",
    "    s = s.astype(str).str.strip().str.title()\n",
    "    s = s.replace({\"Yes\": \"Yes\", \"No\": \"No\"})\n",
    "    s = np.where((s == \"\") | (s == \"Nan\") | (s == \"None\"), \"Unknown\", s)\n",
    "    return pd.Series(s)\n",
    "\n",
    "yes_no_guess = [\n",
    "    \"OnlineSecurity\",\"OnlineBackup\",\"DeviceProtection\",\"TechSupport\",\n",
    "    \"StreamingTV\",\"StreamingMovies\",\"MultipleLines\",\"PaperlessBilling\",\n",
    "    \"Dependents\",\"Partner\",\"PhoneService\"   # InternetService deliberately NOT here\n",
    "]\n",
    "\n",
    "for col in yes_no_guess:\n",
    "    if col in df.columns:\n",
    "        df[col] = to_yes_no(df[col])\n",
    "\n",
    "# Clean special text for MultipleLines if present\n",
    "if \"MultipleLines\" in df.columns:\n",
    "    df[\"MultipleLines\"] = df[\"MultipleLines\"].replace({\"No phone service\": \"No\"})\n",
    "\n",
    "# Count how many add-on services (quick, useful signal)\n",
    "addons = [c for c in [\"OnlineSecurity\",\"OnlineBackup\",\"DeviceProtection\",\"TechSupport\",\"StreamingTV\",\"StreamingMovies\"] if c in df.columns]\n",
    "if addons:\n",
    "    df[\"addon_count\"] = df[addons].apply(lambda r: (r != \"No\").astype(int).sum(), axis=1)\n",
    "else:\n",
    "    df[\"addon_count\"] = 0\n",
    "\n",
    "#  extra quick features (help AUC a bit) \n",
    "df[\"is_month_to_month\"] = df[\"Type\"].astype(str).str.contains(\"Month-to-month\", case=False, na=False).astype(int)\n",
    "df[\"has_fiber\"]         = df[\"InternetService\"].astype(str).str.contains(\"Fiber\", case=False, na=False).astype(int)\n",
    "df[\"auto_pay\"]          = df[\"PaymentMethod\"].astype(str).str.contains(\"automatic\", case=False, na=False).astype(int)\n",
    "\n",
    "# Robust service counters (use Series fallbacks with correct index)\n",
    "phone_flag = (\n",
    "    df[\"PhoneService\"].astype(str).ne(\"No\").astype(int) if \"PhoneService\" in df.columns\n",
    "    else pd.Series(0, index=df.index)\n",
    ")\n",
    "internet_flag = (\n",
    "    df[\"InternetService\"].astype(str).ne(\"No\").astype(int) if \"InternetService\" in df.columns\n",
    "    else pd.Series(0, index=df.index)\n",
    ")\n",
    "\n",
    "df[\"num_services_total\"] = phone_flag + internet_flag + df[\"addon_count\"]\n",
    "\n",
    "# Select numeric + categorical features\n",
    "target = \"churn\"\n",
    "drop_cols = [\"customerID\",\"EndDate\",\"EndDate_str\",\"BeginDate\"]  # EndDate not usable at predict time\n",
    "\n",
    "numeric_cols = [c for c in [\n",
    "    \"MonthlyCharges\",\"TotalCharges\",\"tenure_months\",\"addon_count\",\n",
    "    \"is_month_to_month\",\"has_fiber\",\"auto_pay\",\"num_services_total\"\n",
    "] if c in df.columns]\n",
    "\n",
    "X = df.drop(columns=[target] + drop_cols, errors=\"ignore\")\n",
    "y = df[target].values\n",
    "categorical_cols = [c for c in X.columns if c not in numeric_cols and X[c].dtype == \"object\"]\n",
    "\n",
    "print(\"Numeric cols:\", numeric_cols)\n",
    "print(\"Categorical cols (sample):\", categorical_cols[:10])\n",
    "print(\"Final feature matrix shape:\", X.shape)\n"
   ]
  },
  {
   "cell_type": "markdown",
   "metadata": {},
   "source": [
    "In this cell I cleaned the columns a bit and built a few simple features I think will help the model. First I forced TotalCharges to numeric (the classic Telco issue where it sometimes comes in as text). Then I standardized the Yes/No style service flags so they’re consistent, but I didn’t touch InternetService because it has meaningful values like “DSL”, “Fiber optic”, or “No”. I also fixed a small text quirk by turning “No phone service” into just “No”. From there I made addon_count by counting how many of the optional services (OnlineSecurity, OnlineBackup, DeviceProtection, TechSupport, StreamingTV/Movies) a customer actually uses. I added a few straightforward signals: is_month_to_month (month-to-month contract), has_fiber (fiber internet), and auto_pay (automatic payments). I also created num_services_total as a robust sum of phone, internet, and the add-ons; for the phone/internet flags I built proper Series with the right index so math wouldn’t break if a column was missing. Finally, I set up my feature lists: numeric features include the charges, tenure, the add-on/contract/payment flags, and the service count; categorical features are whatever is left as object dtype after dropping ID and labels. I printed the shapes and a sample just to double-check everything looks sane before moving on to modeling."
   ]
  },
  {
   "cell_type": "code",
   "execution_count": 8,
   "metadata": {},
   "outputs": [
    {
     "name": "stdout",
     "output_type": "stream",
     "text": [
      "Preprocess check — any NaNs after transform?: False\n"
     ]
    }
   ],
   "source": [
    "# 5) Train/test split + preprocessing  (with imputers + version-safe OHE)\n",
    "\n",
    "from sklearn.model_selection import train_test_split, StratifiedKFold\n",
    "from sklearn.compose import ColumnTransformer\n",
    "from sklearn.preprocessing import OneHotEncoder, StandardScaler\n",
    "from sklearn.impute import SimpleImputer\n",
    "from sklearn.pipeline import Pipeline\n",
    "import numpy as np\n",
    "\n",
    "# split (same as before)\n",
    "X_train, X_test, y_train, y_test = train_test_split(\n",
    "    X, y, test_size=0.20, random_state=42, stratify=y\n",
    ")\n",
    "\n",
    "# OHE that works on both old/new scikit-learn\n",
    "def make_ohe():\n",
    "    try:\n",
    "        # newer sklearn (>=1.2)\n",
    "        return OneHotEncoder(handle_unknown=\"ignore\", sparse_output=False)\n",
    "    except TypeError:\n",
    "        # older sklearn\n",
    "        return OneHotEncoder(handle_unknown=\"ignore\", sparse=False)\n",
    "\n",
    "ohe = make_ohe()\n",
    "\n",
    "# numeric pipeline: impute -> scale\n",
    "num_pipe = Pipeline(steps=[\n",
    "    (\"imputer\", SimpleImputer(strategy=\"median\")),\n",
    "    (\"scaler\", StandardScaler())\n",
    "])\n",
    "\n",
    "# categorical pipeline: impute -> one-hot\n",
    "cat_pipe = Pipeline(steps=[\n",
    "    (\"imputer\", SimpleImputer(strategy=\"most_frequent\")),\n",
    "    (\"ohe\", ohe)\n",
    "])\n",
    "\n",
    "# full column transformer\n",
    "preprocess = ColumnTransformer(\n",
    "    transformers=[\n",
    "        (\"num\", num_pipe, numeric_cols),\n",
    "        (\"cat\", cat_pipe, categorical_cols),\n",
    "    ],\n",
    "    remainder=\"drop\"\n",
    ")\n",
    "\n",
    "# quick smoke test to make sure no NaNs leak through the transformer\n",
    "Xt_sample = preprocess.fit_transform(X_train.head(200))\n",
    "print(\"Preprocess check — any NaNs after transform?:\", np.isnan(Xt_sample).any())\n",
    "\n",
    "# CV splitter\n",
    "cv = StratifiedKFold(n_splits=5, shuffle=True, random_state=42)\n"
   ]
  },
  {
   "cell_type": "markdown",
   "metadata": {},
   "source": [
    "Here I set up the training/validation plumbing so nothing leaks and the code is stable on any scikit-learn version. I do an 80/20 stratified train/test split so the churn ratio stays the same in both sets. Then I build a preprocessing pipeline: numeric columns go through a median imputer and StandardScaler, and categorical columns go through a most-frequent imputer and one-hot encoder. I wrapped the OHE in a tiny make_ohe() helper so it works whether the environment expects sparse_output=False or the older sparse=False. Both pipes are combined with a ColumnTransformer, which guarantees the exact same cleaning/encoding happens during cross-val and test time. I ran a quick smoke test (fit_transform on a sample) and printed a check to confirm no NaNs make it through the transformer. Finally, I set up a StratifiedKFold (5 folds) splitter for later cross-validation."
   ]
  },
  {
   "cell_type": "code",
   "execution_count": 9,
   "metadata": {},
   "outputs": [
    {
     "name": "stdout",
     "output_type": "stream",
     "text": [
      "\n",
      "Logistic Regression CV AUC: 0.846 ± 0.013\n"
     ]
    }
   ],
   "source": [
    "# 6) Baseline: Logistic Regression\n",
    "\n",
    "logit = Pipeline(steps=[\n",
    "    (\"prep\", preprocess),\n",
    "    (\"clf\", LogisticRegression(max_iter=2000, class_weight=\"balanced\"))\n",
    "])\n",
    "logit_auc = cross_val_score(logit, X_train, y_train, cv=cv, scoring=\"roc_auc\")\n",
    "print(f\"\\nLogistic Regression CV AUC: {logit_auc.mean():.3f} ± {logit_auc.std():.3f}\")\n"
   ]
  },
  {
   "cell_type": "markdown",
   "metadata": {},
   "source": [
    "Here I trained a super simple baseline model to see what “good enough” looks like before trying fancier stuff. I wrapped LogisticRegression in the same preprocessing pipeline as before (so it gets the imputation, scaling, and one-hot encoding automatically) and set class_weight='balanced' since churn vs non-churn isn’t perfectly even. Then I ran 5-fold stratified cross-validation and scored it with AUC-ROC, which is our main metric. The printout shows the average CV AUC and its spread (in my run it’s ~0.846 ± 0.013), which gives me a solid baseline to beat with tree models and boosting."
   ]
  },
  {
   "cell_type": "code",
   "execution_count": 10,
   "metadata": {},
   "outputs": [
    {
     "name": "stdout",
     "output_type": "stream",
     "text": [
      "Random Forest CV AUC:      0.838 ± 0.010\n"
     ]
    }
   ],
   "source": [
    "# 7) RandomForest (usually strong on mixed tabular)\n",
    "\n",
    "rf = Pipeline(steps=[\n",
    "    (\"prep\", preprocess),\n",
    "    (\"clf\", RandomForestClassifier(\n",
    "        n_estimators=350,\n",
    "        max_depth=None,\n",
    "        min_samples_split=4,\n",
    "        min_samples_leaf=2,\n",
    "        class_weight=\"balanced_subsample\",\n",
    "        n_jobs=-1,\n",
    "        random_state=42\n",
    "    ))\n",
    "])\n",
    "rf_auc = cross_val_score(rf, X_train, y_train, cv=cv, scoring=\"roc_auc\")\n",
    "print(f\"Random Forest CV AUC:      {rf_auc.mean():.3f} ± {rf_auc.std():.3f}\")\n"
   ]
  },
  {
   "cell_type": "markdown",
   "metadata": {},
   "source": [
    "Here I tried a tree-based model to see if it could beat the linear baseline. I put a RandomForestClassifier behind the same preprocessing step and gave it sensible settings for this dataset: a decent number of trees (n_estimators=350), no hard max_depth limit, a little regularization (min_samples_split=4, min_samples_leaf=2), and class_weight='balanced_subsample' so it doesn’t ignore churners. I ran 5-fold stratified CV and scored with AUC-ROC. The result in my run was about 0.838 ± 0.010, which is solid but actually a bit below the logistic regression baseline. That tells me the relationships here might be fairly linear or that the forest needs more tuning, so I kept going to boosting next."
   ]
  },
  {
   "cell_type": "code",
   "execution_count": 11,
   "metadata": {},
   "outputs": [
    {
     "name": "stdout",
     "output_type": "stream",
     "text": [
      "GradientBoosting best CV AUC: 0.864  with {'clf__learning_rate': 0.1, 'clf__max_depth': 3, 'clf__n_estimators': 250}\n"
     ]
    }
   ],
   "source": [
    "# 8) Gradient Boosting + small grid search\n",
    "\n",
    "gb = Pipeline(steps=[\n",
    "    (\"prep\", preprocess),\n",
    "    (\"clf\", GradientBoostingClassifier(random_state=42))\n",
    "])\n",
    "gb_grid = {\n",
    "    \"clf__n_estimators\": [150, 250],\n",
    "    \"clf__learning_rate\": [0.05, 0.1],\n",
    "    \"clf__max_depth\": [2, 3]\n",
    "}\n",
    "gb_cv = GridSearchCV(gb, gb_grid, scoring=\"roc_auc\", cv=cv, n_jobs=-1, verbose=0)\n",
    "gb_cv.fit(X_train, y_train)\n",
    "print(f\"GradientBoosting best CV AUC: {gb_cv.best_score_:.3f}  with {gb_cv.best_params_}\")\n",
    "best_gb = gb_cv.best_estimator_"
   ]
  },
  {
   "cell_type": "markdown",
   "metadata": {},
   "source": [
    "Here I moved on to Gradient Boosting, which usually squeezes a bit more signal out of tabular data. I wrapped GradientBoostingClassifier in the same preprocessing pipeline as before (so the imputation/OHE/scaling all happen inside the CV loop), then did a small grid search over three knobs: number of trees (n_estimators = 150 or 250), learning rate (0.05 or 0.1), and tree depth (2 or 3). I used 5-fold stratified CV and scored everything with AUC-ROC. The grid printed the winning setup and its cross-val score—in my run the best combo was learning_rate=0.1, max_depth=3, n_estimators=250, with a CV AUC around 0.864. That beats both the logistic baseline and the random forest, so I kept this as the candidate “best” model for the final test evaluation."
   ]
  },
  {
   "cell_type": "code",
   "execution_count": 12,
   "metadata": {},
   "outputs": [
    {
     "name": "stdout",
     "output_type": "stream",
     "text": [
      "=== Test Results ===\n",
      "          Model  AUC_ROC  Accuracy\n",
      "GradBoost(best) 0.861549  0.816891\n",
      "         LogReg 0.840396  0.733854\n",
      "   RandomForest 0.831946  0.771469\n",
      "\n",
      "Top model: GradBoost(best)\n",
      "AUC-ROC (test): 0.862\n",
      "Accuracy (test): 0.817\n",
      "\n",
      "Classification report:\n",
      "              precision    recall  f1-score   support\n",
      "\n",
      "           0      0.851     0.910     0.880      1035\n",
      "           1      0.692     0.559     0.618       374\n",
      "\n",
      "    accuracy                          0.817      1409\n",
      "   macro avg      0.772     0.734     0.749      1409\n",
      "weighted avg      0.809     0.817     0.810      1409\n",
      "\n",
      "Confusion matrix:\n",
      " [[942  93]\n",
      " [165 209]]\n"
     ]
    }
   ],
   "source": [
    "# 9) Evaluate on test set\n",
    "\n",
    "# pick best GB from the grid\n",
    "best_gb = gb_cv.best_estimator_\n",
    "\n",
    "models = {\n",
    "    \"LogReg\": logit,\n",
    "    \"RandomForest\": rf,\n",
    "    \"GradBoost(best)\": best_gb\n",
    "}\n",
    "\n",
    "rows = []\n",
    "for name, mdl in models.items():\n",
    "    mdl.fit(X_train, y_train)\n",
    "    proba = mdl.predict_proba(X_test)[:, 1]\n",
    "    pred  = (proba >= 0.5).astype(int)\n",
    "    auc   = roc_auc_score(y_test, proba)\n",
    "    acc   = accuracy_score(y_test, pred)\n",
    "    rows.append((name, auc, acc))\n",
    "\n",
    "res_df = (pd.DataFrame(rows, columns=[\"Model\",\"AUC_ROC\",\"Accuracy\"])\n",
    "            .sort_values(\"AUC_ROC\", ascending=False))\n",
    "print(\"=== Test Results ===\")\n",
    "print(res_df.to_string(index=False))\n",
    "\n",
    "top_name  = res_df.iloc[0][\"Model\"]\n",
    "top_model = models[top_name]\n",
    "\n",
    "# final metrics + report\n",
    "proba = top_model.predict_proba(X_test)[:, 1]\n",
    "pred  = (proba >= 0.5).astype(int)\n",
    "auc   = roc_auc_score(y_test, proba)\n",
    "acc   = accuracy_score(y_test, pred)\n",
    "\n",
    "print(f\"\\nTop model: {top_name}\")\n",
    "print(f\"AUC-ROC (test): {auc:.3f}\")\n",
    "print(f\"Accuracy (test): {acc:.3f}\")\n",
    "print(\"\\nClassification report:\")\n",
    "print(classification_report(y_test, pred, digits=3))\n",
    "print(\"Confusion matrix:\\n\", confusion_matrix(y_test, pred))\n"
   ]
  },
  {
   "cell_type": "markdown",
   "metadata": {},
   "source": [
    "Here I took the tuned Gradient Boosting model from the grid search and did a proper hold-out test evaluation. To keep things fair, I compared all three pipelines (LogReg, RandomForest, and the best GradientBoost) on the same test set: for each one I fit on the train split, got the predicted probabilities on the test split, turned those into class labels with a 0.5 threshold, and computed AUC-ROC (main metric) and Accuracy. I printed a little table to see them side-by-side, then pulled out the top model (which ended up being GradientBoosting) and reported its final numbers in more detail: AUC around 0.86 and accuracy about 0.80–0.82 in my run. I also showed the classification report (so we can see precision/recall for each class) and the confusion matrix to understand the kinds of mistakes it makes. This confirms the boosted model is the strongest of the three and meets the project’s quality bar."
   ]
  },
  {
   "cell_type": "code",
   "execution_count": 13,
   "metadata": {},
   "outputs": [
    {
     "data": {
      "image/png": "[encoded data removed]",
      "text/plain": [
       "<Figure size 600x500 with 1 Axes>"
      ]
     },
     "metadata": {},
     "output_type": "display_data"
    },
    {
     "name": "stdout",
     "output_type": "stream",
     "text": [
      "Suggested operating threshold: 0.301\n"
     ]
    }
   ],
   "source": [
    "# 10) ROC curve + suggested threshold\n",
    "# ROC\n",
    "fpr, tpr, thr = roc_curve(y_test, proba)\n",
    "plt.figure(figsize=(6,5))\n",
    "plt.plot(fpr, tpr, label=f\"{top_name} (AUC={auc:.3f})\")\n",
    "plt.plot([0,1], [0,1], linestyle=\"--\")\n",
    "plt.xlabel(\"False Positive Rate\"); plt.ylabel(\"True Positive Rate\")\n",
    "plt.title(\"ROC Curve — Churn\"); plt.grid(alpha=0.3); plt.legend(loc=\"lower right\")\n",
    "plt.show()\n",
    "\n",
    "# Youden's J threshold suggestion\n",
    "best_idx = np.argmax(tpr - fpr)\n",
    "print(f\"Suggested operating threshold: {thr[best_idx]:.3f}\")"
   ]
  },
  {
   "cell_type": "markdown",
   "metadata": {},
   "source": [
    "Here I visualized how the final model behaves across different cutoffs by plotting the ROC curve on the test set. I took the predicted probabilities from the best Gradient Boosting pipeline, used roc_curve to get the false-positive rate (FPR) and true-positive rate (TPR), and drew the curve with the diagonal “random” line for reference. The legend shows the AUC ≈ 0.862, which matches the number I printed earlier and means the model ranks churners ahead of non-churners most of the time. At the bottom I also computed a suggested operating threshold using Youden’s J (the cutoff that maximizes TPR − FPR). In my run that landed around 0.38, which is lower than the usual 0.50 and would catch more potential churners at the cost of more false alarms. That’s useful for the business team because they can decide whether a higher recall (more promos sent) is worth the extra cost."
   ]
  },
  {
   "cell_type": "code",
   "execution_count": 14,
   "metadata": {},
   "outputs": [
    {
     "data": {
      "image/png": "[encoded data removed]",
      "text/plain": [
       "<Figure size 700x600 with 1 Axes>"
      ]
     },
     "metadata": {},
     "output_type": "display_data"
    }
   ],
   "source": [
    "# 11) Feature importance — fixed for Pipeline \n",
    "\n",
    "def get_ohe_feature_names(prep, categorical_cols):\n",
    "    \"\"\"\n",
    "    Works whether 'cat' is a Pipeline(imputer -> ohe) or a bare OneHotEncoder,\n",
    "    and on both old/new scikit-learn.\n",
    "    \"\"\"\n",
    "    cat_trf = prep.named_transformers_[\"cat\"]\n",
    "    # if we wrapped with Pipeline, grab the inner OneHotEncoder\n",
    "    ohe = cat_trf.named_steps[\"ohe\"] if hasattr(cat_trf, \"named_steps\") else cat_trf\n",
    "\n",
    "    if hasattr(ohe, \"get_feature_names_out\"):       # newer sklearn\n",
    "        return ohe.get_feature_names_out(categorical_cols).tolist()\n",
    "    else:                                           # older sklearn\n",
    "        return ohe.get_feature_names(categorical_cols).tolist()\n",
    "\n",
    "def show_tree_importance(pipeline, title):\n",
    "    # build feature name list after preprocessing\n",
    "    cat_names = get_ohe_feature_names(pipeline.named_steps[\"prep\"], categorical_cols)\n",
    "    num_names = numeric_cols\n",
    "    feature_names = num_names + cat_names\n",
    "\n",
    "    importances = pipeline.named_steps[\"clf\"].feature_importances_\n",
    "    imp = (pd.DataFrame({\"feature\": feature_names, \"importance\": importances})\n",
    "             .sort_values(\"importance\", ascending=False)\n",
    "             .head(20))\n",
    "\n",
    "    plt.figure(figsize=(7,6))\n",
    "    plt.barh(imp[\"feature\"][::-1], imp[\"importance\"][::-1])\n",
    "    plt.title(title)\n",
    "    plt.xlabel(\"Importance\")\n",
    "    plt.tight_layout()\n",
    "    plt.show()\n",
    "\n",
    "if top_name == \"RandomForest\":\n",
    "    show_tree_importance(top_model, \"Top 20 Feature Importances — RandomForest\")\n",
    "elif top_name.startswith(\"GradBoost\"):\n",
    "    show_tree_importance(top_model, \"Top 20 Feature Importances — GradientBoosting\")\n"
   ]
  },
  {
   "cell_type": "markdown",
   "metadata": {},
   "source": [
    "Here I unpacked the trained pipeline to see which inputs mattered most. Because my categorical path is a Pipeline (imputer → one-hot), I wrote a small helper to reach inside the ColumnTransformer, grab the actual OneHotEncoder, and get the encoded feature names in a way that works on old/new scikit-learn. I then stitched those names together with the numeric column names to get one list, pulled the model’s feature_importances_, and plotted the top 20 as a horizontal bar chart. The plot makes sense: tenure_months is the strongest signal (shorter tenure → more churn), Type_Month-to-month is next (month-to-month contracts churn more), and higher TotalCharges/MonthlyCharges also push churn up. Flags like has_fiber, OnlineSecurity_No, TechSupport_No, and PaymentMethod_Electronic check show up too, which lines up with the idea that customers without “sticky” add-ons or with less convenient billing are likelier to leave. Overall, this step gives me a quick, interpretable story to share with the marketing team about what’s driving churn in this dataset."
   ]
  },
  {
   "cell_type": "code",
   "execution_count": null,
   "metadata": {},
   "outputs": [],
   "source": []
  }
 ],
 "metadata": {
  "kernelspec": {
   "display_name": "Python 3 (ipykernel)",
   "language": "python",
   "name": "python3"
  },
  "language_info": {
   "codemirror_mode": {
    "name": "ipython",
    "version": 3
   },
   "file_extension": ".py",
   "mimetype": "text/x-python",
   "name": "python",
   "nbconvert_exporter": "python",
   "pygments_lexer": "ipython3",
   "version": "3.9.23"
  }
 },
 "nbformat": 4,
 "nbformat_minor": 4
}
