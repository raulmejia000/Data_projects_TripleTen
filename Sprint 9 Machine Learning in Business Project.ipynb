{
 "cells": [
  {
   "cell_type": "markdown",
   "metadata": {},
   "source": [
    "<div style=\"border:solid blue 2px; padding: 20px\">\n",
    "\n",
    "**Overall Summary of the Project**\n",
    "\n",
    "Hi Raul! Your notebook is clear, logically structured, and meets most of the business objectives — nice work 🎉.  \n",
    "Below you’ll find what already shines, a couple of optional polish ideas, and the **critical tweaks** we still need before final approval.\n",
    "\n",
    "---\n",
    "\n",
    "**✅ Strengths**\n",
    "\n",
    "* Very clean data-prep (NA / duplicate checks, dropped the `id` column).  \n",
    "* Consistent `random_state=42` in the splits for reproducibility.  \n",
    "* Concise helper-functions (`train_and_validate`, `calculate_profit`, `bootstrap_profit`) keep the code DRY.  \n",
    "* Good business narrative — every step ties model results back to profit.\n",
    "\n",
    "---\n",
    "\n",
    "**❗ Critical changes required (blockers)**  \n",
    "\n",
    "* **Budget constant should be 100 M, not 10 M**  \n",
    "  The current setting inflates every profit estimate and forces loss-risk to 0 %.  \n",
    "  <code>BUDGET = 100_000_000</code>\n",
    "\n",
    "* **Keep predictions and actual reserves aligned inside each bootstrap sample**  \n",
    "  Resetting the index separately breaks the 1-to-1 correspondence.  \n",
    "  ```python\n",
    "  def bootstrap_profit(preds, actual, iterations=1000, top_n=200):\n",
    "      df  = pd.DataFrame({'pred': preds, 'act': actual})\n",
    "      rng = np.random.RandomState(42)\n",
    "      profits = []\n",
    "\n",
    "      for _ in range(iterations):\n",
    "          sample = df.sample(n=500, replace=True, random_state=rng)  # same indices for both columns\n",
    "          best   = sample.nlargest(top_n, 'pred')                    # rank by prediction\n",
    "          profit = best['act'].sum() * 4_500 - 100_000_000           # sum *actual* reserves\n",
    "          profits.append(profit)\n",
    "\n",
    "      return pd.Series(profits)\n",
    "  ```\n",
    "\n",
    "* **Re-evaluate each region with the corrected bootstrap and budget**  \n",
    "  ```python\n",
    "  profits_1 = bootstrap_profit(pred_1, actual_1)      # Region 1 example\n",
    "  mean_1     = profits_1.mean()\n",
    "  loss_1     = (profits_1 < 0).mean() * 100\n",
    "  print(f\"Mean profit: ${mean_1:,.0f},  Loss risk: {loss_1:.2f}%\")\n",
    "  ```  \n",
    "\n",
    "  Approve whichever region still satisfies **loss-risk ≤ 2.5 %** and has the highest mean profit — Region 1 will likely remain the safest, but please verify after rerunning.\n",
    "\n",
    "---\n",
    "\n",
    "Apply these tweaks, rerun the last section, and you should be all set for approval.  \n",
    "Ping me if anything’s unclear — happy to help!\n",
    "\n",
    "</div>"
   ]
  },
  {
   "cell_type": "markdown",
   "metadata": {},
   "source": [
    "<div style=\"border:solid blue 2px; padding: 20px\">\n",
    "\n",
    "**Overall Summary of the Project Iter 2**\n",
    "\n",
    "Thanks for the changes, Raul! Your code looks perfect now!! Just a minor thing, you didn't update your conclusion:\n",
    "\n",
    "\"Final Conclusion\n",
    "\n",
    "After running all the models and doing the profit/risk analysis, Region 1 stood out as the safest choice. It had the lowest RMSE, solid average profit, and the risk of losses was 0%, just like Region 0 and 2. But what makes Region 1 better is that it has more consistent returns based on the confidence interval being very tight. So, if I had to recommend a region for OilyGiant to invest in, I’d definitely go with Region 1.\"\n",
    "\n",
    "This is not correct anymore, update it based on the real risk of losses (not 0% anymore) ;)\n",
    "\n",
    "After that, you are ready for approval, I'll be waiting for your final update. You got it !!"
   ]
  },
  {
   "cell_type": "markdown",
   "metadata": {},
   "source": [
    "<div style=\"border:solid blue 2px; padding: 20px\">\n",
    "\n",
    "**Overall Summary of the Project Iter 3**\n",
    "\n",
    "Congrats on your approval, Raul! ;)"
   ]
  },
  {
   "cell_type": "markdown",
   "metadata": {},
   "source": [
    "Predicting Profitable Oil Wells with Machine Learning\n",
    "\n",
    "Introduction\n",
    "\n",
    "In this project, I worked with data from three different oil regions to help the company decide where to drill a new oil well. The goal was to build a model to predict oil reserves and figure out which region would be the most profitable with the least risk. I followed several steps, including training models, calculating potential profits, and using bootstrapping to evaluate risk."
   ]
  },
  {
   "cell_type": "code",
   "execution_count": 1,
   "metadata": {},
   "outputs": [],
   "source": [
    "# Step 1: Import the necessary libraries\n",
    "import pandas as pd\n",
    "import numpy as np\n",
    "from sklearn.linear_model import LinearRegression\n",
    "from sklearn.model_selection import train_test_split\n",
    "from sklearn.metrics import mean_squared_error\n"
   ]
  },
  {
   "cell_type": "code",
   "execution_count": 2,
   "metadata": {},
   "outputs": [],
   "source": [
    "# Step 2: Load all three datasets for each region\n",
    "data_0 = pd.read_csv('/datasets/geo_data_0.csv')\n",
    "data_1 = pd.read_csv('/datasets/geo_data_1.csv')\n",
    "data_2 = pd.read_csv('/datasets/geo_data_2.csv')"
   ]
  },
  {
   "cell_type": "code",
   "execution_count": 3,
   "metadata": {},
   "outputs": [
    {
     "name": "stdout",
     "output_type": "stream",
     "text": [
      "Region 0 — rows: 100000, missing values: 0, duplicates: 0\n",
      "Region 1 — rows: 100000, missing values: 0, duplicates: 0\n",
      "Region 2 — rows: 100000, missing values: 0, duplicates: 0\n"
     ]
    }
   ],
   "source": [
    "# Step 3: Check for missing and duplicate values to ensure data quality\n",
    "datasets = [data_0, data_1, data_2]\n",
    "\n",
    "for i, df in enumerate(datasets):\n",
    "    print(f\"Region {i} — rows: {df.shape[0]}, missing values: {df.isna().sum().sum()}, duplicates: {df.duplicated().sum()}\")\n"
   ]
  },
  {
   "cell_type": "markdown",
   "metadata": {},
   "source": [
    "First, I imported all the libraries I needed, like pandas for data wrangling, numpy for calculations, and sklearn for building the machine learning model.\n",
    "Next, I loaded the datasets for each region. These files contain features from oil wells and a target column called product, which tells how much oil (in thousands of barrels) a well is expected to produce.\n",
    "I checked each dataset for missing or duplicate values to make sure there’s no dirty data that could mess up the model training. Thankfully, things looked pretty clean!"
   ]
  },
  {
   "cell_type": "code",
   "execution_count": 4,
   "metadata": {},
   "outputs": [],
   "source": [
    "# Step 4: Function to train the model and make predictions\n",
    "def train_and_validate(data):\n",
    "    features = data.drop(['product', 'id'], axis=1)\n",
    "    target = data['product']\n",
    "    \n",
    "    X_train, X_valid, y_train, y_valid = train_test_split(\n",
    "        features, target, test_size=0.25, random_state=42)\n",
    "    \n",
    "    model = LinearRegression()\n",
    "    model.fit(X_train, y_train)\n",
    "    \n",
    "    predictions = model.predict(X_valid)\n",
    "    rmse = mean_squared_error(y_valid, predictions, squared=False)\n",
    "    \n",
    "    print(f\"Predicted mean: {predictions.mean():.2f}\")\n",
    "    print(f\"Model RMSE: {rmse:.2f}\")\n",
    "    \n",
    "    return pd.Series(predictions), y_valid.reset_index(drop=True)\n"
   ]
  },
  {
   "cell_type": "code",
   "execution_count": 5,
   "metadata": {},
   "outputs": [
    {
     "name": "stdout",
     "output_type": "stream",
     "text": [
      "Region 0:\n",
      "Predicted mean: 92.40\n",
      "Model RMSE: 37.76\n",
      "\n",
      "Region 1:\n",
      "Predicted mean: 68.71\n",
      "Model RMSE: 0.89\n",
      "\n",
      "Region 2:\n",
      "Predicted mean: 94.77\n",
      "Model RMSE: 40.15\n"
     ]
    }
   ],
   "source": [
    "# Step 5: Run the model for each region and store predictions\n",
    "print(\"Region 0:\")\n",
    "pred_0, actual_0 = train_and_validate(data_0)\n",
    "\n",
    "print(\"\\nRegion 1:\")\n",
    "pred_1, actual_1 = train_and_validate(data_1)\n",
    "\n",
    "print(\"\\nRegion 2:\")\n",
    "pred_2, actual_2 = train_and_validate(data_2)\n"
   ]
  },
  {
   "cell_type": "markdown",
   "metadata": {},
   "source": [
    "To see how well our model could predict oil reserves, I wrote a function that trains a simple linear regression model. I split each dataset into training and validation sets using a 75/25 split. Then, I trained the model and made predictions on the validation data. I also calculated the RMSE to see how accurate the model was for each region. I ran this process for all three regions and printed the average predicted reserves and the model’s RMSE. This step helped me compare how well the model performed in each region and gave me an idea of how reliable the predictions might be moving forward."
   ]
  },
  {
   "cell_type": "code",
   "execution_count": 6,
   "metadata": {},
   "outputs": [
    {
     "name": "stdout",
     "output_type": "stream",
     "text": [
      "\n",
      "Break-even volume: 111.11 thousand barrels\n"
     ]
    }
   ],
   "source": [
    "# Step 6: Set up constants for profit calculations\n",
    "\n",
    "BUDGET = 100_000_000  # this was the major bug!\n",
    "WELLS_TO_SELECT = 200\n",
    "REVENUE_PER_BARREL = 4.5\n",
    "REVENUE_PER_1000_BARRELS = REVENUE_PER_BARREL * 1000\n",
    "WELL_COST = BUDGET / WELLS_TO_SELECT\n",
    "\n",
    "# Calculate the break-even volume per well\n",
    "break_even_volume = WELL_COST / REVENUE_PER_1000_BARRELS\n",
    "print(f\"\\nBreak-even volume: {break_even_volume:.2f} thousand barrels\")\n"
   ]
  },
  {
   "cell_type": "markdown",
   "metadata": {},
   "source": [
    "In this step, I set up all the constants I needed for the profit calculations. This includes the total budget, how many wells we're planning to develop (200), and how much revenue we make per barrel. I used those values to figure out how much revenue we earn per 1,000 barrels and how much each well costs. Then I calculated the break-even volume — basically, how much oil a well needs to produce so we don’t lose money. This value will help us later when we’re figuring out which wells are actually worth developing."
   ]
  },
  {
   "cell_type": "code",
   "execution_count": 7,
   "metadata": {},
   "outputs": [],
   "source": [
    "# Step 7: Define a function to calculate profit\n",
    "def calculate_profit(preds, actual):\n",
    "    top_indices = preds.sort_values(ascending=False).head(WELLS_TO_SELECT).index\n",
    "    total_profit = actual[top_indices].sum() * REVENUE_PER_1000_BARRELS - BUDGET\n",
    "    return total_profit\n"
   ]
  },
  {
   "cell_type": "code",
   "execution_count": 8,
   "metadata": {},
   "outputs": [
    {
     "name": "stdout",
     "output_type": "stream",
     "text": [
      "\n",
      "Estimated profit per region:\n",
      "Region 0: $33,591,411.14\n",
      "Region 1: $24,150,866.97\n",
      "Region 2: $25,985,717.59\n"
     ]
    }
   ],
   "source": [
    "# Step 8: Estimate profit in each region\n",
    "print(\"\\nEstimated profit per region:\")\n",
    "print(f\"Region 0: ${calculate_profit(pred_0, actual_0):,.2f}\")\n",
    "print(f\"Region 1: ${calculate_profit(pred_1, actual_1):,.2f}\")\n",
    "print(f\"Region 2: ${calculate_profit(pred_2, actual_2):,.2f}\")"
   ]
  },
  {
   "cell_type": "markdown",
   "metadata": {},
   "source": [
    "To figure out how much profit we could expect in each region, I created a function that selects the top 200 wells with the highest predicted reserves. Then, it sums up their actual reserves, multiplies that by the profit per thousand barrels, and subtracts the total budget. This gave me a rough estimate of how profitable each region might be based purely on the predictions from the model. It's not perfect, but it helped me compare the regions and get a sense of which one looked the most promising before running the bootstrapping analysis."
   ]
  },
  {
   "cell_type": "code",
   "execution_count": 9,
   "metadata": {},
   "outputs": [],
   "source": [
    "# Step 9: Use bootstrapping to evaluate risk and uncertainty\n",
    "def bootstrap_profit(preds, actual, iterations=1000, top_n=200):\n",
    "    df = pd.DataFrame({'pred': preds, 'actual': actual})\n",
    "    profits = []\n",
    "    rng = np.random.RandomState(42)\n",
    "    \n",
    "    for _ in range(iterations):\n",
    "        sample = df.sample(n=500, replace=True, random_state=rng)\n",
    "        top_wells = sample.nlargest(top_n, 'pred')\n",
    "        profit = top_wells['actual'].sum() * REVENUE_PER_1000_BARRELS - BUDGET\n",
    "        profits.append(profit)\n",
    "    \n",
    "    return pd.Series(profits)"
   ]
  },
  {
   "cell_type": "code",
   "execution_count": 10,
   "metadata": {},
   "outputs": [
    {
     "name": "stdout",
     "output_type": "stream",
     "text": [
      "\n",
      "Region 0:\n",
      "Average profit: $3,995,754.78\n",
      "95% CI: ($-1,104,678.95, $8,974,603.28)\n",
      "Risk of loss: 6.00%\n",
      "\n",
      "Region 1:\n",
      "Average profit: $4,520,488.91\n",
      "95% CI: ($616,844.80, $8,453,401.78)\n",
      "Risk of loss: 1.50%\n",
      "\n",
      "Region 2:\n",
      "Average profit: $3,750,099.03\n",
      "95% CI: ($-1,447,667.27, $8,883,904.04)\n",
      "Risk of loss: 8.00%\n"
     ]
    }
   ],
   "source": [
    "# Step 10: Run bootstrapping for all regions\n",
    "for i, (preds, actual) in enumerate([\n",
    "    (pred_0, actual_0), (pred_1, actual_1), (pred_2, actual_2)]\n",
    "):\n",
    "    profits = bootstrap_profit(preds, actual)\n",
    "    avg_profit = profits.mean()\n",
    "    ci_lower = profits.quantile(0.025)\n",
    "    ci_upper = profits.quantile(0.975)\n",
    "    risk = (profits < 0).mean() * 100\n",
    "    \n",
    "    print(f\"\\nRegion {i}:\")\n",
    "    print(f\"Average profit: ${avg_profit:,.2f}\")\n",
    "    print(f\"95% CI: (${ci_lower:,.2f}, ${ci_upper:,.2f})\")\n",
    "    print(f\"Risk of loss: {risk:.2f}%\")\n"
   ]
  },
  {
   "cell_type": "markdown",
   "metadata": {},
   "source": [
    "To better understand how reliable the profit estimates are for each region, I used the bootstrapping technique. This basically means I repeated the profit calculation 1,000 times, each time randomly picking 500 wells (with replacement) and selecting the top 200 predicted wells to estimate profit. Doing this helps account for randomness in the selection process.\n",
    "\n",
    "After running the simulation, I looked at the average profit for each region, along with a 95% confidence interval and the percentage of cases where profit turned out negative (which I used as the risk of loss). This gave me a much clearer picture — not just of which region has the highest average returns, but which ones are actually stable and less risky. This step really helped narrow down which region would be safest and smartest for investment.\n",
    "\n"
   ]
  },
  {
   "cell_type": "markdown",
   "metadata": {},
   "source": [
    "Final Conclusion \n",
    "\n",
    "After training the models, estimating profits, and running bootstrapping to assess risks, I found that Region 1 still comes out as the best option overall. It has the lowest risk of loss at 1.5%, which is under the 2.5% threshold we were aiming for. Its average profit is also solid, and even though Region 0 had a slightly higher profit, its risk level (6%) makes it a riskier bet.\n",
    "\n",
    "Region 1’s confidence interval was also much tighter compared to the others, which means the results are more stable and consistent. So based on all this, if I had to recommend a region for OilyGiant to invest in, Region 1 would be the smartest and safest choice."
   ]
  }
 ],
 "metadata": {
  "kernelspec": {
   "display_name": "Python 3 (ipykernel)",
   "language": "python",
   "name": "python3"
  },
  "language_info": {
   "codemirror_mode": {
    "name": "ipython",
    "version": 3
   },
   "file_extension": ".py",
   "mimetype": "text/x-python",
   "name": "python",
   "nbconvert_exporter": "python",
   "pygments_lexer": "ipython3",
   "version": "3.9.22"
  }
 },
 "nbformat": 4,
 "nbformat_minor": 4
}
